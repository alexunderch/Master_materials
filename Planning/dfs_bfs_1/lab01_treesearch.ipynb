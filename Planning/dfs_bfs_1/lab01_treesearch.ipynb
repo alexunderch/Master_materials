{
 "cells": [
  {
   "cell_type": "markdown",
   "metadata": {},
   "source": [
    "# Uninformed Tree Search Without Duplicates Detection\n",
    "In this lab you are going to implement basic tree search methods without duplicates detection:\n",
    "- ***BFS (Breadth First Search)***\n",
    "- ***DFS (Depth First Search)***\n",
    "- ***DFS-L (Depth First Search with Limited Depth)***\n",
    "- ***DFID (Depth First Iterative Deepening)***.\n",
    "\n",
    "Two widespread domains will be considered:\n",
    "- ***15-puzzle***\n",
    "- ***Panckakes***. \n",
    "\n",
    "For ***15-puzzle*** the code that defines `state` and `get_succesors` is already available. For ***Panckakes*** — you have to code it yourself. All search methods have to be coded by you as well, using the code stubs provided.\n",
    "\n",
    "Run every cell of the notebook and complete the described tasks. Good luck!"
   ]
  },
  {
   "cell_type": "code",
   "execution_count": 2,
   "metadata": {
    "tags": []
   },
   "outputs": [
    {
     "name": "stdout",
     "output_type": "stream",
     "text": [
      "Collecting numpy\n",
      "  Using cached numpy-1.24.2-cp39-cp39-manylinux_2_17_x86_64.manylinux2014_x86_64.whl (17.3 MB)\n",
      "Installing collected packages: numpy\n",
      "Successfully installed numpy-1.24.2\n",
      "\u001b[33mWARNING: You are using pip version 22.0.4; however, version 23.0 is available.\n",
      "You should consider upgrading via the '/home/alex_ch/Desktop/lab01-YourSurnameName/lab1/bin/python3.9 -m pip install --upgrade pip' command.\u001b[0m\u001b[33m\n",
      "\u001b[0mNote: you may need to restart the kernel to use updated packages.\n"
     ]
    }
   ],
   "source": [
    "%pip install numpy"
   ]
  },
  {
   "cell_type": "code",
   "execution_count": 895,
   "metadata": {
    "tags": []
   },
   "outputs": [],
   "source": [
    "import copy\n",
    "from typing import List, Callable\n",
    "import numpy as np"
   ]
  },
  {
   "cell_type": "markdown",
   "metadata": {},
   "source": [
    "## Gem Puzzle (15-puzzle or n-puzzle)\n",
    "\n",
    "The ***15-puzzle*** (also called ***Gem Puzzle***, Boss Puzzle, Game of Fifteen, Mystic Square and many others) is a sliding puzzle that consists of a frame of numbered square tiles in random order with one tile missing (the so-called blank tile). \n",
    "\n",
    "The size of the puzzle may vary. E.g. if the size of the field is $3\\times3$, the puzzle is called the 8-puzzle, and if the size of the field is $4 \\times 4$, the puzzle is called the 15-puzzle. \n",
    "\n",
    "The task is to place the tiles in order (see the figure below) by sliding them. Indeed you can slide a tile only to a blank one (that's way one can think of actually sliding the blank tile).\n",
    "\n",
    "Note, that half of the initial configurations for the n-puzzle are impossible to resolve, no matter how many moves are made. See [[Wikipedia](https://en.wikipedia.org/wiki/15_puzzle)] for more info. "
   ]
  },
  {
   "cell_type": "markdown",
   "metadata": {
    "tags": []
   },
   "source": [
    "![puzzle](img/gem_puzzle.png)"
   ]
  },
  {
   "cell_type": "markdown",
   "metadata": {},
   "source": [
    "### Representation of a search state for the Gem Puzzle\n",
    "\n",
    "Indeed, there may exist many ways to represent a search state for the Gem Puzzle. In this lab we will use a a list of integers as an external encoding of the Gem Puzzle state. This list is assumed to contain numbers from 1 to (*size* * *size*), where *size* is the size of the puzzle. The tile with the number *size* * *size* is a blank tile.\n",
    "\n",
    "For example, the encoding of the start state of the 8-puzzle depicted above will be \\[7,2,4,5,9,6,8,3,1\\].\n",
    "\n",
    "Internally, we will use a 2-dimensional numpy array to store puzzle states. \n"
   ]
  },
  {
   "cell_type": "code",
   "execution_count": 896,
   "metadata": {
    "tags": []
   },
   "outputs": [],
   "source": [
    "import copy\n",
    "from typing import List, Callable\n",
    "import numpy as np\n",
    "\n",
    "\n",
    "class GemPuzzleState:\n",
    "    \"\"\"\n",
    "    Implementing search state (or simply — state) in code\n",
    "    is a very important first step needed to tackle any search problem.\n",
    "    The suggested implementation (not the only one possible, obviously)\n",
    "    of the `GemPuzzleState` is comprised of the following fields:\n",
    "\n",
    "    Attributes\n",
    "    ----------\n",
    "    size : int\n",
    "        Width of game field.\n",
    "\n",
    "    tile_matrix : ndarray[int, ndim=2]\n",
    "        Tile positions represented as a 2d array of integers. This array is\n",
    "        expected to contain values from `1` to `size * size`. Each integer\n",
    "        value corresponds to a tile and the position in the array (row and column)\n",
    "        corresponds to the position of the tile on the game field.\n",
    "        Tile with the value `size * size` is assumed to represent blank position.\n",
    "\n",
    "    parent : GemPuzzleState\n",
    "        Pointer to the parent-state. Parent is a predecessor of the state\n",
    "        in the search-tree. It is used to reconstrruct a path to that\n",
    "        state from the start state (root of the search tree).\n",
    "\n",
    "    blank_pos : ndarray[int, ndim=1]\n",
    "        Position (row and column) of empty tile in tile_matrix.\n",
    "        Explicitly storing the position of a blank helps to generate\n",
    "        successors faster.\n",
    "    \"\"\"\n",
    "\n",
    "    def __init__(self, tile_list: List[int]):\n",
    "        \"\"\"\n",
    "        Constructor. Sets tile positions and some basic checks.\n",
    "\n",
    "        Parameters\n",
    "        ----------\n",
    "        tile_list : List[int]\n",
    "            Tile positions represented as a list of integers. This list is expected to contain\n",
    "            values from `1` to `size * size`. Each integer value corresponds to a tile and\n",
    "            the position in the list (index) corresponds to the position of the tile on the game field.\n",
    "            Tile with the value `size * size` is assumed to represent blank position.\n",
    "        \"\"\"\n",
    "        self.size = int(len(tile_list) ** 0.5)\n",
    "        blank_value = self.size ** 2\n",
    "        if (blank_value != len(tile_list)):\n",
    "            raise Exception(\n",
    "                \"The tile list must contain the number of elements which \\\n",
    "                is equal to the square of an integer!\")\n",
    "\n",
    "        self.tile_matrix = np.array(\n",
    "            tile_list, dtype=np.int16).reshape(\n",
    "            (self.size, self.size))\n",
    "\n",
    "        # Memorizing the position of a blank tile\n",
    "        # Technically, there is no need to do so,\n",
    "        # but it makes to get the successors a bit faster\n",
    "        blank_poses = np.argwhere(self.tile_matrix == blank_value)\n",
    "        if (len(blank_poses) != 1):\n",
    "            raise Exception(\n",
    "                \"State should contains single max value as position to blank tile\")\n",
    "        self.blank_pos = blank_poses[0]\n",
    "        \n",
    "        # The parent state (predecessor in the search tree) will be set up by\n",
    "        # the search algorithm.\n",
    "        self.parent = None\n",
    "\n",
    "\n",
    "    def __eq__(self, other):\n",
    "        \"\"\"\n",
    "        Comparing one state with the other state.\n",
    "        \"\"\"\n",
    "        return np.array_equal(self.tile_matrix, other.tile_matrix)\n",
    "\n",
    "\n",
    "    def __str__(self) -> str:\n",
    "        \"\"\"\n",
    "        String representation of game field for printing\n",
    "        \"\"\"\n",
    "        blank_value = self.size ** 2\n",
    "        result = str(self.tile_matrix).replace(' [','')\\\n",
    "            .replace('[','').replace(']','').replace(str(blank_value),'_') + '\\n'\n",
    "        return result\n"
   ]
  },
  {
   "cell_type": "markdown",
   "metadata": {},
   "source": [
    "### Get Succesors"
   ]
  },
  {
   "cell_type": "code",
   "execution_count": 897,
   "metadata": {
    "tags": []
   },
   "outputs": [],
   "source": [
    "def get_successors(state: GemPuzzleState) -> List[GemPuzzleState]:\n",
    "    \"\"\"\n",
    "    Implementing `get_successors` function is another important step to tackle any search problem.\n",
    "    This function is presumed to take a particular search state as the input and to return all \n",
    "    possible succesors states. i.e. the ones that result from applying all applicable actions to \n",
    "    the input state. In case of GemPuzzle the succesors correspond to the board states resulting \n",
    "    from moving blank up/down/left/right. If blank goes out of the field after a move, \n",
    "    such successor should obviously be discarded.\n",
    "\n",
    "    Parameters\n",
    "    ----------\n",
    "    state : GemPuzzleState\n",
    "        The input search state. \n",
    "\n",
    "    Returns\n",
    "    -------\n",
    "    List[GemPuzzleState]\n",
    "        List with all possible succesors states for input state.\n",
    "    \"\"\"\n",
    "    delta = np.array([[0, 1], [1, 0], [0, -1], [-1, 0]])\n",
    "    successors = []\n",
    "    for d in delta:\n",
    "        new_pos = state.blank_pos + d   # Computing new column and row for blank tile \n",
    "                                        # (corresponding to a particular move encoded via 'd')\n",
    "        \n",
    "        # If the new position of a blank is valid (i.e. it is still within the field) then\n",
    "        # a corresponding sucessor should be added to the succesors' list\n",
    "        if (0 <= new_pos[0] < state.size) and (0 <= new_pos[1] < state.size):\n",
    "            new_state = copy.deepcopy(state)\n",
    "            new_state.tile_matrix[tuple(new_state.blank_pos)] = \\\n",
    "                                        new_state.tile_matrix[tuple(new_pos)] # Moving tile\n",
    "            new_state.tile_matrix[tuple(new_pos)] = new_state.size ** 2 # Setting blank\n",
    "            new_state.blank_pos = new_pos\n",
    "            new_state.parent = state\n",
    "            successors.append(new_state)\n",
    "\n",
    "    return successors"
   ]
  },
  {
   "cell_type": "markdown",
   "metadata": {},
   "source": [
    "### Goal check"
   ]
  },
  {
   "cell_type": "code",
   "execution_count": 898,
   "metadata": {
    "tags": []
   },
   "outputs": [],
   "source": [
    "def state_is_goal(state: GemPuzzleState):\n",
    "    \"\"\"\n",
    "    Handy function that returns `True` if the input `state` corresponds \n",
    "    to the goal one (i.e. all tiles are in their places), and `False` otherwise\n",
    "    \"\"\"\n",
    "    goal_list = np.arange(1, state.size ** 2 + 1).reshape(state.size, state.size)\n",
    "    return np.array_equal(state.tile_matrix, goal_list)"
   ]
  },
  {
   "cell_type": "markdown",
   "metadata": {},
   "source": [
    "### Path checking"
   ]
  },
  {
   "cell_type": "code",
   "execution_count": 899,
   "metadata": {
    "tags": []
   },
   "outputs": [],
   "source": [
    "def check_path(last_state: GemPuzzleState):\n",
    "    \"\"\"\n",
    "    Auxiliary function that takes the `last_state` and checks whether this state is a goal. \n",
    "    If yes, it unwinds the path using the backpointers and checks whether each successor is \n",
    "    reachable from its predecessor.\n",
    "    \"\"\"\n",
    "    curr = last_state\n",
    "    if not state_is_goal(curr):\n",
    "        print(\"Goal was not reached!\")\n",
    "        return False\n",
    "\n",
    "    while curr.parent is not None:\n",
    "        prev = curr.parent\n",
    "        if (curr not in get_successors(prev)):\n",
    "            print(\"Unacceptable step!\")\n",
    "            return False                \n",
    "        curr = prev\n",
    "    return True"
   ]
  },
  {
   "cell_type": "markdown",
   "metadata": {},
   "source": [
    "### Path unwinding\n",
    "Typically the paths are not stored within a search explicitly, but rather implicitly via the parent pointers (pointing to the predecessor in the search tree). Thus, when we reach the goal state and want to reconstruct the whole path we need to trace the parent pointers back to the root of the tree."
   ]
  },
  {
   "cell_type": "code",
   "execution_count": 900,
   "metadata": {
    "tags": []
   },
   "outputs": [],
   "source": [
    "def get_path(last_state: GemPuzzleState):\n",
    "    \"\"\"\n",
    "    This function takes a state `last_state` as an input and \n",
    "    returns a path to this state from the root of the tree.\n",
    "    \"\"\"\n",
    "    path = []\n",
    "    curr = last_state\n",
    "    while curr is not None:\n",
    "        path.append(curr)\n",
    "        curr = curr.parent\n",
    "    return path"
   ]
  },
  {
   "cell_type": "markdown",
   "metadata": {},
   "source": [
    "## Automated Tests to Check the Implementations of the Search Algorithms\n",
    "When you finish implementing search algorithms you need to test them, right? The following functions will help you in that. They take your search algorithm as an input and run it on a single simple test (`simple_test`) and on a series of more involved tests (`massive_test`).\n",
    "\n",
    "These automated tests assume that the seach function, passed as the input, has the following structure:\n",
    "\n",
    "`search_function(start_state, *optional arguments*) -> (path_found, last_state)`, where\n",
    "\n",
    "- `start_state` — initial state\n",
    "- `*optional arguments*` — additional parameters of the search function (if needed), passed via `*args`\n",
    "- `path_found` — result of the search, `True` if path was found, `False` otherwise\n",
    "- `last_state` — last state of path. `None` if path was not found"
   ]
  },
  {
   "cell_type": "code",
   "execution_count": 901,
   "metadata": {
    "tags": []
   },
   "outputs": [],
   "source": [
    "def simple_test(search_function: Callable, *args):\n",
    "    \"\"\"\n",
    "    Function `simple_test` runs `search_function` on a simple 2 x 2 sliding \n",
    "    puzzle instance (encoded as [3, 1, 2, 4]).\n",
    "\n",
    "    The output is as follows:\n",
    "    - 'Path is OK' and list of states of path — path was found and it is correct\n",
    "    - 'Path is not OK' — path was found but it is not correct \n",
    "    - 'Path not found' — path was not found \n",
    "    - 'Execution error' — an error occurred while executing the `SearchFunction` or path validation function\n",
    "\n",
    "    Parameters\n",
    "    ----------\n",
    "    search_function : Callable\n",
    "        Implementation of search method.\n",
    "    \"\"\"\n",
    "    start_state = GemPuzzleState([3,1,2,4])\n",
    "    try:\n",
    "        result = search_function(start_state, *args)\n",
    "        curr = result[1]\n",
    "        if(result[0]):\n",
    "            if(check_path(curr)):\n",
    "                print(\"Path is OK!\")\n",
    "                path = get_path(result[1])\n",
    "                while len(path) != 0:\n",
    "                    s = path.pop()\n",
    "                    print(s)\n",
    "            else:\n",
    "                print(\"Path is not OK\")\n",
    "        else:\n",
    "            print(\"Path not found\")\n",
    "    except Exception as e:\n",
    "        print(\"Execution error\")\n",
    "        print(e)"
   ]
  },
  {
   "cell_type": "code",
   "execution_count": 902,
   "metadata": {
    "tags": []
   },
   "outputs": [],
   "source": [
    "def massive_test(search_function: Callable, *args):\n",
    "    \"\"\"\n",
    "    Function `massive_test` runs `search_function` on set of different tasks (stored in `data/task_gem.txt`). \n",
    "    Initially this file contains 4 different 2 x 2 sliding puzzle instances and 4 different 3 x 3 \n",
    "    sliding puzzle instances (you can add more if you want). Each instance starts from a new line and\n",
    "    is represented as a sequence of integers separated by spaces.\n",
    "\n",
    "    The output is similar to `simple_test` (however the explicit paths for the solved instances are not displayed):\n",
    "\n",
    "    - 'Path is OK' and path length — path was found and it is correct\n",
    "    - 'Path is not OK' — path was found but it is not correct \n",
    "    - 'Path not found' — path was not found\n",
    "    - 'Execution error' — an error occurred  while executing the `search_function` or path validation function\n",
    "\n",
    "    Parameters\n",
    "    ----------\n",
    "    search_function : Callable\n",
    "        Implementation of search method.\n",
    "    \"\"\"\n",
    "    \n",
    "    tasks_file = open('data/tasks_gem.txt')\n",
    "    count = 0\n",
    "    for l in tasks_file:\n",
    "        count += 1\n",
    "        state = list(map(int, l.split()))\n",
    "        task = GemPuzzleState(state)\n",
    "        try:\n",
    "            result = search_function(task, *args)\n",
    "            curr = result[1]\n",
    "            if(result[0]):\n",
    "                if(check_path(curr)):\n",
    "                    path = get_path(result[1])\n",
    "                    print(\"Task:\", count, \"Path is OK! Path length:\", len(path))\n",
    "                else:\n",
    "                    print(\"Task:\", count, \"Path is not OK!\")\n",
    "            else:\n",
    "                print(\"Task:\", count,  \"Path not found(\")\n",
    "        except Exception as e:\n",
    "            print(\"Task:\", count, \"Execution error\")\n",
    "            print(e)\n",
    "        "
   ]
  },
  {
   "cell_type": "markdown",
   "metadata": {},
   "source": [
    "## Search Algorithms Implementation\n",
    "\n",
    "\n",
    "Recall again here that *dublicate detection must not be coded* in this assignment."
   ]
  },
  {
   "cell_type": "markdown",
   "metadata": {},
   "source": [
    "### Breadth-First Search (BFS)"
   ]
  },
  {
   "cell_type": "code",
   "execution_count": 903,
   "metadata": {
    "tags": []
   },
   "outputs": [],
   "source": [
    "def bfs(start):\n",
    "    \"\"\"\n",
    "    Implementation of Breadth-First Search algorithm.\n",
    "    \"\"\"\n",
    "\n",
    "    path_found = False\n",
    "    res_state = None\n",
    "    \n",
    "    visited = [start]\n",
    "    queue = [start]\n",
    "    \n",
    "    while queue:          \n",
    "        next_state = queue.pop(0)\n",
    "        \n",
    "        if state_is_goal(next_state):\n",
    "            res_state = next_state\n",
    "            path_found = True\n",
    "            return (path_found, res_state)\n",
    "            \n",
    "        \n",
    "        for neighbour in get_successors(next_state):\n",
    "            if neighbour not in visited:\n",
    "                visited.append(neighbour)\n",
    "                queue.append(neighbour)\n",
    "    \n",
    "    return (path_found, res_state)\n"
   ]
  },
  {
   "cell_type": "code",
   "execution_count": 904,
   "metadata": {
    "tags": []
   },
   "outputs": [
    {
     "name": "stdout",
     "output_type": "stream",
     "text": [
      "Path is OK!\n",
      "3 1\n",
      "2 _\n",
      "\n",
      "3 1\n",
      "_ 2\n",
      "\n",
      "_ 1\n",
      "3 2\n",
      "\n",
      "1 _\n",
      "3 2\n",
      "\n",
      "1 2\n",
      "3 _\n",
      "\n"
     ]
    }
   ],
   "source": [
    "# Test your BFS on simple task\n",
    "simple_test(bfs)"
   ]
  },
  {
   "cell_type": "code",
   "execution_count": 905,
   "metadata": {
    "tags": []
   },
   "outputs": [
    {
     "name": "stdout",
     "output_type": "stream",
     "text": [
      "Task: 1 Path is OK! Path length: 5\n",
      "Task: 2 Path is OK! Path length: 5\n",
      "Task: 3 Path is OK! Path length: 3\n",
      "Task: 4 Path is OK! Path length: 4\n",
      "Task: 5 Path is OK! Path length: 4\n",
      "Task: 6 Path is OK! Path length: 6\n",
      "Task: 7 Path is OK! Path length: 5\n",
      "Task: 8 Path is OK! Path length: 9\n"
     ]
    }
   ],
   "source": [
    "# If simple test is OK, you should check your implementation in massive test. \n",
    "# The rest of the search algorithms are checked in the same way.\n",
    "massive_test(bfs)"
   ]
  },
  {
   "cell_type": "markdown",
   "metadata": {},
   "source": [
    "### Depth-First Search (DFS)"
   ]
  },
  {
   "cell_type": "code",
   "execution_count": 911,
   "metadata": {
    "tags": []
   },
   "outputs": [],
   "source": [
    "from collections import deque\n",
    "def it_dfs(state):\n",
    "    \"\"\"\n",
    "    Implementation of Depth-First Search algorithm.\n",
    "    \"\"\"\n",
    "    path_found = False\n",
    "    res_state = None\n",
    "                \n",
    "    queue = deque([state])\n",
    "    while queue:\n",
    "        next_state = queue.popleft()\n",
    "        if state_is_goal(next_state):\n",
    "            res_state = next_state\n",
    "            return (True, res_state)\n",
    "           \n",
    "        for neighbour in get_successors(next_state):\n",
    "            queue.append(neighbour)\n",
    "\n",
    "    return (False, res_state)\n",
    "\n",
    "def dfs(state, visited = None):\n",
    "    \"\"\"\n",
    "    Implementation of Depth-First Search algorithm.\n",
    "    \"\"\"\n",
    "    # print(state, state_is_goal(state))\n",
    "    if visited is None:\n",
    "        visited = [state]\n",
    "    \n",
    "    if state_is_goal(state):\n",
    "        return (True, state) \n",
    "    \n",
    "\n",
    "    for neighbour in get_successors(state):\n",
    "        if neighbour not in visited:\n",
    "            result = dfs(neighbour, visited=visited)\n",
    "            if result[0]:\n",
    "                return result\n",
    "    return (False, None)\n"
   ]
  },
  {
   "cell_type": "markdown",
   "metadata": {},
   "source": [
    "Using DFS, you will most likely encounter the fact that this algorithm overcomes the threshold of recursive calls, after which the execution will interrupted.\n",
    "\n",
    "Other unpleasant outcomes (e.g. dead kernel) are also possible."
   ]
  },
  {
   "cell_type": "code",
   "execution_count": 912,
   "metadata": {
    "tags": []
   },
   "outputs": [
    {
     "name": "stdout",
     "output_type": "stream",
     "text": [
      "Path is OK!\n",
      "3 1\n",
      "2 _\n",
      "\n",
      "3 1\n",
      "_ 2\n",
      "\n",
      "_ 1\n",
      "3 2\n",
      "\n",
      "1 _\n",
      "3 2\n",
      "\n",
      "1 2\n",
      "3 _\n",
      "\n"
     ]
    }
   ],
   "source": [
    "simple_test(dfs)"
   ]
  },
  {
   "cell_type": "code",
   "execution_count": 913,
   "metadata": {
    "tags": []
   },
   "outputs": [
    {
     "name": "stdout",
     "output_type": "stream",
     "text": [
      "Path is OK!\n",
      "3 1\n",
      "2 _\n",
      "\n",
      "3 1\n",
      "_ 2\n",
      "\n",
      "_ 1\n",
      "3 2\n",
      "\n",
      "1 _\n",
      "3 2\n",
      "\n",
      "1 2\n",
      "3 _\n",
      "\n"
     ]
    }
   ],
   "source": [
    "simple_test(it_dfs)"
   ]
  },
  {
   "cell_type": "code",
   "execution_count": 914,
   "metadata": {
    "tags": []
   },
   "outputs": [
    {
     "name": "stdout",
     "output_type": "stream",
     "text": [
      "Task: 1 Path is OK! Path length: 5\n",
      "Task: 2 Path is OK! Path length: 5\n",
      "Task: 3 Path is OK! Path length: 3\n",
      "Task: 4 Path is OK! Path length: 4\n",
      "Task: 5 Path is OK! Path length: 4\n",
      "Task: 6 Path is OK! Path length: 6\n",
      "Task: 7 Path is OK! Path length: 5\n",
      "Task: 8 Path is OK! Path length: 9\n"
     ]
    }
   ],
   "source": [
    "# There is no need to start MassiveTest\n",
    "massive_test(it_dfs)"
   ]
  },
  {
   "cell_type": "code",
   "execution_count": 915,
   "metadata": {
    "tags": []
   },
   "outputs": [
    {
     "name": "stdout",
     "output_type": "stream",
     "text": [
      "Task: 1 Path is OK! Path length: 5\n",
      "Task: 2 Path is OK! Path length: 5\n",
      "Task: 3 Path is OK! Path length: 3\n",
      "Task: 4 Path is OK! Path length: 4\n",
      "Task: 5 Path is OK! Path length: 4\n",
      "Task: 6 Path is OK! Path length: 6\n",
      "Task: 7 Path is OK! Path length: 5\n",
      "Task: 8 Path is OK! Path length: 9\n"
     ]
    }
   ],
   "source": [
    "massive_test(it_dfs)"
   ]
  },
  {
   "cell_type": "markdown",
   "metadata": {},
   "source": [
    "But you can create such a simple task, which can be solved by DFS. So your task is to create an instance of the 8-puzzle that is solvable by DFS and the solution contains *at least 3 moves*. "
   ]
  },
  {
   "cell_type": "code",
   "execution_count": 645,
   "metadata": {
    "tags": []
   },
   "outputs": [],
   "source": [
    "def dfs_simple_test(search_function, *args):\n",
    "    # TODO\n",
    "    # Insert the 8-puzzle task that is solvable by DPS with at least 3 moves\n",
    "    # your_tile_list = np.random.permutation([1, 2, 3, 4, 5, 6, 7, 8, 9]).tolist()\n",
    "    your_tile_list = [1, 2, 3, 4, 5, 6, 9, 7, 8]\n",
    "    start_state = GemPuzzleState(your_tile_list)\n",
    "    try:\n",
    "        result = search_function(start_state, *args)\n",
    "        curr = result[1]\n",
    "        if(result[0]):\n",
    "            if(check_path(curr)):\n",
    "                print(\"Path is OK!\")\n",
    "                path = get_path(result[1])\n",
    "\n",
    "                while len(path) != 0:\n",
    "                    s = path.pop()\n",
    "                    print(s)\n",
    "            else:\n",
    "                print(\"Path is not OK\")\n",
    "        else:\n",
    "            print(\"Path not found\")\n",
    "    except Exception as e:\n",
    "        print(\"Execution error\")\n",
    "        print(e)"
   ]
  },
  {
   "cell_type": "code",
   "execution_count": 646,
   "metadata": {
    "tags": []
   },
   "outputs": [
    {
     "name": "stdout",
     "output_type": "stream",
     "text": [
      "Path is OK!\n",
      "1 2 3\n",
      "4 5 6\n",
      "_ 7 8\n",
      "\n",
      "1 2 3\n",
      "4 5 6\n",
      "7 _ 8\n",
      "\n",
      "1 2 3\n",
      "4 5 6\n",
      "7 8 _\n",
      "\n"
     ]
    }
   ],
   "source": [
    "\n",
    "dfs_simple_test(dfs)"
   ]
  },
  {
   "cell_type": "markdown",
   "metadata": {},
   "source": [
    "### Depth-First Search (DFS) with Random Choice\n",
    "\n",
    "You may try to increase the chance of solving the input problem by randomizing the DFS. One way to do so is to recursively go deeper in the search tree not using the first successor returned by the (deterministic) get_succesors function, but rather by picking a random succesor.\n",
    "\n",
    "Indeed, this technique does not provide any guarantess and in practice it is likely to fail on numerous instances."
   ]
  },
  {
   "cell_type": "code",
   "execution_count": 639,
   "metadata": {
    "tags": []
   },
   "outputs": [],
   "source": [
    "def dfs_random(state, visited = None):\n",
    "    \"\"\"\n",
    "    Implementation of Depth-First Search algorithm.\n",
    "    \"\"\"\n",
    "    \n",
    "    #OPTIONAL\n",
    "    \n",
    "    if visited is None:\n",
    "        visited = [state]\n",
    "    \n",
    "    if state_is_goal(state):\n",
    "        return (True, state) \n",
    "    \n",
    "    for neighbour in np.random.permutation(get_successors(state)):\n",
    "        if neighbour not in visited:\n",
    "            result = dfs(neighbour, visited=visited)\n",
    "            if result[0]:\n",
    "                return result\n",
    "    return (False, None)\n"
   ]
  },
  {
   "cell_type": "code",
   "execution_count": 640,
   "metadata": {
    "tags": []
   },
   "outputs": [
    {
     "name": "stdout",
     "output_type": "stream",
     "text": [
      "Path is OK!\n",
      "3 1\n",
      "2 _\n",
      "\n",
      "3 _\n",
      "2 1\n",
      "\n",
      "_ 3\n",
      "2 1\n",
      "\n",
      "2 3\n",
      "_ 1\n",
      "\n",
      "2 3\n",
      "1 _\n",
      "\n",
      "2 _\n",
      "1 3\n",
      "\n",
      "_ 2\n",
      "1 3\n",
      "\n",
      "1 2\n",
      "_ 3\n",
      "\n",
      "1 2\n",
      "3 _\n",
      "\n",
      "Path is OK!\n",
      "3 1\n",
      "2 _\n",
      "\n",
      "3 1\n",
      "_ 2\n",
      "\n",
      "_ 1\n",
      "3 2\n",
      "\n",
      "1 _\n",
      "3 2\n",
      "\n",
      "1 2\n",
      "3 _\n",
      "\n",
      "Path is OK!\n",
      "3 1\n",
      "2 _\n",
      "\n",
      "3 1\n",
      "_ 2\n",
      "\n",
      "_ 1\n",
      "3 2\n",
      "\n",
      "1 _\n",
      "3 2\n",
      "\n",
      "1 2\n",
      "3 _\n",
      "\n",
      "Path is OK!\n",
      "3 1\n",
      "2 _\n",
      "\n",
      "3 1\n",
      "_ 2\n",
      "\n",
      "_ 1\n",
      "3 2\n",
      "\n",
      "1 _\n",
      "3 2\n",
      "\n",
      "1 2\n",
      "3 _\n",
      "\n",
      "Path is OK!\n",
      "3 1\n",
      "2 _\n",
      "\n",
      "3 1\n",
      "_ 2\n",
      "\n",
      "_ 1\n",
      "3 2\n",
      "\n",
      "1 _\n",
      "3 2\n",
      "\n",
      "1 2\n",
      "3 _\n",
      "\n",
      "Path is OK!\n",
      "3 1\n",
      "2 _\n",
      "\n",
      "3 _\n",
      "2 1\n",
      "\n",
      "_ 3\n",
      "2 1\n",
      "\n",
      "2 3\n",
      "_ 1\n",
      "\n",
      "2 3\n",
      "1 _\n",
      "\n",
      "2 _\n",
      "1 3\n",
      "\n",
      "_ 2\n",
      "1 3\n",
      "\n",
      "1 2\n",
      "_ 3\n",
      "\n",
      "1 2\n",
      "3 _\n",
      "\n",
      "Path is OK!\n",
      "3 1\n",
      "2 _\n",
      "\n",
      "3 1\n",
      "_ 2\n",
      "\n",
      "_ 1\n",
      "3 2\n",
      "\n",
      "1 _\n",
      "3 2\n",
      "\n",
      "1 2\n",
      "3 _\n",
      "\n",
      "Path is OK!\n",
      "3 1\n",
      "2 _\n",
      "\n",
      "3 1\n",
      "_ 2\n",
      "\n",
      "_ 1\n",
      "3 2\n",
      "\n",
      "1 _\n",
      "3 2\n",
      "\n",
      "1 2\n",
      "3 _\n",
      "\n",
      "Path is OK!\n",
      "3 1\n",
      "2 _\n",
      "\n",
      "3 1\n",
      "_ 2\n",
      "\n",
      "_ 1\n",
      "3 2\n",
      "\n",
      "1 _\n",
      "3 2\n",
      "\n",
      "1 2\n",
      "3 _\n",
      "\n",
      "Path is OK!\n",
      "3 1\n",
      "2 _\n",
      "\n",
      "3 1\n",
      "_ 2\n",
      "\n",
      "_ 1\n",
      "3 2\n",
      "\n",
      "1 _\n",
      "3 2\n",
      "\n",
      "1 2\n",
      "3 _\n",
      "\n"
     ]
    }
   ],
   "source": [
    "for i in range(10):\n",
    "    simple_test(dfs_random)"
   ]
  },
  {
   "cell_type": "markdown",
   "metadata": {},
   "source": [
    "### Depth First Search with Limited Depth\n",
    "One of the way to solve problem of overcoming the threshold of recursive calls is explicitly limit the to depth of the search tree by passing an appropriate parameter `limit` to the search algorithm. The second parameter `depth` is a technical one needed for the implementation. It represents the current depth of the search. Initially (when invoked on the start state of the problem) it is, indeed, equal to 0."
   ]
  },
  {
   "cell_type": "code",
   "execution_count": 632,
   "metadata": {
    "tags": []
   },
   "outputs": [],
   "source": [
    "def dfs_l(state, limit, depth, visited = None):\n",
    "    \"\"\"\n",
    "    Implementation of Depth First Search with Limited Depth algorithm\n",
    "    \n",
    "    \"\"\"\n",
    "    result = (False, None) \n",
    "    if visited is None:\n",
    "        visited = [state]\n",
    "\n",
    "    if state_is_goal(state) and depth <= limit:\n",
    "        return (True, state)\n",
    "    \n",
    "    if limit == 0:\n",
    "        if state_is_goal(state):\n",
    "            return (True, state)\n",
    "        return result\n",
    "    \n",
    "    for neighbour in get_successors(state):\n",
    "        if neighbour not in visited:\n",
    "            result = dfs_l(neighbour, limit-1, depth, visited)\n",
    "            if result[0]:\n",
    "                return result        \n",
    "    return result\n"
   ]
  },
  {
   "cell_type": "markdown",
   "metadata": {},
   "source": [
    "Let's check this approach with several different limits"
   ]
  },
  {
   "cell_type": "code",
   "execution_count": 633,
   "metadata": {
    "tags": []
   },
   "outputs": [
    {
     "name": "stdout",
     "output_type": "stream",
     "text": [
      "Path not found\n"
     ]
    }
   ],
   "source": [
    "simple_test(dfs_l, 3, 0)"
   ]
  },
  {
   "cell_type": "code",
   "execution_count": 634,
   "metadata": {
    "tags": []
   },
   "outputs": [
    {
     "name": "stdout",
     "output_type": "stream",
     "text": [
      "Path is OK!\n",
      "3 1\n",
      "2 _\n",
      "\n",
      "3 1\n",
      "_ 2\n",
      "\n",
      "_ 1\n",
      "3 2\n",
      "\n",
      "1 _\n",
      "3 2\n",
      "\n",
      "1 2\n",
      "3 _\n",
      "\n"
     ]
    }
   ],
   "source": [
    "simple_test(dfs_l, 5, 0)"
   ]
  },
  {
   "cell_type": "code",
   "execution_count": 635,
   "metadata": {
    "tags": []
   },
   "outputs": [
    {
     "name": "stdout",
     "output_type": "stream",
     "text": [
      "Path is OK!\n",
      "3 1\n",
      "2 _\n",
      "\n",
      "3 1\n",
      "_ 2\n",
      "\n",
      "_ 1\n",
      "3 2\n",
      "\n",
      "1 _\n",
      "3 2\n",
      "\n",
      "1 2\n",
      "3 _\n",
      "\n"
     ]
    }
   ],
   "source": [
    "simple_test(dfs_l, 10, 0)"
   ]
  },
  {
   "cell_type": "code",
   "execution_count": 636,
   "metadata": {
    "tags": []
   },
   "outputs": [
    {
     "name": "stdout",
     "output_type": "stream",
     "text": [
      "Task: 1 Path not found(\n",
      "Task: 2 Path not found(\n",
      "Task: 3 Path is OK! Path length: 3\n",
      "Task: 4 Path is OK! Path length: 4\n",
      "Task: 5 Path is OK! Path length: 4\n",
      "Task: 6 Path not found(\n",
      "Task: 7 Path not found(\n",
      "Task: 8 Path not found(\n"
     ]
    }
   ],
   "source": [
    "massive_test(dfs_l, 3, 0)"
   ]
  },
  {
   "cell_type": "code",
   "execution_count": 637,
   "metadata": {
    "tags": []
   },
   "outputs": [
    {
     "name": "stdout",
     "output_type": "stream",
     "text": [
      "Task: 1 Path is OK! Path length: 5\n",
      "Task: 2 Path is OK! Path length: 5\n",
      "Task: 3 Path is OK! Path length: 3\n",
      "Task: 4 Path is OK! Path length: 4\n",
      "Task: 5 Path is OK! Path length: 6\n",
      "Task: 6 Path is OK! Path length: 6\n",
      "Task: 7 Path is OK! Path length: 5\n",
      "Task: 8 Path not found(\n"
     ]
    }
   ],
   "source": [
    "massive_test(dfs_l, 5, 0)"
   ]
  },
  {
   "cell_type": "code",
   "execution_count": 638,
   "metadata": {
    "tags": []
   },
   "outputs": [
    {
     "name": "stdout",
     "output_type": "stream",
     "text": [
      "Task: 1 Path is OK! Path length: 5\n",
      "Task: 2 Path is OK! Path length: 11\n",
      "Task: 3 Path is OK! Path length: 3\n",
      "Task: 4 Path is OK! Path length: 10\n",
      "Task: 5 Path is OK! Path length: 10\n",
      "Task: 6 Path is OK! Path length: 10\n",
      "Task: 7 Path is OK! Path length: 11\n",
      "Task: 8 Path is OK! Path length: 11\n"
     ]
    }
   ],
   "source": [
    "massive_test(dfs_l, 10, 0)"
   ]
  },
  {
   "cell_type": "markdown",
   "metadata": {},
   "source": [
    "### Depth First Iterative Deepening Search (DFID)\n",
    "Finally let's sequentially invoke DFS with increasing depth limits. This is called the Depth First Iterative Deepening algorithm. It will inded find a solution if one exists."
   ]
  },
  {
   "cell_type": "code",
   "execution_count": 629,
   "metadata": {
    "tags": []
   },
   "outputs": [],
   "source": [
    "def dfid(state):\n",
    "    \"\"\"\n",
    "    Implementation of Iterative-Deepening Depth-First Search\n",
    "    \"\"\"\n",
    "    limit = 1\n",
    "    visited = None\n",
    "    while True:\n",
    "        result = dfs_l(state, limit = limit, depth = 0, visited = visited)\n",
    "        limit +=1\n",
    "        if result[0]:\n",
    "            break\n",
    "    return result\n",
    "\n",
    "    #CODE HERE"
   ]
  },
  {
   "cell_type": "code",
   "execution_count": 630,
   "metadata": {
    "tags": []
   },
   "outputs": [
    {
     "name": "stdout",
     "output_type": "stream",
     "text": [
      "Path is OK!\n",
      "3 1\n",
      "2 _\n",
      "\n",
      "3 1\n",
      "_ 2\n",
      "\n",
      "_ 1\n",
      "3 2\n",
      "\n",
      "1 _\n",
      "3 2\n",
      "\n",
      "1 2\n",
      "3 _\n",
      "\n"
     ]
    }
   ],
   "source": [
    "simple_test(dfid)"
   ]
  },
  {
   "cell_type": "code",
   "execution_count": 631,
   "metadata": {
    "tags": []
   },
   "outputs": [
    {
     "name": "stdout",
     "output_type": "stream",
     "text": [
      "Task: 1 Path is OK! Path length: 5\n",
      "Task: 2 Path is OK! Path length: 5\n",
      "Task: 3 Path is OK! Path length: 3\n",
      "Task: 4 Path is OK! Path length: 4\n",
      "Task: 5 Path is OK! Path length: 4\n",
      "Task: 6 Path is OK! Path length: 6\n",
      "Task: 7 Path is OK! Path length: 5\n",
      "Task: 8 Path is OK! Path length: 9\n"
     ]
    }
   ],
   "source": [
    "massive_test(dfid)"
   ]
  },
  {
   "cell_type": "markdown",
   "metadata": {},
   "source": [
    "## Pancake Sorting"
   ]
  },
  {
   "cell_type": "markdown",
   "metadata": {
    "tags": []
   },
   "source": [
    "![Example](img/cat.jpg)"
   ]
  },
  {
   "cell_type": "markdown",
   "metadata": {},
   "source": [
    "Pancake sorting is the colloquial term for the mathematical problem of sorting a disordered stack of pancakes in order of size when a spatula can be inserted at any point in the stack and used to flip all pancakes above it (See picture below) [[Wikipedia](https://en.wikipedia.org/wiki/Pancake_sorting)]."
   ]
  },
  {
   "cell_type": "markdown",
   "metadata": {
    "tags": []
   },
   "source": [
    "![Example](img/pancake.png)"
   ]
  },
  {
   "cell_type": "markdown",
   "metadata": {},
   "source": [
    "### Representation of a state\n",
    "In this task you should create your own implementation of pancake sorting problem state (and all related funtions) with your own test data. Note, that the interface of the state-class must be the same as for the `GemPuzzleState` thus all the machinery introduced before (e.g. automated tests) will work out-of-the-box. "
   ]
  },
  {
   "cell_type": "code",
   "execution_count": 880,
   "metadata": {
    "tags": []
   },
   "outputs": [],
   "source": [
    "class PancakeDish:\n",
    "\n",
    "    def __init__(self, pancakes: list):\n",
    "        self.size = len(pancakes)\n",
    "        blank_value = self.size\n",
    "        \n",
    "        self.tile_matrix = np.array(pancakes, dtype=np.int16)\n",
    "        \n",
    "        # The parent state (predecessor in the search tree) will be set up by\n",
    "        # the search algorithm.\n",
    "        self.parent = None\n",
    "\n",
    "    def __eq__(self, other):\n",
    "        return np.array_equal(self.tile_matrix, other.tile_matrix)\n",
    "        \n",
    "    def __str__(self):\n",
    "        base = 3\n",
    "        result = str()\n",
    "        for pancake in self.tile_matrix[::-1]:\n",
    "            result += (base * pancake * f'-{pancake}-').center(30 + 2*base,\" \") +'\\n'\n",
    "        return result\n",
    "        \n",
    "        \n"
   ]
  },
  {
   "cell_type": "code",
   "execution_count": 881,
   "metadata": {
    "tags": []
   },
   "outputs": [],
   "source": [
    "def get_successors(state: PancakeDish):\n",
    "    successors = []\n",
    "    \n",
    "    idxs = np.arange(-state.size, -1, dtype = np.int16)\n",
    "    for idx in idxs:\n",
    "        new_state = copy.deepcopy(state)\n",
    "        new_state.tile_matrix[idx:] = new_state.tile_matrix[idx:][::-1]\n",
    "        \n",
    "        new_state.parent = state\n",
    "        # print(new_state.tile_matrix)\n",
    "        successors.append(new_state)\n",
    "    return successors"
   ]
  },
  {
   "cell_type": "code",
   "execution_count": 882,
   "metadata": {
    "tags": []
   },
   "outputs": [],
   "source": [
    "def state_is_goal(state: PancakeDish):\n",
    "    blank_value = state.size\n",
    "    return np.array_equal(state.tile_matrix, \n",
    "                          np.array(sorted(state.tile_matrix, reverse = True)))"
   ]
  },
  {
   "cell_type": "code",
   "execution_count": 884,
   "metadata": {
    "tags": []
   },
   "outputs": [
    {
     "name": "stdout",
     "output_type": "stream",
     "text": [
      "-5--5--5--5--5--5--5--5--5--5--5--5--5--5--5-\n",
      "-4--4--4--4--4--4--4--4--4--4--4--4-\n",
      "    -3--3--3--3--3--3--3--3--3-     \n",
      "         -2--2--2--2--2--2-         \n",
      "             -1--1--1-              \n",
      "\n",
      "False\n",
      "-12--12--12--12--12--12--12--12--12--12--12--12--12--12--12--12--12--12--12--12--12--12--12--12--12--12--12--12--12--12--12--12--12--12--12--12-\n",
      "-9--9--9--9--9--9--9--9--9--9--9--9--9--9--9--9--9--9--9--9--9--9--9--9--9--9--9-\n",
      "-5--5--5--5--5--5--5--5--5--5--5--5--5--5--5-\n",
      "-4--4--4--4--4--4--4--4--4--4--4--4-\n",
      "    -3--3--3--3--3--3--3--3--3-     \n",
      "         -2--2--2--2--2--2-         \n",
      "             -1--1--1-              \n",
      "\n",
      "False\n",
      "[<__main__.PancakeDish object at 0x7f10159534c0>, <__main__.PancakeDish object at 0x7f1015953370>, <__main__.PancakeDish object at 0x7f10159535e0>, <__main__.PancakeDish object at 0x7f1015953f70>, <__main__.PancakeDish object at 0x7f1015953040>, <__main__.PancakeDish object at 0x7f1016e9a2b0>]\n"
     ]
    }
   ],
   "source": [
    "#test\n",
    "state = PancakeDish([1,2,3,4,5])\n",
    "print(state)\n",
    "print(state_is_goal(state))\n",
    "\n",
    "state = PancakeDish([1,2,3,4,5,9,12])\n",
    "print(state)\n",
    "print(state_is_goal(state))\n",
    "\n",
    "print(get_successors(state))"
   ]
  },
  {
   "cell_type": "code",
   "execution_count": 885,
   "metadata": {},
   "outputs": [],
   "source": [
    "def simple_test(search_function: Callable, *args):\n",
    "    # TODO your simple task\n",
    "    start_state = PancakeDish([1, 4, 2, 3])\n",
    "\n",
    "    try:\n",
    "        result = search_function(start_state, *args)\n",
    "        curr = result[1]\n",
    "        if(result[0]):\n",
    "            if(check_path(curr)):\n",
    "                print(\"Path is OK!\")\n",
    "                stack = []\n",
    "                curr = result[1]\n",
    "                while curr is not None:\n",
    "                    stack.append(curr)\n",
    "                    curr = curr.parent\n",
    "                while len(stack) != 0:\n",
    "                    s = stack.pop()\n",
    "                    print(s)\n",
    "            else:\n",
    "                print(\"Path is not OK\")\n",
    "        else:\n",
    "            print(\"Path not found\")\n",
    "    except Exception as e:\n",
    "        print(\"Execution error\")\n",
    "        print(e)"
   ]
  },
  {
   "cell_type": "code",
   "execution_count": 886,
   "metadata": {},
   "outputs": [],
   "source": [
    "def massive_test(search_function: Callable, *args):\n",
    "    # TODO \n",
    "    #Fill the file with at least 8 different tasks\n",
    "    tasks_file = open('data/tasks_capcake.txt')\n",
    "    count = 0\n",
    "    for l in tasks_file:\n",
    "        count += 1\n",
    "        state = list(map(int, l.split()))\n",
    "        task = PancakeDish(state)\n",
    "        try:\n",
    "            result = search_function(task, *args)\n",
    "            curr = result[1]\n",
    "            if(result[0]):\n",
    "                if(check_path(curr)):\n",
    "                    path = get_path(result[1])\n",
    "                    print(\"Task:\", count, \"Path is OK!. Path length:\", len(path))\n",
    "                else:\n",
    "                    print(\"Task:\", count, \"Path is not OK\")\n",
    "            else:\n",
    "                print(\"Task:\", count, \"Path not found\")\n",
    "        except Exception as e:\n",
    "            print(\"Task:\", count, \"Execution error\")\n",
    "            print(e)"
   ]
  },
  {
   "cell_type": "markdown",
   "metadata": {},
   "source": [
    "## Lets check!"
   ]
  },
  {
   "cell_type": "code",
   "execution_count": 887,
   "metadata": {
    "tags": []
   },
   "outputs": [
    {
     "name": "stdout",
     "output_type": "stream",
     "text": [
      "Path is OK!\n",
      "    -3--3--3--3--3--3--3--3--3-     \n",
      "         -2--2--2--2--2--2-         \n",
      "-4--4--4--4--4--4--4--4--4--4--4--4-\n",
      "             -1--1--1-              \n",
      "\n",
      "         -2--2--2--2--2--2-         \n",
      "    -3--3--3--3--3--3--3--3--3-     \n",
      "-4--4--4--4--4--4--4--4--4--4--4--4-\n",
      "             -1--1--1-              \n",
      "\n",
      "-4--4--4--4--4--4--4--4--4--4--4--4-\n",
      "    -3--3--3--3--3--3--3--3--3-     \n",
      "         -2--2--2--2--2--2-         \n",
      "             -1--1--1-              \n",
      "\n",
      "             -1--1--1-              \n",
      "         -2--2--2--2--2--2-         \n",
      "    -3--3--3--3--3--3--3--3--3-     \n",
      "-4--4--4--4--4--4--4--4--4--4--4--4-\n",
      "\n"
     ]
    }
   ],
   "source": [
    "simple_test(bfs)"
   ]
  },
  {
   "cell_type": "code",
   "execution_count": 888,
   "metadata": {
    "tags": []
   },
   "outputs": [
    {
     "name": "stdout",
     "output_type": "stream",
     "text": [
      "Task: 1 Path is OK!. Path length: 5\n",
      "Task: 2 Path is OK!. Path length: 5\n",
      "Task: 3 Path is OK!. Path length: 3\n",
      "Task: 4 Path is OK!. Path length: 6\n",
      "Task: 5 Path is OK!. Path length: 5\n",
      "Task: 6 Path is OK!. Path length: 4\n"
     ]
    }
   ],
   "source": [
    "massive_test(bfs)"
   ]
  },
  {
   "cell_type": "code",
   "execution_count": 889,
   "metadata": {
    "tags": []
   },
   "outputs": [
    {
     "name": "stdout",
     "output_type": "stream",
     "text": [
      "Path not found\n",
      "Path is OK!\n",
      "    -3--3--3--3--3--3--3--3--3-     \n",
      "         -2--2--2--2--2--2-         \n",
      "-4--4--4--4--4--4--4--4--4--4--4--4-\n",
      "             -1--1--1-              \n",
      "\n",
      "             -1--1--1-              \n",
      "-4--4--4--4--4--4--4--4--4--4--4--4-\n",
      "         -2--2--2--2--2--2-         \n",
      "    -3--3--3--3--3--3--3--3--3-     \n",
      "\n",
      "-4--4--4--4--4--4--4--4--4--4--4--4-\n",
      "             -1--1--1-              \n",
      "         -2--2--2--2--2--2-         \n",
      "    -3--3--3--3--3--3--3--3--3-     \n",
      "\n",
      "    -3--3--3--3--3--3--3--3--3-     \n",
      "         -2--2--2--2--2--2-         \n",
      "             -1--1--1-              \n",
      "-4--4--4--4--4--4--4--4--4--4--4--4-\n",
      "\n",
      "             -1--1--1-              \n",
      "         -2--2--2--2--2--2-         \n",
      "    -3--3--3--3--3--3--3--3--3-     \n",
      "-4--4--4--4--4--4--4--4--4--4--4--4-\n",
      "\n",
      "Path is OK!\n",
      "    -3--3--3--3--3--3--3--3--3-     \n",
      "         -2--2--2--2--2--2-         \n",
      "-4--4--4--4--4--4--4--4--4--4--4--4-\n",
      "             -1--1--1-              \n",
      "\n",
      "             -1--1--1-              \n",
      "-4--4--4--4--4--4--4--4--4--4--4--4-\n",
      "         -2--2--2--2--2--2-         \n",
      "    -3--3--3--3--3--3--3--3--3-     \n",
      "\n",
      "         -2--2--2--2--2--2-         \n",
      "-4--4--4--4--4--4--4--4--4--4--4--4-\n",
      "             -1--1--1-              \n",
      "    -3--3--3--3--3--3--3--3--3-     \n",
      "\n",
      "    -3--3--3--3--3--3--3--3--3-     \n",
      "             -1--1--1-              \n",
      "-4--4--4--4--4--4--4--4--4--4--4--4-\n",
      "         -2--2--2--2--2--2-         \n",
      "\n",
      "         -2--2--2--2--2--2-         \n",
      "-4--4--4--4--4--4--4--4--4--4--4--4-\n",
      "             -1--1--1-              \n",
      "    -3--3--3--3--3--3--3--3--3-     \n",
      "\n",
      "    -3--3--3--3--3--3--3--3--3-     \n",
      "             -1--1--1-              \n",
      "-4--4--4--4--4--4--4--4--4--4--4--4-\n",
      "         -2--2--2--2--2--2-         \n",
      "\n",
      "         -2--2--2--2--2--2-         \n",
      "-4--4--4--4--4--4--4--4--4--4--4--4-\n",
      "             -1--1--1-              \n",
      "    -3--3--3--3--3--3--3--3--3-     \n",
      "\n",
      "             -1--1--1-              \n",
      "-4--4--4--4--4--4--4--4--4--4--4--4-\n",
      "         -2--2--2--2--2--2-         \n",
      "    -3--3--3--3--3--3--3--3--3-     \n",
      "\n",
      "-4--4--4--4--4--4--4--4--4--4--4--4-\n",
      "             -1--1--1-              \n",
      "         -2--2--2--2--2--2-         \n",
      "    -3--3--3--3--3--3--3--3--3-     \n",
      "\n",
      "    -3--3--3--3--3--3--3--3--3-     \n",
      "         -2--2--2--2--2--2-         \n",
      "             -1--1--1-              \n",
      "-4--4--4--4--4--4--4--4--4--4--4--4-\n",
      "\n",
      "             -1--1--1-              \n",
      "         -2--2--2--2--2--2-         \n",
      "    -3--3--3--3--3--3--3--3--3-     \n",
      "-4--4--4--4--4--4--4--4--4--4--4--4-\n",
      "\n"
     ]
    }
   ],
   "source": [
    "simple_test(dfs_l, 2, 0)\n",
    "simple_test(dfs_l, 5, 0)\n",
    "simple_test(dfs_l, 10, 0)"
   ]
  },
  {
   "cell_type": "code",
   "execution_count": 890,
   "metadata": {
    "tags": []
   },
   "outputs": [
    {
     "name": "stdout",
     "output_type": "stream",
     "text": [
      "Task: 1 Path not found\n",
      "Task: 2 Path not found\n",
      "Task: 3 Path is OK!. Path length: 3\n",
      "Task: 4 Path not found\n",
      "Task: 5 Path not found\n",
      "Task: 6 Path not found\n"
     ]
    }
   ],
   "source": [
    "massive_test(dfs_l, 2, 0)"
   ]
  },
  {
   "cell_type": "code",
   "execution_count": 891,
   "metadata": {
    "tags": []
   },
   "outputs": [
    {
     "name": "stdout",
     "output_type": "stream",
     "text": [
      "Task: 1 Path is OK!. Path length: 5\n",
      "Task: 2 Path is OK!. Path length: 5\n",
      "Task: 3 Path is OK!. Path length: 6\n",
      "Task: 4 Path is OK!. Path length: 6\n",
      "Task: 5 Path is OK!. Path length: 6\n",
      "Task: 6 Path is OK!. Path length: 6\n"
     ]
    }
   ],
   "source": [
    "massive_test(dfs_l, 5, 0)"
   ]
  },
  {
   "cell_type": "code",
   "execution_count": 892,
   "metadata": {
    "tags": []
   },
   "outputs": [
    {
     "name": "stdout",
     "output_type": "stream",
     "text": [
      "Task: 1 Path is OK!. Path length: 11\n",
      "Task: 2 Path is OK!. Path length: 11\n",
      "Task: 3 Path is OK!. Path length: 10\n",
      "Task: 4 Path is OK!. Path length: 10\n",
      "Task: 5 Path is OK!. Path length: 10\n",
      "Task: 6 Path is OK!. Path length: 11\n"
     ]
    }
   ],
   "source": [
    "massive_test(dfs_l, 10, 0)"
   ]
  },
  {
   "cell_type": "code",
   "execution_count": 893,
   "metadata": {
    "tags": []
   },
   "outputs": [
    {
     "name": "stdout",
     "output_type": "stream",
     "text": [
      "Path is OK!\n",
      "    -3--3--3--3--3--3--3--3--3-     \n",
      "         -2--2--2--2--2--2-         \n",
      "-4--4--4--4--4--4--4--4--4--4--4--4-\n",
      "             -1--1--1-              \n",
      "\n",
      "         -2--2--2--2--2--2-         \n",
      "    -3--3--3--3--3--3--3--3--3-     \n",
      "-4--4--4--4--4--4--4--4--4--4--4--4-\n",
      "             -1--1--1-              \n",
      "\n",
      "-4--4--4--4--4--4--4--4--4--4--4--4-\n",
      "    -3--3--3--3--3--3--3--3--3-     \n",
      "         -2--2--2--2--2--2-         \n",
      "             -1--1--1-              \n",
      "\n",
      "             -1--1--1-              \n",
      "         -2--2--2--2--2--2-         \n",
      "    -3--3--3--3--3--3--3--3--3-     \n",
      "-4--4--4--4--4--4--4--4--4--4--4--4-\n",
      "\n"
     ]
    }
   ],
   "source": [
    "simple_test(dfid)"
   ]
  },
  {
   "cell_type": "code",
   "execution_count": 894,
   "metadata": {
    "tags": []
   },
   "outputs": [
    {
     "name": "stdout",
     "output_type": "stream",
     "text": [
      "Task: 1 Path is OK!. Path length: 5\n",
      "Task: 2 Path is OK!. Path length: 5\n",
      "Task: 3 Path is OK!. Path length: 3\n",
      "Task: 4 Path is OK!. Path length: 6\n",
      "Task: 5 Path is OK!. Path length: 5\n",
      "Task: 6 Path is OK!. Path length: 4\n"
     ]
    }
   ],
   "source": [
    "massive_test(dfid)"
   ]
  },
  {
   "cell_type": "code",
   "execution_count": null,
   "metadata": {},
   "outputs": [],
   "source": []
  }
 ],
 "metadata": {
  "kernelspec": {
   "display_name": "Python 3 (ipykernel)",
   "language": "python",
   "name": "python3"
  },
  "language_info": {
   "codemirror_mode": {
    "name": "ipython",
    "version": 3
   },
   "file_extension": ".py",
   "mimetype": "text/x-python",
   "name": "python",
   "nbconvert_exporter": "python",
   "pygments_lexer": "ipython3",
   "version": "3.9.15"
  },
  "vscode": {
   "interpreter": {
    "hash": "31f2aee4e71d21fbe5cf8b01ff0e069b9275f58929596ceb00d14d90e3e16cd6"
   }
  }
 },
 "nbformat": 4,
 "nbformat_minor": 4
}
