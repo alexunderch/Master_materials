{
  "nbformat": 4,
  "nbformat_minor": 0,
  "metadata": {
    "colab": {
      "provenance": []
    },
    "kernelspec": {
      "name": "python3",
      "display_name": "Python 3"
    }
  },
  "cells": [
    {
      "cell_type": "markdown",
      "metadata": {
        "id": "nVf3Z2hlya3E"
      },
      "source": [
        "# PGM - 2. Markov chains and hidden markov chains \n",
        "\n",
        "Чернявский Александр Сергеевич"
      ]
    },
    {
      "cell_type": "markdown",
      "metadata": {
        "id": "qSjY_lnf5Ro2"
      },
      "source": [
        "## 1. Генерация текста при помощи марковских цепей"
      ]
    },
    {
      "cell_type": "markdown",
      "metadata": {
        "id": "Fjex9tsZGgV8"
      },
      "source": [
        "В коде реализован алгоритм генерации текста на основе марковских цепей.\n",
        "- Реализуйте марковскую цепь более высокого порядка, которая выводит следующее слово не на основании одного предыдующего слова, а на основании $n$ последних.\n",
        "- Реализуйте алгоритм генерации текста на основе марковской цепи произвольного порядка (можно использовать цепи более низкого порядка для первых слов в предложении и если данный набор из $n$ слов не встречался в обучающей выборке)\n",
        "- Поэкспериментируйте с генераторами текста. С какого размера входного текста цепь первого порядка генерирует более-менее осмысленные предложения? А цепь второго порядка?"
      ]
    },
    {
      "cell_type": "code",
      "metadata": {
        "id": "1o5YGwMM4vHq"
      },
      "source": [
        "import random\n",
        "\n",
        "class Dictogram(dict):\n",
        "    def __init__(self, iterable = None):\n",
        "        super().__init__()\n",
        "        self.num_unique_words = 0  # число уникальных ключей в распределении\n",
        "        self.num_words = 0  # общее количество всех слов в распределении\n",
        "        if iterable:\n",
        "            self.update(iterable)\n",
        "\n",
        "    def update(self, iterable) -> None:\n",
        "        for item in iterable:\n",
        "            if item in self:\n",
        "                self[item] += 1\n",
        "                self.num_words += 1\n",
        "            else:\n",
        "                self[item] = 1\n",
        "                self.num_unique_words += 1\n",
        "                self.num_words += 1\n",
        "\n",
        "    def count(self, item: str) -> int:\n",
        "        return self[item] if item in self else 0\n",
        "\n",
        "\n",
        "    def return_random_word(self, seed: int = 42) -> str:\n",
        "        # random.seed(seed)\n",
        "        return random.sample(list(self), 1)[0]\n",
        "        \n",
        "    def return_weighted_random_word(self, seed: int = 42) -> str:\n",
        "        # random.seed(seed)\n",
        "    \n",
        "        random_int = random.randint(0, self.num_words - 1)\n",
        "        index = 0\n",
        "        list_of_keys = list(self)\n",
        "        for i in range(self.num_unique_words):\n",
        "            index += self[list_of_keys[i]]\n",
        "            if(index > random_int):\n",
        "                return list_of_keys[i]"
      ],
      "execution_count": null,
      "outputs": []
    },
    {
      "cell_type": "code",
      "metadata": {
        "id": "lqYg-xPb45wB"
      },
      "source": [
        "def fit_markov_model(data):\n",
        "    markov_model = dict()\n",
        "\n",
        "    for i in range(len(data) - 1):\n",
        "        if data[i] in markov_model:\n",
        "            markov_model[data[i]].update([data[i + 1]])\n",
        "        else:\n",
        "            markov_model[data[i]] = Dictogram([data[i + 1]])\n",
        "    return markov_model"
      ],
      "execution_count": null,
      "outputs": []
    },
    {
      "cell_type": "code",
      "metadata": {
        "id": "e-IrUP1f4-yz"
      },
      "source": [
        "def fit_higher_order_markov_model(data, order: int, aux_data: dict = None):\n",
        "    \"\"\"\n",
        "    All to do is to add a window size of `order` size \n",
        "    \"\"\"\n",
        "    markov_model = dict() if aux_data is None else aux_data\n",
        "    for i in range(0, len(data) - order):\n",
        "        #skip-grams\n",
        "        window = tuple(data[i: i + order])\n",
        "        \n",
        "        if window in markov_model:\n",
        "            markov_model[window].update([data[i + order]])\n",
        "        else:\n",
        "            markov_model[window] = Dictogram([data[i + order]])\n",
        "    return markov_model"
      ],
      "execution_count": null,
      "outputs": []
    },
    {
      "cell_type": "code",
      "metadata": {
        "id": "-BjE3vuZFsZF"
      },
      "source": [
        "def generate_random_sentence(length, markov_model, max_order = 1):\n",
        "    def generate_random_start(model: dict):\n",
        "        words = random.choice(list(model.keys())) \n",
        "        return [words] if isinstance(words, str) else list(words)\n",
        "\n",
        "    sentence = generate_random_start(markov_model)\n",
        "    \n",
        "    for i in range(0, length):\n",
        "        while max_order >= 0:\n",
        "            try:\n",
        "                window = sentence[-max_order:]\n",
        "                continuation = tuple(window) \n",
        "                sentence.append(\n",
        "                    markov_model[continuation].return_weighted_random_word()\n",
        "                )\n",
        "                break\n",
        "            except KeyError:\n",
        "                max_order -= 1\n",
        "\n",
        "    sentence[0] = sentence[0].capitalize()\n",
        "    return \" \".join(sentence) + \".\""
      ],
      "execution_count": null,
      "outputs": []
    },
    {
      "cell_type": "markdown",
      "source": [
        "В качестве корпуса текста возьмём <<Евгения Онегина>> А.С. Пушкина"
      ],
      "metadata": {
        "id": "acF24mETxFL-"
      }
    },
    {
      "cell_type": "code",
      "source": [
        "import os, re\n",
        "def flatten(l):\n",
        "    return [item for sublist in l for item in sublist]\n",
        "\n",
        "if not os.path.exists('onegin.txt'):\n",
        "    !wget https://raw.githubusercontent.com/attatrol/data_sources/master/onegin.txt\n",
        "    \n",
        "with open('onegin.txt', 'r') as iofile:\n",
        "    o_text = iofile.readlines()\n",
        "    \n",
        "data = flatten([re.sub(r'[^\\w]', ' ', x).replace('\\t\\t', '').split() for x in o_text])\n",
        "\n",
        "dumb_data = list(random.sample(data, 10000))"
      ],
      "metadata": {
        "id": "m00unabOJnv_"
      },
      "execution_count": null,
      "outputs": []
    },
    {
      "cell_type": "code",
      "source": [
        "mc = fit_markov_model(data)\n",
        "mc_dumb = fit_markov_model(dumb_data)\n",
        "\n",
        "for order in [2, 3, 4, 5]:\n",
        "    mc5 = fit_higher_order_markov_model(data, order, mc)\n",
        "    mc5_dumb = fit_higher_order_markov_model(dumb_data, order, mc_dumb)\n",
        "\n",
        "\n",
        "for order in [2, 3]:\n",
        "    mc3 = fit_higher_order_markov_model(data, order, mc)\n",
        "    mc3_dumb = fit_higher_order_markov_model(dumb_data, order, mc_dumb)\n"
      ],
      "metadata": {
        "id": "8kSSRGxCx04R"
      },
      "execution_count": null,
      "outputs": []
    },
    {
      "cell_type": "code",
      "metadata": {
        "colab": {
          "base_uri": "https://localhost:8080/"
        },
        "id": "ykeUbdIiAj4N",
        "outputId": "8e91a353-e7b4-4e90-adc5-7888d0ab1503"
      },
      "source": [
        "#третий порядок\n",
        "for i in range(6):\n",
        "  print(generate_random_sentence(7, mc3, 3))\n",
        "print(40*\"#\")\n",
        "for i in range(6):\n",
        "  print(generate_random_sentence(7, mc3_dumb, 3))"
      ],
      "execution_count": null,
      "outputs": [
        {
          "output_type": "stream",
          "name": "stdout",
          "text": [
            "Нибудь он сердце тронет И сохраненная судьбой Быть может в.\n",
            "И мы как дамы Скользим по лаковым доскам Но.\n",
            "Теперь яснее слава Богу Того по ком она вздыхать Осуждена судьбою.\n",
            "Меня покойница свекровь Да как же ты венчалась няня Так видно Бог.\n",
            "Пора пора взываю к ней Брожу над морем жду погоды.\n",
            "Те дни в таинственных долинах Весной при кликах лебединых Близ вод сиявших.\n",
            "########################################\n",
            "Случае были черты Вы и Обнявшись умиленья пера Увидя II с Средь.\n",
            "Вам упадет Ей Его вас Ленский блеск Зарецкий солнце.\n",
            "Дождусь звон седой Нереиды скучной в я Я Теперь ночью.\n",
            "Прекрасный удила скрепясь I стенах У красе одолженье уст собаки воротник страшного.\n",
            "Пришло.\n",
            "В вас друг Я Наследник ли скату О темноте надоели.\n"
          ]
        }
      ]
    },
    {
      "cell_type": "code",
      "source": [
        "#пятый порядок\n",
        "for i in range(6):\n",
        "  print(generate_random_sentence(7, mc5, 5))\n",
        "print(40*\"#\")\n",
        "for i in range(6):\n",
        "  print(generate_random_sentence(7, mc5_dumb, 5))"
      ],
      "metadata": {
        "colab": {
          "base_uri": "https://localhost:8080/"
        },
        "id": "Mh5AxiyfyGvr",
        "outputId": "c0f097ab-c5c5-48de-d6d9-c1d0574141fd"
      },
      "execution_count": null,
      "outputs": [
        {
          "output_type": "stream",
          "name": "stdout",
          "text": [
            "Сладостной любви венок Его восторгов ожидали Гимена хлопоты печали Зевоты хладная чреда.\n",
            "Сам впросак Он попадался как простак Умел он весело.\n",
            "Endormie Меж ветхих песен альманаха Был напечатан сей куплет Трике догадливый.\n",
            "Когтями Ей протянул она скрепясь Дрожащей ручкой оперлась И.\n",
            "Считаясь инвалидом Онегин слушал с важным видом Как сердца.\n",
            "Роковые.\n",
            "########################################\n",
            "Смертные И Тревожить скорой никому Поверьте III ты довольна.\n",
            "Воск И ум было И А вас обедом оно.\n",
            "Лежал С хоть думу на что бы пылкой могильной в кого.\n",
            "Достойный малого Ты И место Красавец иногда далече XXX она.\n",
            "Развозят.\n",
            "Скамейке.\n"
          ]
        }
      ]
    },
    {
      "cell_type": "markdown",
      "source": [
        "В качестве генератора взяты обученные марковские цепи $1 \\ldots n$ порядков, генерация осуществляется таким образом, что если последние $n$ слов не попадают в словарь, то используется цепь меньшего порядка.\n",
        "\n",
        "Основные выводы:\n",
        "* Чем больше текста, тем лучше генерация (больше статистики)\n",
        "* бОльшие порядки цепи дают лучшие результаты "
      ],
      "metadata": {
        "id": "g09N1eLMxXqF"
      }
    },
    {
      "cell_type": "markdown",
      "metadata": {
        "id": "4dc6DE2wJ3OJ"
      },
      "source": [
        "## 2. Подгоняем под предельное распределение"
      ]
    },
    {
      "cell_type": "markdown",
      "metadata": {
        "id": "SDzLxezsKayy"
      },
      "source": [
        "\n",
        "### Вопрос\n",
        "Пусть у нашей марковской цепи $n$ состояний, которые образуют цикл длины $n$. Пусть также вероятности перехода заданы так: из $k$ состояния мы с веротяностью $p_k$ можем перейти в следующее состояние ($k+1 \\mod n$), а с вероятностью $1-p_k$ остаться в том же состоянии $k$. Покажите, что у этой цепи есть предельное состояние при любом начальном распределении. \n",
        "\n",
        "### Ответ\n",
        "Существование у матрицы максимального собственного числа $|λ| = 1$ (все $|λ| \\leq 1)$  и единичного собственного вектора, так как сумма компонент по строкам равна 1 даёт нам проверить соотвествующий нормированный собственный вектор. Если выполняется условие\n",
        "$$\n",
        "    \\lim_{t → ∞} (P^⊤)^t \\pi^0 = \\pi^{*}, \n",
        "$$ \n",
        "то для данного начального распределение $\\pi$ предельное состояние существует. Так как $\\pi$ выбрано произвольным, то доказано.\n",
        "\n",
        "### Вопрос\n",
        "Для любого ли набора \n",
        "\n",
        "$$\\sum\\limits_{k=1}^n \\pi_k = 1$$\n",
        "\n",
        "можно подобрать такие вероятности перехода $p_k$, что предельное состояние марковской цепи станет равным $\\pi_k$?\n",
        "\n",
        "\n",
        "### Ответ\n",
        "По  [теореме 6.11](https://arxiv.org/pdf/1907.01060.pdf), в любой конечной марковской цепи существует хотя бы одно стационарное состояние"
      ]
    },
    {
      "cell_type": "code",
      "metadata": {
        "id": "QdoGFE0QJ2xz",
        "colab": {
          "base_uri": "https://localhost:8080/"
        },
        "outputId": "7031e342-7526-4826-cebc-38053d2942b4"
      },
      "source": [
        "import numpy as np\n",
        "n = 5\n",
        "pi = np.random.rand(n)\n",
        "pi = pi / pi.sum()\n",
        "print(pi)"
      ],
      "execution_count": null,
      "outputs": [
        {
          "output_type": "stream",
          "name": "stdout",
          "text": [
            "[0.23335545 0.02816682 0.12797348 0.3149717  0.29553255]\n"
          ]
        }
      ]
    },
    {
      "cell_type": "code",
      "source": [
        "p = np.array([0.1, 0.4, 0.2, 0.1, 0.3])\n",
        "transition_mat = np.diag(1 - p) + np.diag(p[:-1], 1)\n",
        "transition_mat[-1][0] = p[-1]\n",
        "print(transition_mat)"
      ],
      "metadata": {
        "colab": {
          "base_uri": "https://localhost:8080/"
        },
        "id": "VukWQjKmZI-D",
        "outputId": "cf99a588-0a6f-4612-f264-313841e0ea89"
      },
      "execution_count": null,
      "outputs": [
        {
          "output_type": "stream",
          "name": "stdout",
          "text": [
            "[[0.9 0.1 0.  0.  0. ]\n",
            " [0.  0.6 0.4 0.  0. ]\n",
            " [0.  0.  0.8 0.2 0. ]\n",
            " [0.  0.  0.  0.9 0.1]\n",
            " [0.3 0.  0.  0.  0.7]]\n"
          ]
        }
      ]
    },
    {
      "cell_type": "code",
      "source": [
        "S, U = np.linalg.eig(transition_mat.T)\n",
        "stationary = np.array(U[:, np.where(np.abs(S - 1.) < 1e-8)[0][0]].flat)\n",
        "stationary = stationary / np.sum(stationary)\n",
        "stationary.real[:, None]"
      ],
      "metadata": {
        "colab": {
          "base_uri": "https://localhost:8080/"
        },
        "id": "Pedq50s2b5gr",
        "outputId": "692d60ca-1662-4409-d37b-835a1b50950f"
      },
      "execution_count": null,
      "outputs": [
        {
          "output_type": "execute_result",
          "data": {
            "text/plain": [
              "array([[0.32432432],\n",
              "       [0.08108108],\n",
              "       [0.16216216],\n",
              "       [0.32432432],\n",
              "       [0.10810811]])"
            ]
          },
          "metadata": {},
          "execution_count": 222
        }
      ]
    },
    {
      "cell_type": "code",
      "source": [
        "print(np.linalg.matrix_power(transition_mat.T, 1000)@ pi.reshape(-1, 1))"
      ],
      "metadata": {
        "colab": {
          "base_uri": "https://localhost:8080/"
        },
        "id": "0vjwkZX8cz48",
        "outputId": "f418c58c-df02-4f42-b8ad-2ecbf926c4f4"
      },
      "execution_count": null,
      "outputs": [
        {
          "output_type": "stream",
          "name": "stdout",
          "text": [
            "[[0.32432432]\n",
            " [0.08108108]\n",
            " [0.16216216]\n",
            " [0.32432432]\n",
            " [0.10810811]]\n"
          ]
        }
      ]
    },
    {
      "cell_type": "code",
      "source": [
        "# на тестовом примере получается равномерное распределение\n",
        "np.linalg.matrix_power(transition_mat.T, 1000)"
      ],
      "metadata": {
        "colab": {
          "base_uri": "https://localhost:8080/"
        },
        "id": "Otknto21_py9",
        "outputId": "e98ba579-682e-4b66-a98b-016a8c06562f"
      },
      "execution_count": null,
      "outputs": [
        {
          "output_type": "execute_result",
          "data": {
            "text/plain": [
              "array([[0.2, 0.2, 0.2, 0.2, 0.2],\n",
              "       [0.2, 0.2, 0.2, 0.2, 0.2],\n",
              "       [0.2, 0.2, 0.2, 0.2, 0.2],\n",
              "       [0.2, 0.2, 0.2, 0.2, 0.2],\n",
              "       [0.2, 0.2, 0.2, 0.2, 0.2]])"
            ]
          },
          "metadata": {},
          "execution_count": 215
        }
      ]
    },
    {
      "cell_type": "markdown",
      "source": [
        "## 3. Алгоритмы на бандитах"
      ],
      "metadata": {
        "id": "m_tRjggrZ80s"
      }
    },
    {
      "cell_type": "markdown",
      "source": [
        "Пусть у нас есть $N$ действий, которые приводят к случайной награде, распределенной как $\\mathcal{N}(m_i, \\sigma_i^2)$. Реализуйте алгоритмы, указанные ниже, и отрисуйте  их накопленную награду и regret"
      ],
      "metadata": {
        "id": "XDaSrvqiaDZ3"
      }
    },
    {
      "cell_type": "code",
      "source": [
        "import numpy as np\n",
        "from matplotlib import pyplot as plt"
      ],
      "metadata": {
        "id": "Q-Dkz9fmcQGU"
      },
      "execution_count": null,
      "outputs": []
    },
    {
      "cell_type": "code",
      "source": [
        "class Bandit:\n",
        "    def __call__(self) -> float:\n",
        "        pass \n",
        "\n",
        "class GaussBandit(Bandit):\n",
        "  def __init__(self, mu: float, sigma: float):\n",
        "    self.mu = mu\n",
        "    self.sigma = sigma\n",
        "\n",
        "  def __call__(self) -> float:\n",
        "    reward = np.random.normal(self.mu, self.sigma)\n",
        "    return reward"
      ],
      "metadata": {
        "id": "Yn0hTLZpaChQ"
      },
      "execution_count": null,
      "outputs": []
    },
    {
      "cell_type": "code",
      "source": [
        "class Algorithm:\n",
        "  def __init__(self, N: int):\n",
        "    \"\"\"\n",
        "    N - number of bandits\n",
        "    \"\"\"\n",
        "    self.N = N\n",
        "    \n",
        "\n",
        "  def choose(self) -> int:\n",
        "    \"\"\"\n",
        "    Choosing bandit from 0 to N-1\n",
        "    \"\"\"\n",
        "    pass\n",
        "\n",
        "  def update(self, n: int, reward: float):\n",
        "    \"\"\"\n",
        "    Getting feedback.\n",
        "    n: number of bandit from 0 to N-1\n",
        "    reward: obtained value of reward\n",
        "    \"\"\"\n",
        "    pass\n"
      ],
      "metadata": {
        "id": "SOgWhHadchag"
      },
      "execution_count": null,
      "outputs": []
    },
    {
      "cell_type": "code",
      "source": [
        "class Monkey(Algorithm):\n",
        "#   def __init__(self):\n",
        "#       self.__name__ = \"Monkey\"\n",
        "  def choose(self):\n",
        "    return np.random.randint(self.N)\n",
        "  def __str__(self):\n",
        "    return f\"{self.__class__.__name__}\"   "
      ],
      "metadata": {
        "id": "ecwL0ig0gDGh"
      },
      "execution_count": null,
      "outputs": []
    },
    {
      "cell_type": "markdown",
      "source": [
        "1. https://www.datahubbs.com/multi_armed_bandits_reinforcement_learning_1/"
      ],
      "metadata": {
        "id": "lnoZ_-aoWqBz"
      }
    },
    {
      "cell_type": "code",
      "source": [
        "class EpsilonGreedy(Algorithm):\n",
        "    def __init__(self, eps: float, N: int):\n",
        "        super().__init__(N)\n",
        "        self.reward = np.zeros(N)\n",
        "        self.k_n = np.zeros(N)\n",
        "        self.eps = eps\n",
        "    def choose(self):\n",
        "        p = np.random.rand()\n",
        "        if self.eps == 0 and self.N == 0:\n",
        "            bandit = np.random.randint(self.N)\n",
        "        elif p < self.eps:\n",
        "            # Randomly select an action\n",
        "            bandit = np.random.randint(self.N)\n",
        "        else:\n",
        "            # Take greedy action\n",
        "            bandit = np.argmax(self.reward)  \n",
        "        return bandit\n",
        "\n",
        "    def update(self, a: int, reward: float):\n",
        "        self.k_n[a] += 1\n",
        "        self.reward[a] = self.reward[a] + (\n",
        "            reward - self.reward[a]) / self.k_n[a]\n",
        "\n",
        "    def __str__(self):\n",
        "        return f\"{self.__class__.__name__}, eps={self.eps}\"\n"
      ],
      "metadata": {
        "id": "2-m7TtfRdqfn"
      },
      "execution_count": null,
      "outputs": []
    },
    {
      "cell_type": "markdown",
      "source": [
        "1. https://www.datahubbs.com/multi-armed-bandits-reinforcement-learning-2/\n"
      ],
      "metadata": {
        "id": "hIKcgMVuVvBg"
      }
    },
    {
      "cell_type": "code",
      "source": [
        "class UCB(Algorithm):\n",
        "    def __init__(self, c: float, N: int):\n",
        "        super().__init__(N)\n",
        "        self.reward = np.zeros(N)\n",
        "        self.k_n = np.ones(N)\n",
        "        self.t = 1\n",
        "        self.c = c\n",
        "        self.eps = eps\n",
        "    def choose(self):\n",
        "        return np.argmax(\n",
        "            self.reward + self.c * np.sqrt((np.log(self.t)) / self.k_n)\n",
        "            )\n",
        "\n",
        "    def update(self, a: int, reward: float):\n",
        "        self.k_n[a] += 1\n",
        "        self.t += 1\n",
        "        self.reward[a] = self.reward[a] + (\n",
        "            reward - self.reward[a]) / self.k_n[a]\n",
        "\n",
        "    def __str__(self):\n",
        "        return f\"{self.__class__.__name__}, C={self.c}\""
      ],
      "metadata": {
        "id": "5wF4Uud7dy6j"
      },
      "execution_count": null,
      "outputs": []
    },
    {
      "cell_type": "markdown",
      "source": [
        "1. https://towardsdatascience.com/thompson-sampling-using-conjugate-priors-e0a18348ea2d\n",
        "2. https://en.wikipedia.org/wiki/Conjugate_prior#When_likelihood_function_is_a_continuous_distribution\n",
        "3. https://people.eecs.berkeley.edu/~jordan/courses/260-spring10/lectures/lecture5.pdf\n",
        "\n",
        "I used the case with a fixed variance\n",
        "\n"
      ],
      "metadata": {
        "id": "WYBV-LlQXJjG"
      }
    },
    {
      "cell_type": "code",
      "source": [
        "class ThompsonSampling(Algorithm):\n",
        "    def __init__(self, v: list, N: int):       \n",
        "\n",
        "        super().__init__(N)\n",
        "        self.k_n = np.ones(N)\n",
        "\n",
        "        self.μ_0 = np.ones(N) # the posterior (estimated) mean\n",
        "        self.reward = np.zeros(N)\n",
        "        # the posterior variance\n",
        "        # - we know this, so set it equal to the true variance\n",
        "        self.v_0 = np.ones(N) *1e-3\n",
        "        self.v = np.array(v)\n",
        "\n",
        "    @staticmethod\n",
        "    def random_argmax(value_list: list):\n",
        "        values = np.asarray(value_list)\n",
        "        return np.argmax(np.random.random(values.shape) * (values==values.max()))\n",
        "\n",
        "             \n",
        "    def choose(self):\n",
        "        action = self.random_argmax([\n",
        "            np.random.normal(μ_0e, v_0e) for μ_0e, v_0e in zip(self.μ_0, self.v_0)\n",
        "        ]) \n",
        "        return action\n",
        "                    \n",
        "    def update(self, a: int, reward: float):\n",
        "        self.k_n[a] += 1\n",
        "        self.reward[a] = self.reward[a] + (reward - self.reward[a]) / self.k_n[a]\n",
        "\n",
        "        # update the mean of the posterior      \n",
        "        self.μ_0[a] = 1 / (1 / (self.v_0[a] ** 2 + 1e-15)  + self.k_n[a] / self.v[a]) * (self.μ_0[a] / (self.v_0[a] ** 2 + 1e-15) + self.reward[a] / self.v[a])\n",
        "        self.v_0[a] = 1 / (1 / (self.v_0[a] ** 2 + 1e-15)  + self.k_n[a] / self.v[a])\n",
        "          \n",
        "    def __str__(self):\n",
        "        return f\"{self.__class__.__name__}\""
      ],
      "metadata": {
        "id": "_-FpqZ1Zd2Ci"
      },
      "execution_count": null,
      "outputs": []
    },
    {
      "cell_type": "code",
      "source": [
        "def run_experiment(bandits: list,\n",
        "                   algorithm: Algorithm,\n",
        "                   steps: int = 1000):\n",
        "    reward_history = []\n",
        "\n",
        "    for n_step in range(steps):\n",
        "        action = algorithm.choose()\n",
        "        choosed_bandit = bandits[action]\n",
        "        reward = choosed_bandit()\n",
        "        algorithm.update(action, reward)\n",
        "\n",
        "        reward_history.append(reward)\n",
        "\n",
        "    reward_history = np.cumsum(reward_history)\n",
        "\n",
        "    return reward_history"
      ],
      "metadata": {
        "id": "jjUwelOOd6gC"
      },
      "execution_count": null,
      "outputs": []
    },
    {
      "cell_type": "code",
      "source": [
        "bandits = [\n",
        "    GaussBandit(i, 2) for i in range(10)\n",
        "]\n",
        "\n",
        "N = 10\n",
        "eps = 0.1\n",
        "C = 7.\n",
        "algorithms = [\n",
        "    Monkey(N),\n",
        "    EpsilonGreedy(eps, N),\n",
        "    UCB(C, N),\n",
        "    ThompsonSampling([2] * N, N)\n",
        "]\n",
        "\n",
        "\n",
        "\n",
        "steps = 10000\n",
        "fig, axes = plt.subplots(1, 2, figsize=(15, 7))\n",
        "ax1 = axes[0]\n",
        "ax1.set_title(\"Cumulative reward\")\n",
        "ax1.plot(np.arange(steps), 10 * np.arange(steps), \"--r\", label=\"ideal\")\n",
        "ax2 = axes[1]\n",
        "ax2.set_title(\"Regret\")\n",
        "ax2.plot(np.arange(steps), np.zeros(steps), \"--r\", label=\"ideal\")\n",
        "\n",
        "for algorithm in algorithms:\n",
        "    reward_history = run_experiment(bandits, algorithm, steps)\n",
        "    regret = 10 * np.arange(1, steps + 1) - reward_history\n",
        "    ax1.plot(reward_history, label=str(algorithm))\n",
        "    ax2.plot(regret, label=str(algorithm))\n",
        "    plt.legend()\n"
      ],
      "metadata": {
        "colab": {
          "base_uri": "https://localhost:8080/",
          "height": 444
        },
        "id": "OlkB-1sVhHO0",
        "outputId": "2df9a67a-02a6-4759-e0de-0a62114d4201"
      },
      "execution_count": null,
      "outputs": [
        {
          "output_type": "display_data",
          "data": {
            "text/plain": [
              "<Figure size 1080x504 with 2 Axes>"
            ],
            "image/png": "[encoded data removed]"
          },
          "metadata": {
            "needs_background": "light"
          }
        }
      ]
    },
    {
      "cell_type": "markdown",
      "source": [
        "## 4. Бизнес"
      ],
      "metadata": {
        "id": "90KQkYz6kX5b"
      }
    },
    {
      "cell_type": "markdown",
      "source": [
        "Представьте, что вы продаете какой-то товар на онлайн площадке, и хотите оптимизировать цену для максимизации получаемой прибыли. Вы можете выставить любую цену на свой товар, и наблюдать, сколько он получает просмотров и покупок. \n",
        "\n",
        "Поскольку число просмотров вы контроллировать не можете, то логично взять отношение покупок к просмотрам $\\alpha$ (будем называть эту величину конверсией), и умножить ее на получаемую прибыть с одной покупки, которая равна $p - p_0$, где $p$ - цена за товар, а $p_0$ - его себестоимость.\n",
        "\n",
        "Таким образом, вы хотите решить оптимизационную задачу\n",
        "\n",
        "$$\\alpha(p) \\cdot (p - p_0) \\to \\max\\limits_p$$\n",
        "\n",
        "где функцию $\\alpha$ (вообще говоря, случайную) вы не знаете, но можете оценить, выставляя разную цену. Для удобства давайте считать, что вы выставляете цену $p_t$ раз в день, и вечером получаете реацию $\\alpha_t = \\alpha(p_t)$ и награду $\\alpha_t (p_t - p_0)$.\n",
        "\n",
        "Допустим, вы решили моделировать спрос при помощи экспоненциального распределения, то есть предполагаете, что при цене $p$ покупатель, зашедший к вам на страницу купит товар с вероятностью $\\exp(- \\lambda p)$, где $\\lambda$ - некоторая константа, не зависящая ни от цены, ни от номера дня $t$. \n",
        "\n",
        "\n",
        "В такой постановке задачи можно в качестве возможных **действий** использовать не множество цен, а множество возможных $\\lambda$. То есть вы выбираете одну из моделей спроса, действуете исходя из нее и получаете в конце дня некую прибыль. Тогда выбор модели - это action, а прибыль - reward. \n",
        "\n",
        "- Реализуйте предложенный алгоритм\n",
        "- Найдите теоретически оптимальную цену и отрисуйте график регрета получившегося алгоритма. Растет ли он быстрее/медленнее линейной функции -- $\\tilde{O}(\\sqrt{T})$?\n",
        "- Оцените время сходимости в зависимости от количества покупок в день\n",
        "- прочитайте эту любопытную статью про динамическое ценообразование: https://blog.griddynamics.com/dynamic-pricing-algorithms/, https://hamsabastani.github.io/metapricing.pdf\n"
      ],
      "metadata": {
        "id": "zTlcyFzDkabC"
      }
    },
    {
      "cell_type": "code",
      "source": [
        "import numpy as np\n",
        "from matplotlib import pyplot as plt"
      ],
      "metadata": {
        "id": "WMDhZCLtF4C_"
      },
      "execution_count": null,
      "outputs": []
    },
    {
      "cell_type": "code",
      "source": [
        "real_lambda = 1 / 42\n",
        "real_price = 0.\n",
        "def get_conversion(price, n_people, lambd):\n",
        "    prob_of_buying = np.exp(-lambd * price)\n",
        "    n_buys = np.random.binomial(n_people, prob_of_buying)\n",
        "    return n_buys * 1.0 / n_people"
      ],
      "metadata": {
        "id": "fY0mSQQiiM64"
      },
      "execution_count": null,
      "outputs": []
    },
    {
      "cell_type": "code",
      "source": [
        "possible_lambdas = 1.0 / np.arange(1, 101)\n",
        "apriory_probs = np.ones_like(possible_lambdas)\n",
        "apriory_probs = apriory_probs / apriory_probs.sum()"
      ],
      "metadata": {
        "id": "_014OTUs4k8w"
      },
      "execution_count": null,
      "outputs": []
    },
    {
      "cell_type": "code",
      "source": [
        "class ThompsonDemand:\n",
        "  def __init__(self, possible_lambdas: np.ndarray, \n",
        "                     apriory_probs: np.ndarray, \n",
        "                     n_people: int):\n",
        "    self.lambdas = possible_lambdas\n",
        "    self.alpha = np.ones_like(possible_lambdas) * 10.\n",
        "    self.beta = np.ones_like(possible_lambdas) * 1.\n",
        "    self.rewards = apriory_probs\n",
        "    self.n_people = n_people\n",
        "    \n",
        "  \n",
        "  def update(self, lambda_idx: float, reward: float):\n",
        "    self.rewards[lambda_idx] += reward\n",
        "    self.alpha[lambda_idx] += 1\n",
        "    self.beta[lambda_idx] += self.rewards[lambda_idx]\n",
        "    \n",
        "  def suggest_price(self):\n",
        "    price = np.random.gamma(self.alpha, 1. / self.beta)\n",
        "    alpha = np.exp(-self.lambdas * price) * price \n",
        "    lambda_index = np.argmax(alpha)\n",
        "    return lambda_index, max(price)\n",
        "  \n",
        "  def __str__(self):\n",
        "        return f\"{self.__class__.__name__}\""
      ],
      "metadata": {
        "id": "CwHo-vz-40U6"
      },
      "execution_count": null,
      "outputs": []
    },
    {
      "cell_type": "code",
      "source": [
        "def run_business(\n",
        "                    days: int = 1000,\n",
        "                    n_people: int = 10, # how many people views your product per day\n",
        "                 ):\n",
        "  ai_manager = ThompsonDemand(possible_lambdas, apriory_probs, n_people)\n",
        "\n",
        "  reward_history = []\n",
        "  parameters_list = []  \n",
        "  for n_day in range(days):\n",
        "    lambda_index, price = ai_manager.suggest_price()\n",
        "    conversion = get_conversion(price, n_people, lambd = real_lambda)\n",
        "\n",
        "    reward = conversion * (price - real_price)\n",
        "\n",
        "    ai_manager.update(lambda_index, reward)\n",
        "\n",
        "    reward_history.append(reward)\n",
        "    parameters_list.append(abs(real_lambda - possible_lambdas[lambda_index]))\n",
        "  reward_history = np.cumsum(reward_history)\n",
        "  \n",
        "  return reward_history, np.mean(parameters_list)"
      ],
      "metadata": {
        "id": "rOoR1WLJ5wbO"
      },
      "execution_count": null,
      "outputs": []
    },
    {
      "cell_type": "code",
      "source": [
        "days = 3000\n",
        "n_people =15\n",
        "\n",
        "# price = np.random.poisson(1/ real_lambda, size = 1)[0]\n",
        "# conversion = get_conversion(price, n_people, lambd = real_lambda)\n",
        "# reward = conversion * (price - real_price)\n",
        "reward_history, mae_lambda = run_business(days, n_people)\n",
        "\n",
        "fig, axes = plt.subplots(1, 1, figsize=(15, 7))\n",
        "ax1 = axes\n",
        "ax1.set_title(\"Cumulative reward\")\n",
        "# ax1.plot(np.arange(days), parameters_list * np.arange(1, days + 1), \"--r\", label=\"ideal\")\n",
        "# ax2 = axes[1]\n",
        "# ax2.set_title(\"Regret\")\n",
        "# ax2.plot(np.arange(days), np.zeros(days), \"--r\", label=\"ideal\")\n",
        "print(r\"MAE in the λ prediction:\", mae_lambda)\n",
        "# regret = reward * np.arange(1, days + 1) - reward_history\n",
        "ax1.plot(reward_history, label=\"price Thompson algorithm\")\n",
        "ax2.plot(regret, label=\"price Thompson algorithm\")\n",
        "plt.legend()\n"
      ],
      "metadata": {
        "id": "PYbFSVrw6516",
        "colab": {
          "base_uri": "https://localhost:8080/",
          "height": 479
        },
        "outputId": "4a95dcf0-66c0-4d21-9fad-345ec8ec7c43"
      },
      "execution_count": null,
      "outputs": [
        {
          "output_type": "stream",
          "name": "stdout",
          "text": [
            "MAE in λ prediction: 0.08984149176460522\n"
          ]
        },
        {
          "output_type": "execute_result",
          "data": {
            "text/plain": [
              "<matplotlib.legend.Legend at 0x7fcea66d2fd0>"
            ]
          },
          "metadata": {},
          "execution_count": 69
        },
        {
          "output_type": "display_data",
          "data": {
            "text/plain": [
              "<Figure size 1080x504 with 1 Axes>"
            ],
            "image/png": "[encoded data removed]"
          },
          "metadata": {
            "needs_background": "light"
          }
        }
      ]
    },
    {
      "cell_type": "markdown",
      "source": [
        "Хотелось бы обратить внимание, что задача одновременно сформулирована так, что нужно искать значение λ и значения α($p_t$), то есть распределение цен, что я не совсем понимаю, как делать. Единственное, до чего я додумался, -- это пресказывать price как Г-распределение, сопряжённое распредению цен, которое я предположил пуассовским. Задача очень похожа на задачу линейного программирования, но в ссылке к заданию даны цены и нужно искать параметры и не до конца понятно, как сделать наоборот."
      ],
      "metadata": {
        "id": "GaJiRxDHEB0L"
      }
    },
    {
      "cell_type": "code",
      "source": [],
      "metadata": {
        "id": "DsENm9N7FPaf"
      },
      "execution_count": null,
      "outputs": []
    }
  ]
}