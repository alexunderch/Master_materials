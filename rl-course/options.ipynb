{
  "cells": [
    {
      "cell_type": "markdown",
      "metadata": {
        "id": "vzUNImc4ubIh"
      },
      "source": [
        "# Предобучение навыков (опций)\n",
        "link: https://ai.stackexchange.com/questions/13254/what-are-options-in-reinforcement-learning\n",
        "\n",
        "Нашей задачей будет создание набора опций, каждая из которых должна быть обучена достигать определенные состояния в задаче такси. Для обучения агента воспользуемся реализацией алгоритма Q-обучения."
      ]
    },
    {
      "cell_type": "code",
      "execution_count": 1,
      "metadata": {
        "id": "aKYbZ1seubIm",
        "colab": {
          "base_uri": "https://localhost:8080/"
        },
        "outputId": "3227c115-8bfb-46c7-c1e3-2867de9d60df"
      },
      "outputs": [
        {
          "output_type": "stream",
          "name": "stdout",
          "text": [
            "\u001b[2K     \u001b[90m━━━━━━━━━━━━━━━━━━━━━━━━━━━━━━━━━━━━━━\u001b[0m \u001b[32m925.5/925.5 kB\u001b[0m \u001b[31m42.0 MB/s\u001b[0m eta \u001b[36m0:00:00\u001b[0m\n",
            "\u001b[2K     \u001b[90m━━━━━━━━━━━━━━━━━━━━━━━━━━━━━━━━━━━━━━━━\u001b[0m \u001b[32m13.7/13.7 MB\u001b[0m \u001b[31m81.4 MB/s\u001b[0m eta \u001b[36m0:00:00\u001b[0m\n",
            "\u001b[2K     \u001b[90m━━━━━━━━━━━━━━━━━━━━━━━━━━━━━━━━━━━━━━\u001b[0m \u001b[32m434.7/434.7 kB\u001b[0m \u001b[31m42.1 MB/s\u001b[0m eta \u001b[36m0:00:00\u001b[0m\n",
            "\u001b[?25h  Installing build dependencies ... \u001b[?25l\u001b[?25hdone\n",
            "  Getting requirements to build wheel ... \u001b[?25l\u001b[?25hdone\n",
            "  Preparing metadata (pyproject.toml) ... \u001b[?25l\u001b[?25hdone\n",
            "\u001b[2K     \u001b[90m━━━━━━━━━━━━━━━━━━━━━━━━━━━━━━━━━━━━━━━━\u001b[0m \u001b[32m1.7/1.7 MB\u001b[0m \u001b[31m75.9 MB/s\u001b[0m eta \u001b[36m0:00:00\u001b[0m\n",
            "\u001b[?25h  Building wheel for AutoROM.accept-rom-license (pyproject.toml) ... \u001b[?25l\u001b[?25hdone\n",
            "\u001b[2K     \u001b[90m━━━━━━━━━━━━━━━━━━━━━━━━━━━━━━━━━━━━━━━━\u001b[0m \u001b[32m67.5/67.5 kB\u001b[0m \u001b[31m9.6 MB/s\u001b[0m eta \u001b[36m0:00:00\u001b[0m\n",
            "\u001b[?25h"
          ]
        }
      ],
      "source": [
        "try:\n",
        "    import google.colab\n",
        "    COLAB = True\n",
        "except ModuleNotFoundError:\n",
        "    COLAB = False\n",
        "    pass\n",
        "\n",
        "if COLAB:\n",
        "    !pip -q install \"gymnasium[classic-control, atari, accept-rom-license]\"\n",
        "    !pip -q install piglet\n",
        "    !pip -q install imageio_ffmpeg\n",
        "    !pip -q install moviepy==1.0.3"
      ]
    },
    {
      "cell_type": "code",
      "source": [],
      "metadata": {
        "id": "zg1qOLPL16eI"
      },
      "execution_count": 1,
      "outputs": []
    },
    {
      "cell_type": "code",
      "execution_count": 55,
      "metadata": {
        "id": "agM9dJxbubIo",
        "colab": {
          "base_uri": "https://localhost:8080/"
        },
        "outputId": "86e18690-7264-42fe-9520-0441d7535a9d"
      },
      "outputs": [
        {
          "output_type": "stream",
          "name": "stdout",
          "text": [
            "+---------+\n",
            "|R: | : :\u001b[35mG\u001b[0m|\n",
            "| : | : : |\n",
            "| : : : :\u001b[43m \u001b[0m|\n",
            "| | : | : |\n",
            "|\u001b[34;1mY\u001b[0m| : |B: |\n",
            "+---------+\n",
            "\n",
            "\n"
          ]
        }
      ],
      "source": [
        "# импортируем файлы и создаем окружение\n",
        "import gymnasium as gym\n",
        "from collections import defaultdict\n",
        "import numpy as np\n",
        "import matplotlib.pyplot as plt\n",
        "%matplotlib inline\n",
        "\n",
        "environment = gym.make('Taxi-v3', render_mode='ansi')\n",
        "environment.reset()\n",
        "print(environment.render())"
      ]
    },
    {
      "cell_type": "code",
      "execution_count": 56,
      "metadata": {
        "id": "MO86bTCYubIp"
      },
      "outputs": [],
      "source": [
        "class QLearningAgent:\n",
        "    def __init__(self, learning_rate, epsilon, gamma, get_legal_actions, seed=1337):\n",
        "        self.get_legal_actions = get_legal_actions\n",
        "        self.Q = defaultdict(lambda: defaultdict(lambda: 0))  # when called, non-existent values appear as zeros\n",
        "        self.learning_rate = learning_rate\n",
        "        self.epsilon = epsilon\n",
        "        self.gamma = gamma\n",
        "        self.rng = np.random.default_rng(seed)\n",
        "    \n",
        "    def Qs(self, state, actions):\n",
        "        return np.array([self.Q[state][action] for action in actions])\n",
        "\n",
        "    def V(self, state):\n",
        "        \"\"\"Returns max_action Q(state,action) where the max is over legal actions.\"\"\"\n",
        "        possible_actions = self.get_legal_actions(state)\n",
        "        if not possible_actions:\n",
        "            return 0.\n",
        "\n",
        "        return np.max(self.Qs(state, possible_actions))\n",
        "\n",
        "\n",
        "    def act(self, state):\n",
        "        \"\"\"\n",
        "        Compute the action to take for the current state, including exploration.\n",
        "        With probability self.epsilon, we should take a random action,\n",
        "        otherwise - the best policy action (self.getPolicy).\n",
        "        \"\"\"\n",
        "\n",
        "        possible_actions = self.get_legal_actions(state)\n",
        "        if not possible_actions:\n",
        "            return None\n",
        "\n",
        "        if self.rng.random() < self.epsilon:\n",
        "            action = self.rng.choice(possible_actions)\n",
        "        else:\n",
        "            best_action_ind = np.argmax(self.Qs(state, possible_actions))\n",
        "            action = possible_actions[best_action_ind]\n",
        "        return action\n",
        "\n",
        "    def update(self, state, action, next_state, reward, terminated):\n",
        "        lr, gamma, r, s, a, next_s = self.learning_rate, self.gamma, reward, state, action, next_state\n",
        "        not_terminated = int(not terminated)\n",
        "        Q, V = self.Q, self.V\n",
        "        \n",
        "        td_error = r + gamma * not_terminated * V(next_s) - Q[s][a]\n",
        "        Q[s][a] += lr * td_error"
      ]
    },
    {
      "cell_type": "markdown",
      "metadata": {
        "id": "8ON8TEVpubIq"
      },
      "source": [
        "### Задание 1 \n",
        "Разберемся как реализована среда Taxi: https://github.com/openai/gym/blob/master/gym/envs/toy_text/taxi.py\n",
        "\n",
        "Создадим 4 окружения аналогичных Taxi, в которых целью агента будет достижение одной из точек: R, G, B, Y соответственно. "
      ]
    },
    {
      "cell_type": "code",
      "execution_count": 57,
      "metadata": {
        "id": "ktrytbx_ubIs"
      },
      "outputs": [],
      "source": [
        "class TaxiStepWrapper(gym.Wrapper):\n",
        "    def __init__(self, env, target_id, target_reward):\n",
        "        super().__init__(env)\n",
        "        #self.locs  = RGBY position\n",
        "        self._target = self.locs[target_id]\n",
        "        self._target_reward = target_reward\n",
        "\n",
        "    def target_reached(self, state) -> bool:\n",
        "        taxi_pos_x, taxi_pos_y, p_idx, d_idx = list(self.env.decode(state))\n",
        "        return (taxi_pos_x, taxi_pos_y) == self._target \n",
        "\n",
        "    def step(self, action):\n",
        "        # получаем параметры (state, reward, _, obs),\n",
        "        # которые передает среда, используя метод step \n",
        "        # проверяем является ли состояние завершающим\n",
        "        # для нашего модифицированного окружения\n",
        "        # изменяем вознаграждение (reward) и \n",
        "        # флаг завершения эпизода (is_done)\n",
        "        # за каждое действие будем давать вознаграждение \n",
        "        # -1, за достижение цели - self._target_reward\n",
        "        ####### Здесь ваш код ########\n",
        "        state, reward, terminated, truncated, info = super().step(action)\n",
        "        taxi_pos_x, taxi_pos_y, p_idx, d_idx = list(self.decode(state))\n",
        "        \n",
        "        terminated = ((taxi_pos_x, taxi_pos_y) == self._target) \n",
        "        reward = self._target_reward if terminated else -1\n",
        "        ##############################\n",
        "\n",
        "        return state, reward, terminated, truncated\n"
      ]
    },
    {
      "cell_type": "markdown",
      "metadata": {
        "id": "FsTsBs1nubIs"
      },
      "source": [
        "Проверим нашу обертку (wrapper), используя случайную стратегию.  Порядок точек должен быть  R, G, Y, B."
      ]
    },
    {
      "cell_type": "code",
      "execution_count": 58,
      "metadata": {
        "id": "tZbDbW5RubIt",
        "colab": {
          "base_uri": "https://localhost:8080/"
        },
        "outputId": "6fe51bc7-f95d-435d-e855-92a76ef5a141"
      },
      "outputs": [
        {
          "output_type": "stream",
          "name": "stdout",
          "text": [
            "+---------+\n",
            "|\u001b[35m\u001b[43mR\u001b[0m\u001b[0m: | : :G|\n",
            "| : | : : |\n",
            "| : : : : |\n",
            "| | : | : |\n",
            "|Y| : |\u001b[34;1mB\u001b[0m: |\n",
            "+---------+\n",
            "  (North)\n",
            "\n",
            "state:12 reward:100 ret:-26\n",
            "+---------+\n",
            "|R: | : :\u001b[43mG\u001b[0m|\n",
            "| : | : : |\n",
            "| : : : : |\n",
            "| | : | : |\n",
            "|\u001b[35mY\u001b[0m| : |\u001b[34;1mB\u001b[0m: |\n",
            "+---------+\n",
            "  (East)\n",
            "\n",
            "state:94 reward:100 ret:70\n",
            "+---------+\n",
            "|\u001b[35mR\u001b[0m: | : :\u001b[34;1mG\u001b[0m|\n",
            "| : | : : |\n",
            "| : : : : |\n",
            "| | : | : |\n",
            "|\u001b[43mY\u001b[0m| : |B: |\n",
            "+---------+\n",
            "  (South)\n",
            "\n",
            "state:404 reward:100 ret:72\n",
            "+---------+\n",
            "|R: | : :G|\n",
            "| : | : : |\n",
            "| : : : : |\n",
            "| | : | : |\n",
            "|\u001b[35mY\u001b[0m| : |\u001b[34;1m\u001b[43mB\u001b[0m\u001b[0m: |\n",
            "+---------+\n",
            "  (South)\n",
            "\n",
            "state:474 reward:100 ret:89\n"
          ]
        }
      ],
      "source": [
        "for idx in range(4):\n",
        "    # создаем окружение с заданным целевым состоянием\n",
        "    ####### Здесь ваш код ########\n",
        "    # print(environment.locs[idx])\n",
        "    test_env = TaxiStepWrapper(env = environment, target_id = idx, target_reward = 100)\n",
        "    terminated = False\n",
        "    ret = 0\n",
        "    ##############################\n",
        "    \n",
        "    # применяем случайную стратегию,\n",
        "    # пока эпизод не завершится\n",
        "    ####### Здесь ваш код ########\n",
        "    _, _ = test_env.reset()\n",
        "    while not terminated:\n",
        "         state, reward, terminated, truncated = test_env.step(test_env.action_space.sample())\n",
        "         ret += reward\n",
        "    ##############################\n",
        "\n",
        "    print(test_env.render())\n",
        "    print(f\"state:{state} reward:{reward} ret:{ret}\")"
      ]
    },
    {
      "cell_type": "code",
      "execution_count": 59,
      "metadata": {
        "id": "NRuu6Ni0ubIu"
      },
      "outputs": [],
      "source": [
        "def play_and_train(env, agent, t_max=10 ** 4):\n",
        "    total_discounted_reward = 0.0\n",
        "    s, _ = env.reset()\n",
        "    for t in range(t_max):\n",
        "        a = agent.act(s)\n",
        "        try:\n",
        "            next_s, r, terminated, truncated = env.step(a)\n",
        "        except ValueError:\n",
        "            next_s, r, terminated, truncated, _ = env.step(a)\n",
        "        done  = terminated or truncated\n",
        "        agent.update(s, a, next_s, r, done)\n",
        "        s = next_s\n",
        "        total_discounted_reward += r\n",
        "        if done: break\n",
        "    return total_discounted_reward"
      ]
    },
    {
      "cell_type": "markdown",
      "metadata": {
        "id": "9tOv9JwsubIv"
      },
      "source": [
        "### Задание 2 \n",
        "1. Обучим агентов на созданных нами окружениях.\n",
        "2. Создадим упрощенный вариант опций, каждая опция будет иметь стратегию, множество начальных состояний и множество конечных состояний."
      ]
    },
    {
      "cell_type": "code",
      "execution_count": 60,
      "metadata": {
        "id": "wlF4eWkxubIw",
        "colab": {
          "base_uri": "https://localhost:8080/"
        },
        "outputId": "94b9e5ba-be03-4cbc-ce2a-79ffeef21668"
      },
      "outputs": [
        {
          "output_type": "stream",
          "name": "stdout",
          "text": [
            "total discounted reward for agent 0: 92.0\n",
            "total discounted reward for agent 1: 69.0\n",
            "total discounted reward for agent 2: 100.0\n",
            "total discounted reward for agent 3: 99.0\n"
          ]
        }
      ],
      "source": [
        "n_actions = environment.action_space.n\n",
        "seed = 1331\n",
        "rng = np.random.default_rng(seed)\n",
        "\n",
        "# параметры, которые будут использовать агенты\n",
        "params = dict(\n",
        "    learning_rate=0.1,\n",
        "    epsilon=0.1, \n",
        "    gamma=0.99,\n",
        "    get_legal_actions=lambda s: range(4),\n",
        "    seed=rng.integers(100_000_000)\n",
        ")\n",
        "\n",
        "# создаем агентов \n",
        "agents_for_options = [\n",
        "    QLearningAgent(**params) for _ in range(4)\n",
        "]\n",
        "\n",
        "for idx in range(4):\n",
        "    # создаем окружение с заданным целевым состоянием, \n",
        "    # используя созданных окружения обучаем агентов\n",
        "    ####### Здесь ваш код ########\n",
        "    env = TaxiStepWrapper(env = environment, target_id = idx, target_reward = 100)\n",
        "    print(\n",
        "        f\"total discounted reward for agent {idx}: {play_and_train(env, agents_for_options[idx])}\"\n",
        "    )\n",
        "    ##############################"
      ]
    },
    {
      "cell_type": "code",
      "execution_count": 61,
      "metadata": {
        "id": "qO3Z5T1UubIw"
      },
      "outputs": [],
      "source": [
        "# реализуем класс опции\n",
        "class Option:\n",
        "    def __init__(self, policy, termination_prob, initial, seed=None):\n",
        "        self.policy = policy\n",
        "        self.termination_prob = termination_prob\n",
        "        self.initial_states = initial\n",
        "        self.rng = np.random.default_rng(seed)\n",
        "\n",
        "    def can_start(self, state):\n",
        "        return state in self.initial_states\n",
        "\n",
        "    def terminate(self, state):\n",
        "        return self.rng.random() <= self.termination_prob[state]\n",
        "\n",
        "    def act(self, state):\n",
        "        return self.policy.act(state)"
      ]
    },
    {
      "cell_type": "code",
      "execution_count": 62,
      "metadata": {
        "id": "fW0GJQL5ubIx"
      },
      "outputs": [],
      "source": [
        "options = []\n",
        "for index, agent in enumerate(agents_for_options):\n",
        "    # Создаем словарь termination_prob, в котором каждому \n",
        "    # состоянию  нужно задать вероятность завершения \n",
        "    # опции. В нашем случае зададим 1.0 или 0.0, \n",
        "    # в зависимости от состояния.\n",
        "    # Создаем множество initial, добавляем в него \n",
        "    # состояния, из которых опция может быть \n",
        "    # вызвана (все кроме целевых)\n",
        "    termination_prob = dict()\n",
        "    initial_states = set()\n",
        "    termination_states = set()\n",
        "    \n",
        "    ####### Здесь ваш код ########\n",
        "    tmp_env = TaxiStepWrapper(env = environment, target_id = index, target_reward = 100)\n",
        "    \n",
        "    termination_prob = {\n",
        "        s: 1.0 if tmp_env.target_reached(s) else 0.0 for s in range(environment.observation_space.n) \n",
        "    }\n",
        "    initial_states = set(termination_prob.keys())\n",
        "\n",
        "    ##############################    \n",
        "\n",
        "    options.append(\n",
        "        Option(\n",
        "            policy=agent, \n",
        "            termination_prob=termination_prob,\n",
        "            initial=initial_states\n",
        "        )\n",
        "    )\n"
      ]
    },
    {
      "cell_type": "code",
      "source": [],
      "metadata": {
        "id": "vPqmfmJ_sK4D"
      },
      "execution_count": 62,
      "outputs": []
    },
    {
      "cell_type": "markdown",
      "metadata": {
        "id": "X0bGOgm4ubIx"
      },
      "source": [
        "### Задание 3\n",
        "Напишем функцию, которая будет запускать опцию и возвращать дисконтированное вознаграждение, опираясь на число совершенных действий\n",
        "$$ R = r_{1} + \\gamma r_{2} + \\gamma^{2} r_{3} + \\dots + \\gamma^{t-1}r_{T}$$"
      ]
    },
    {
      "cell_type": "code",
      "execution_count": 70,
      "metadata": {
        "id": "YglMDY1dubIx",
        "colab": {
          "base_uri": "https://localhost:8080/"
        },
        "outputId": "818828fc-b1ad-4cd3-ae07-5ffaca121072"
      },
      "outputs": [
        {
          "output_type": "stream",
          "name": "stderr",
          "text": [
            "/usr/local/lib/python3.10/dist-packages/ipykernel/ipkernel.py:283: DeprecationWarning: `should_run_async` will not call `transform_cell` automatically in the future. Please pass the result to `transformed_cell` argument and any exception that happen during thetransform in `preprocessing_exc_tuple` in IPython 7.17 and above.\n",
            "  and should_run_async(code)\n"
          ]
        }
      ],
      "source": [
        "def apply_option(option, gamma, env, debug=False):\n",
        "    reward = 0\n",
        "    steps = 0\n",
        "    alpha = 1\n",
        "    state = env.unwrapped.s\n",
        "    if not option.can_start(state):\n",
        "        raise KeyError\n",
        "    \n",
        "    # Взаимодействуем со средой пока опция или окружение \n",
        "    # не завершится, считаем дисконтированное \n",
        "    # вознаграждение reward (используем steps),\n",
        "    # также добавим render окружения, при флаге - debug\n",
        "    \n",
        "    ####### Здесь ваш код ########\n",
        "    while True:\n",
        "        state, reward_t, terminated, truncated, info = env.step(option.act(state))\n",
        "        terminated |=  option.terminate(state)\n",
        "        if terminated or truncated:\n",
        "            break\n",
        "\n",
        "        reward += reward_t * alpha\n",
        "        alpha *= gamma\n",
        "        steps += 1\n",
        "\n",
        "    if debug:\n",
        "        print(env.render())\n",
        "    ##############################\n",
        "\n",
        "    return state, reward, terminated, truncated"
      ]
    },
    {
      "cell_type": "code",
      "source": [],
      "metadata": {
        "id": "Mbophk1yquOm"
      },
      "execution_count": 70,
      "outputs": []
    },
    {
      "cell_type": "code",
      "execution_count": 71,
      "metadata": {
        "id": "2KR72WiMubIy",
        "colab": {
          "base_uri": "https://localhost:8080/"
        },
        "outputId": "d915b9fc-90a0-4fc5-fe8e-6ea57efab21b"
      },
      "outputs": [
        {
          "output_type": "stream",
          "name": "stdout",
          "text": [
            "+---------+\n",
            "|\u001b[43mR\u001b[0m: | : :G|\n",
            "| : | : : |\n",
            "| : : : : |\n",
            "| | : | : |\n",
            "|\u001b[35mY\u001b[0m| : |\u001b[34;1mB\u001b[0m: |\n",
            "+---------+\n",
            "  (North)\n",
            "\n"
          ]
        }
      ],
      "source": [
        "# проверим работу метода\n",
        "env = environment\n",
        "s, _ = env.reset()\n",
        "\n",
        "r = apply_option(options[0], 0.99, env, debug=True)"
      ]
    },
    {
      "cell_type": "markdown",
      "metadata": {
        "id": "IUc2DuBfubIy"
      },
      "source": [
        "Кажется, что все хорошо, но мы забыли рассмотреть вариант, когда пассажир может находиться в такси! Переведем среду в состояние, где пассажира мы уже подобрали и посмотрим, как ведет себя  одна из опций."
      ]
    },
    {
      "cell_type": "code",
      "execution_count": 72,
      "metadata": {
        "id": "tnD2NmzjubIz",
        "colab": {
          "base_uri": "https://localhost:8080/"
        },
        "outputId": "862d2af5-54bc-4d42-dca3-efe6eb4a5c6c"
      },
      "outputs": [
        {
          "output_type": "stream",
          "name": "stdout",
          "text": [
            "+---------+\n",
            "|R: | : :G|\n",
            "| : | : : |\n",
            "| : : : : |\n",
            "| | : | : |\n",
            "|Y| : |\u001b[35mB\u001b[0m:\u001b[42m_\u001b[0m|\n",
            "+---------+\n",
            "\n",
            "\n",
            "\n",
            "\n",
            "\n",
            "+---------+\n",
            "|R: | :\u001b[42m_\u001b[0m:G|\n",
            "| : | : : |\n",
            "| : : : : |\n",
            "| | : | : |\n",
            "|Y| : |\u001b[35mB\u001b[0m: |\n",
            "+---------+\n",
            "  (North)\n",
            "\n",
            "-86.46669950929667\n"
          ]
        }
      ],
      "source": [
        "s, _ = env.reset()\n",
        "env.unwrapped.s = 499\n",
        "print(env.render())\n",
        "print(\"\\n\" * 2)\n",
        "r = apply_option(options[0], 0.99, env, debug=True)\n",
        "print(r[1])"
      ]
    },
    {
      "cell_type": "markdown",
      "metadata": {
        "id": "NYu4kyvhubIz"
      },
      "source": [
        "### Задание 4\n",
        "Видим, что опции не обучились действовать в такой ситуации. \n",
        "Исправим нашу функцию обучения так, чтобы опции работали корректно для всех возможных состояний среды и сгенерируем их заново."
      ]
    },
    {
      "cell_type": "code",
      "execution_count": 73,
      "metadata": {
        "id": "VuJNt_fNubIz"
      },
      "outputs": [],
      "source": [
        "def play_and_train_modified(env, agent, t_max=10 ** 4, rng=None):\n",
        "    # Зададим новую функцию play_and_train, которая \n",
        "    # в качестве начального состояния выбирает любое \n",
        "    # состояние среды,включая и то, когда пассажир \n",
        "    # находится в такси\n",
        "    if rng is None or isinstance(rng, int):\n",
        "        rng = np.random.default_rng(rng)\n",
        "\n",
        "    total_discounted_reward = 0.0\n",
        "    s, _ = env.reset()\n",
        "    \n",
        "    # Выбираем случайное состояние среды\n",
        "    # (используем метод env.uwrapped)\n",
        "    ####### Здесь ваш код ########\n",
        "    s = env.unwrapped.observation_space.sample()\n",
        "    ##############################\n",
        "\n",
        "    for t in range(t_max):\n",
        "        a = agent.act(s)\n",
        "        next_s, r, terminated, truncated = env.step(a)\n",
        "        done = terminated or truncated\n",
        "        agent.update(s, a, next_s, r, done)\n",
        "        s = next_s\n",
        "        total_discounted_reward += r\n",
        "        if done: break\n",
        "            \n",
        "    return total_discounted_reward\n",
        "\n",
        "\n",
        "for index in range(4):\n",
        "    for _ in range(7000):\n",
        "        wrapped_env = TaxiStepWrapper(\n",
        "            env=environment, \n",
        "            target_id=index, target_reward=50\n",
        "        )\n",
        "        play_and_train_modified(\n",
        "            env=wrapped_env, \n",
        "            agent=agents_for_options[index],\n",
        "            rng=rng\n",
        "        )\n"
      ]
    },
    {
      "cell_type": "markdown",
      "metadata": {
        "id": "5R8CgPM5ubI0"
      },
      "source": [
        "Запустим данную ячейку несколько раз и убедимся, что агент обучился для всех случаев!"
      ]
    },
    {
      "cell_type": "code",
      "execution_count": 74,
      "metadata": {
        "id": "eDGNRnhkubI0",
        "colab": {
          "base_uri": "https://localhost:8080/"
        },
        "outputId": "13193b1b-c115-4918-b529-b81e4dffc7f4"
      },
      "outputs": [
        {
          "output_type": "stream",
          "name": "stdout",
          "text": [
            "+---------+\n",
            "|\u001b[43mR\u001b[0m: | : :G|\n",
            "| : | : : |\n",
            "| : : : : |\n",
            "| | : | : |\n",
            "|\u001b[35m\u001b[34;1mY\u001b[0m\u001b[0m| : |B: |\n",
            "+---------+\n",
            "  (North)\n",
            "\n",
            "(10, -10.466174574128354, True, False)\n"
          ]
        }
      ],
      "source": [
        "env = environment\n",
        "s, _ = env.reset()\n",
        "\n",
        "env.unwrapped.s = rng.integers(0, 499)\n",
        "r = apply_option(options[0], 0.99, env, debug=True)\n",
        "print(r)"
      ]
    },
    {
      "cell_type": "markdown",
      "metadata": {
        "id": "VEfAb-V4ubI0"
      },
      "source": [
        "### Объединение в иерархию\n",
        "Реализуйте иерархию, используя элементарные (опции из одного действия) и обученные опции."
      ]
    },
    {
      "cell_type": "markdown",
      "metadata": {
        "id": "x_9ZagBiubI0"
      },
      "source": [
        "#### Добавим элементарные опции (опции из одного действия: посадка и высадка пассажира):"
      ]
    },
    {
      "cell_type": "code",
      "execution_count": 75,
      "metadata": {
        "id": "vR-FThiwubI1"
      },
      "outputs": [],
      "source": [
        "# для действий 4-5 (pickup, dropoff) создаем \n",
        "# элементарные опции:\n",
        "class OneActionAgent:\n",
        "    def __init__(self, action):\n",
        "        self.action = action\n",
        "    \n",
        "    def act(self, state):\n",
        "        return self.action\n",
        "    \n",
        "    def update(*args, **kwargs):\n",
        "        pass\n",
        "\n",
        "options = options[:4]    \n",
        "for action in range(4, 6):\n",
        "    # элементарная опция начинается в любом состоянии, \n",
        "    # выполняет любое действие и завершается\n",
        "    initial = set(range(environment.observation_space.n))\n",
        "    termination_prob = {\n",
        "        s: 1.0\n",
        "        for s in range(environment.observation_space.n)\n",
        "    }\n",
        "    options.append(\n",
        "        Option(policy=OneActionAgent(action), termination_prob=termination_prob, initial=initial)\n",
        "    )"
      ]
    },
    {
      "cell_type": "markdown",
      "metadata": {
        "id": "vjd4JV7dubI1"
      },
      "source": [
        "#### Проверим элементарные опции:"
      ]
    },
    {
      "cell_type": "code",
      "execution_count": 77,
      "metadata": {
        "id": "4mta9jrYubI1",
        "colab": {
          "base_uri": "https://localhost:8080/"
        },
        "outputId": "629adaff-ff7a-4743-fd22-b73668d03d31"
      },
      "outputs": [
        {
          "output_type": "stream",
          "name": "stdout",
          "text": [
            "+---------+\n",
            "|\u001b[35m\u001b[43mR\u001b[0m\u001b[0m: | : :G|\n",
            "| : | : : |\n",
            "| : : : : |\n",
            "| | : | : |\n",
            "|\u001b[34;1mY\u001b[0m| : |B: |\n",
            "+---------+\n",
            "  (North)\n",
            "\n",
            "+---------+\n",
            "|\u001b[35m\u001b[43mR\u001b[0m\u001b[0m: | : :G|\n",
            "| : | : : |\n",
            "| : : : : |\n",
            "| | : | : |\n",
            "|\u001b[34;1mY\u001b[0m| : |B: |\n",
            "+---------+\n",
            "  (Pickup)\n",
            "\n"
          ]
        }
      ],
      "source": [
        "env = environment\n",
        "s, _ = env.reset()\n",
        "\n",
        "env.unwrapped.s = rng.integers(0, 499)\n",
        "_ = apply_option(options[0], 0.99, env, debug=True)\n",
        "_ = apply_option(options[4], 0.99, env, debug=True)"
      ]
    },
    {
      "cell_type": "markdown",
      "metadata": {
        "id": "mMtQ_XLlubI1"
      },
      "source": [
        "#### Реализуем обертку для окружения, которая вместо действий применяет опции (в качестве входа - список опций):"
      ]
    },
    {
      "cell_type": "code",
      "execution_count": 78,
      "metadata": {
        "id": "sTjGpBhAubI1"
      },
      "outputs": [],
      "source": [
        "class OptionTaxiStepWrapper(gym.Wrapper):\n",
        "    def __init__(self, env, options, gamma=0.99):\n",
        "        self.options = options\n",
        "        self.gamma = gamma\n",
        "        super().__init__(env)\n",
        "\n",
        "    def step(self, action):\n",
        "        state, reward, terminated, truncated = apply_option(\n",
        "            self.options[action], self.gamma, self.unwrapped\n",
        "        )\n",
        "        return state, reward, terminated, truncated\n"
      ]
    },
    {
      "cell_type": "code",
      "source": [
        "baseline_params = dict(\n",
        "    learning_rate=0.1,\n",
        "    epsilon=0.1, \n",
        "    gamma=0.99,\n",
        "    get_legal_actions=lambda s: range(environment.action_space.n),\n",
        "    seed=rng.integers(100_000_000)\n",
        ")\n",
        "baseline_agent = QLearningAgent(**baseline_params)\n",
        "\n"
      ],
      "metadata": {
        "id": "uFEQ77nA9URq"
      },
      "execution_count": 79,
      "outputs": []
    },
    {
      "cell_type": "code",
      "execution_count": 86,
      "metadata": {
        "id": "RexzHqECubI2",
        "colab": {
          "base_uri": "https://localhost:8080/",
          "height": 430
        },
        "outputId": "acf5d129-8327-4723-a109-aaa9a9c9776c"
      },
      "outputs": [
        {
          "output_type": "display_data",
          "data": {
            "text/plain": [
              "<Figure size 640x480 with 1 Axes>"
            ],
            "image/png": "[encoded data removed]"
          },
          "metadata": {}
        }
      ],
      "source": [
        "option_agent = QLearningAgent(\n",
        "    learning_rate=0.1, epsilon=0.2, gamma=0.99,\n",
        "    get_legal_actions=lambda s: range(len(options)),\n",
        "    seed=rng.integers(100_000_000)\n",
        ")\n",
        "from IPython.display import clear_output\n",
        "ema = [0]\n",
        "alpha = 0.1\n",
        "# создаем окружение, использующее опции\n",
        "env = OptionTaxiStepWrapper(gym.make('Taxi-v3', render_mode='ansi'), options=options)\n",
        "\n",
        "rewards = []\n",
        "baseline_rewards = []\n",
        "\n",
        "for episode in range(5000):\n",
        "    r = play_and_train(env=env, agent=option_agent)\n",
        "    rewards.append(r)\n",
        "    ema.append(alpha * r + (1 - alpha) * ema[-1])\n",
        "    # baseline_rewards.append(\n",
        "    #     play_and_train(env=env, agent=baseline_agent)\n",
        "    # )\n",
        "\n",
        "    if episode % 100 == 0:\n",
        "        clear_output(True)\n",
        "        option_agent.epsilon *= 0.94\n",
        "        # baseline_agent.epsilon *= 0.94\n",
        "\n",
        "        # plt.plot(baseline_rewards, label = \"baseline\")\n",
        "        plt.plot(rewards, label = \"with options\")\n",
        "        plt.plot(ema, label = r\"EMA with $\\alpha$=\" + str(alpha))\n",
        "\n",
        "        plt.legend(loc=\"best\")\n",
        "        plt.show()"
      ]
    },
    {
      "cell_type": "code",
      "source": [],
      "metadata": {
        "id": "uB1AbmZpBfND"
      },
      "execution_count": 19,
      "outputs": []
    }
  ],
  "metadata": {
    "kernelspec": {
      "display_name": "Python 3 (ipykernel)",
      "language": "python",
      "name": "python3"
    },
    "language_info": {
      "codemirror_mode": {
        "name": "ipython",
        "version": 3
      },
      "file_extension": ".py",
      "mimetype": "text/x-python",
      "name": "python",
      "nbconvert_exporter": "python",
      "pygments_lexer": "ipython3",
      "version": "3.9.16"
    },
    "colab": {
      "provenance": []
    }
  },
  "nbformat": 4,
  "nbformat_minor": 0
}