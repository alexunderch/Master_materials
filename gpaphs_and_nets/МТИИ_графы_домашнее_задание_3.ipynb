{
  "cells": [
    {
      "cell_type": "markdown",
      "metadata": {
        "id": "view-in-github",
        "colab_type": "text"
      },
      "source": [
        "<a href=\"https://colab.research.google.com/github/alexunderch/Master_materials/blob/main/gpaphs_and_nets/%D0%9C%D0%A2%D0%98%D0%98_%D0%B3%D1%80%D0%B0%D1%84%D1%8B_%D0%B4%D0%BE%D0%BC%D0%B0%D1%88%D0%BD%D0%B5%D0%B5_%D0%B7%D0%B0%D0%B4%D0%B0%D0%BD%D0%B8%D0%B5_3.ipynb\" target=\"_parent\"><img src=\"https://colab.research.google.com/assets/colab-badge.svg\" alt=\"Open In Colab\"/></a>"
      ]
    },
    {
      "cell_type": "markdown",
      "metadata": {
        "id": "Swyrb0m3EYor"
      },
      "source": [
        "# Домашнее задание №3 по курсу «Графы и сети» (МТИИ, осень 2022)"
      ]
    },
    {
      "cell_type": "markdown",
      "metadata": {
        "id": "OgjDx3uYFvHR"
      },
      "source": [
        "Присылайте выполненное задание аналогично предыдущим домашним работам"
      ]
    },
    {
      "cell_type": "code",
      "source": [
        "!pip install -qq pomegranate\n",
        "!apt install libgraphviz-dev\n",
        "!pip install -qq pygraphviz"
      ],
      "metadata": {
        "id": "YQn5zA3BmQx2",
        "colab": {
          "base_uri": "https://localhost:8080/"
        },
        "outputId": "85706594-e4fa-45ee-c999-4b4efa2fc4ce"
      },
      "execution_count": null,
      "outputs": [
        {
          "output_type": "stream",
          "name": "stdout",
          "text": [
            "\u001b[K     |████████████████████████████████| 4.3 MB 4.7 MB/s \n",
            "\u001b[?25h  Installing build dependencies ... \u001b[?25l\u001b[?25hdone\n",
            "  Getting requirements to build wheel ... \u001b[?25l\u001b[?25hdone\n",
            "    Preparing wheel metadata ... \u001b[?25l\u001b[?25hdone\n",
            "  Building wheel for pomegranate (PEP 517) ... \u001b[?25l\u001b[?25hdone\n"
          ]
        }
      ]
    },
    {
      "cell_type": "code",
      "execution_count": null,
      "metadata": {
        "id": "YX0nqZyeEYou"
      },
      "outputs": [],
      "source": [
        "import networkx as nx\n",
        "import pomegranate as pg\n",
        "from numpy import random\n",
        "from itertools import combinations\n",
        "import math"
      ]
    },
    {
      "cell_type": "markdown",
      "metadata": {
        "id": "6I7OY22uEYoy"
      },
      "source": [
        "### Задание 1\n",
        "Постройте случайный граф на $n=200$ вершинах, согласно модели Эрдёша—Реньи с вероятностью появления ребра $p=\\frac{1}{2}$. Напишите свой код генерации случайного графа, не пользуясь встроенным в `networkx` генератором [`gnp_random_graph`](https://networkx.org/documentation/stable/reference/generated/networkx.generators.random_graphs.gnp_random_graph.html) и подобными. Посчитайте кликовое число в среднем по 10-20 сгенерированных графах. Насколько кликовое число далёко от теоретического среднего в $2\\log_{1/p}n$?"
      ]
    },
    {
      "cell_type": "code",
      "execution_count": null,
      "metadata": {
        "id": "ylFz7rNcEYoy",
        "colab": {
          "base_uri": "https://localhost:8080/"
        },
        "outputId": "49fa458a-3759-4bac-de7f-cab87ccda274"
      },
      "outputs": [
        {
          "output_type": "stream",
          "name": "stdout",
          "text": [
            "Sample clique number (`networkx`): 10.866666666666667\n",
            "Sample clique number: 11.133333333333333\n",
            "Theoretical clique number: 15.287712379549449\n",
            "Theoretical clique number (corrected): 10.596634733096073\n"
          ]
        }
      ],
      "source": [
        "n = 200\n",
        "p = .5\n",
        "N = 15\n",
        "\n",
        "def make_random_graph(n: int, p: float, _seed: int = None) -> nx.Graph:\n",
        "    random.seed(_seed)\n",
        "    G = nx.Graph()\n",
        "    G.add_nodes_from(range(n))\n",
        "    for u, v in combinations(G.nodes(), 2):\n",
        "        if random.binomial(1, p) == 1:\n",
        "            G.add_edge(u, v)\n",
        "    return G\n",
        "\n",
        "avg_nx = []\n",
        "for _seed in range(N):\n",
        "    avg_nx.append(nx.graph_clique_number(nx.gnp_random_graph(n, p)))\n",
        "print(\"Sample clique number (`networkx`):\", sum(avg_nx) / N)\n",
        "\n",
        "avg = []\n",
        "for _seed in range(N):\n",
        "    G = make_random_graph(n, p, _seed)\n",
        "    avg.append(nx.graph_clique_number(G))\n",
        "print(\"Sample clique number:\", sum(avg) / N)\n",
        "\n",
        "print(\"Theoretical clique number:\", 2 * math.log(n, 1/p))\n",
        "print(\"Theoretical clique number (corrected):\", 2 * math.log(n))"
      ]
    },
    {
      "cell_type": "markdown",
      "metadata": {
        "id": "FQ6dGhfdEYoz"
      },
      "source": [
        "В [книгe](https://www.mccme.ru/free-books/dubna/raigor-4.pdf) см. теорему 17, которая доказана для хроматического числа графа $\\chi(G)$ для $p = \\frac{1}{2}$. Как известно,\n",
        "$\\chi(G) \\geq ω(G)$, а равенство достигается, например, на полных графах, но на произвольных оценка может и не достигаться."
      ]
    },
    {
      "cell_type": "markdown",
      "metadata": {
        "id": "neS1iFI0EYo1"
      },
      "source": [
        "### Задание 2\n",
        "Смоделируйте случайный граф в модели предпочтительного присоединения или другой отличной от Эрдёша—Реньи (согласно Вашему представлению о естественном росте, скажем, социальной сети). Опишите свою модель и приведите пример характеристик графа, которые отличаются в Вашей модели от соответствующих характеристик модели Эрдёша—Реньи.\n",
        "\n",
        "Возьмём модель роста социальной сети предпочтительного присоединения Барбаши-Альберта (`a Barabási–Albert preferential attachment model` [Википедия](https://en.wikipedia.org/wiki/Barabási–Albert_model))"
      ]
    },
    {
      "cell_type": "code",
      "execution_count": null,
      "metadata": {
        "id": "JUbYkU1eEYo1"
      },
      "outputs": [],
      "source": [
        "import numpy as np\n",
        "import networkx as nx\n",
        "import random \n",
        "import matplotlib.pyplot as plt\n",
        "\n",
        "def sample_nodes(G:nx.Graph, distribution: list, m: int):\n",
        "    targets = set()\n",
        "\n",
        "    while len(targets) < m:\n",
        "        targets.add(np.random.choice(G.nodes(), p=distribution))\n",
        "    return targets\n",
        "\n",
        "def barabasi_albert_graph(n: int, m: int, alpha: float, initial_graph: nx.Graph) -> nx.Graph:\n",
        "    assert m > 1 and m <= n\n",
        "    assert alpha > 0 and alpha <= 1.\n",
        "\n",
        "    G = initial_graph.copy()\n",
        "\n",
        "    source = len(G)\n",
        "    while source < n:\n",
        "        degrees = np.array([d ** alpha for _, d in G.degree()])\n",
        "        degrees /= degrees.sum()\n",
        "\n",
        "        targets = sample_nodes(G, degrees, m)\n",
        "\n",
        "        G.add_edges_from(zip([source] * m, targets))\n",
        "\n",
        "        source += 1\n",
        "    return G\n",
        "\n",
        "def compute_statistics(G: nx.Graph) -> dict:\n",
        "    return dict(\n",
        "        avg_clustering_coeff = nx.average_clustering(G),\n",
        "        clique_number = nx.graph_clique_number(G),\n",
        "        degree_distibution = np.mean([x[1] for x in G.degree()])\n",
        "    )\n",
        "\n",
        "def set_experiment(initial_followers: int, target_followers: int, added_followers: int, pref_att_coeff: float, seed: int):\n",
        "    random.seed(seed)\n",
        "    np.random.seed(seed)\n",
        "\n",
        "    initial_graph = nx.star_graph(initial_followers)\n",
        "    G = barabasi_albert_graph(target_followers, added_followers, pref_att_coeff, initial_graph)\n",
        "    return G, compute_statistics(G)\n"
      ]
    },
    {
      "cell_type": "code",
      "source": [
        "n0 = 15\n",
        "n = 50\n",
        "m = 10\n",
        "alpha = .1\n",
        "total_stats = dict(\n",
        "                    avg_clustering_coeff = [],\n",
        "                    clique_number = [],\n",
        "                    degree_distibution = []\n",
        "                  )\n",
        "\n",
        "for seed in range(20):\n",
        "    G, stats =  set_experiment(n0, n + seed, m, alpha, seed)\n",
        "    for k in total_stats.keys():\n",
        "        total_stats[k].append(stats[k])\n",
        "\n",
        "for k in total_stats.keys():\n",
        "    plt.plot(range(20), total_stats[k], label = k)\n",
        "\n",
        "plt.legend()\n",
        "plt.grid()\n",
        "plt.show()\n",
        "\n",
        "\n",
        "                               "
      ],
      "metadata": {
        "colab": {
          "base_uri": "https://localhost:8080/",
          "height": 265
        },
        "id": "RMlhfjBB5STb",
        "outputId": "1857adea-41dd-41c7-de30-abd871811b7d"
      },
      "execution_count": null,
      "outputs": [
        {
          "output_type": "display_data",
          "data": {
            "text/plain": [
              "<Figure size 432x288 with 1 Axes>"
            ],
            "image/png": "[encoded data removed]"
          },
          "metadata": {
            "needs_background": "light"
          }
        }
      ]
    },
    {
      "cell_type": "markdown",
      "metadata": {
        "id": "32c8DtO-EYo1"
      },
      "source": [
        "Ваши комментарии"
      ]
    },
    {
      "cell_type": "code",
      "source": [
        "seed = 42\n",
        "n0 = 15\n",
        "n = 50\n",
        "m = 10\n",
        "alpha = .1\n",
        "G, stats =  set_experiment(n0, n, m, alpha, seed)\n",
        "plt.hist([ G.degree(node) for node in G.nodes()], bins = len(G)//2)\n",
        "plt.plot()"
      ],
      "metadata": {
        "colab": {
          "base_uri": "https://localhost:8080/",
          "height": 282
        },
        "id": "MBiJDOJ3-b28",
        "outputId": "cfab6086-f0a2-403a-ebfd-bda20ace9d2e"
      },
      "execution_count": null,
      "outputs": [
        {
          "output_type": "execute_result",
          "data": {
            "text/plain": [
              "[]"
            ]
          },
          "metadata": {},
          "execution_count": 50
        },
        {
          "output_type": "display_data",
          "data": {
            "text/plain": [
              "<Figure size 432x288 with 1 Axes>"
            ],
            "image/png": "[encoded data removed]"
          },
          "metadata": {
            "needs_background": "light"
          }
        }
      ]
    },
    {
      "cell_type": "markdown",
      "metadata": {
        "id": "zUCWG1-aEYo2"
      },
      "source": [
        "### Задание 3\n",
        "Смоделируйте с помощью скрытой марковской модели следующую ситуацию. Гражданин Рассеянный в зависимости (почти) от погоды надевает либо футболку, либо плащ, либо тулуп. Когда жарко, он равновероятно надевает каждый из трёх видов одежды. Когда холодно, он не надевает плащ, а равновероятно надевает футболку либо тулуп. Когда температура средняя, он надевает исключительно тулуп либо плащ. Температура никогда не меняется резко (жаркая погода сменяется на холодную, и наоборот, — только через среднее состояние); при этом каждое состояние погоды равновероятно может остаться без изменений либо смениться на любое другое допустимое. На протяжении недели Рассеянный постил свои фото в Instagram в следующей одежде:\n",
        "- пн: тулуп,\n",
        "- вт: тулуп,\n",
        "- ср: плащ,\n",
        "- чт: футболка,\n",
        "- пт: плащ,\n",
        "- сб: плащ,\n",
        "- вс: футболка.\n",
        "\n",
        "Какая наиболее вероятная погода стояла на улице Бассейной в каждый из этих дней?"
      ]
    },
    {
      "cell_type": "code",
      "execution_count": null,
      "metadata": {
        "id": "hfuq4eJZEYo2",
        "colab": {
          "base_uri": "https://localhost:8080/"
        },
        "outputId": "d259530d-f9b7-4ec6-df76-98887e8e8917"
      },
      "outputs": [
        {
          "output_type": "stream",
          "name": "stdout",
          "text": [
            "likelihood: -14.438307738602468\n",
            "start -> cold -> cold -> warm -> cold -> warm -> warm -> cold -> end\n"
          ]
        }
      ],
      "source": [
        "# Ваш код\n",
        "\n",
        "weather = [\"cold\", \"warm\", \"hot\"]\n",
        "clothes = [\"coat\", \"tshirt\", \"cloak\"]\n",
        "dow = [\"monday\", \"tuesday\", \"wednesday\", \"thursday\", \"friday\", \"saturday\", \"sunday\"]\n",
        "probs = [[0.5, 0.5, 0.0], [0.5, 0., 0.5], [1./3, 1./3, 1./3]]\n",
        "\n",
        "dist = {w: pg.DiscreteDistribution({c: p for c, p in zip(clothes, probs[i])})\\\n",
        "        for i, w in enumerate(weather)}\n",
        "\n",
        "states = [pg.State(state_dist, name = state_name)\\\n",
        "          for state_name, state_dist in dist.items()]\n",
        "hmm = pg.HiddenMarkovModel(name = \"bruh\")\n",
        "hmm.start.name = \"start\"\n",
        "hmm.end.name = \"end\"\n",
        "hmm.add_states(states)\n",
        "\n",
        "hmm.add_transitions(hmm.start, states, [1./3, 1./3, 1./3])\n",
        "hmm.add_transitions(states, hmm.end, [1./3, 1./3, 1./3])\n",
        "\n",
        "hmm.add_transitions(states[0], [states[0], states[1], states[2]], [0.5, 0.5, 0.0])\n",
        "hmm.add_transitions(states[1], [states[0], states[1], states[2]], [1./3, 1./3, 1./3])\n",
        "hmm.add_transitions(states[2], [states[0], states[1], states[2]], [0.0, 0.5, 0.5])\n",
        "hmm.bake()\n",
        "\n",
        "\n",
        "logp, path = hmm.viterbi([\"coat\", \"coat\", \"cloak\", \"tshirt\", \"cloak\", \"cloak\", \"tshirt\"])\n",
        "print(f\"likelihood: {logp}\")\n",
        "print(\n",
        "    \" -> \".join([\n",
        "        step[1].name \\\n",
        "        for ind, step in enumerate(path)\n",
        "        ])\n",
        ")"
      ]
    },
    {
      "cell_type": "markdown",
      "metadata": {
        "id": "EZUTFdnJEYo3"
      },
      "source": [
        "### Задание 4\n",
        "С использованием pomegranate или другой (согласованной предварительно) библиотеки смоделируйте следующую ситуацию. \n",
        "\n",
        "Виктор работает в фирме Macrohard вместе со своими коллегами Кейт и Джоном. В городе, где находится офис Macrohard, с вероятностью 0.1 может произойти землетрясение. В этом случае по радио гарантированно объявляют об угрозе землетрясения, а в зданиях с вероятностью 0.4 от сейсмического толчка срабатывает сигнализация. Кроме того, с вероятностью 0.02 в здании может произойти ограбление и в этом случае сигнализация сработает наверняка. Джон и Виктор не слушают радио во время обеденного перерыва, а Кейт включает радио с вероятностью 0.5. Если происходит что-то необычное, Кейт всегда звонит Виктору, а Джон звонит Виктору с вероятностью 0.3. Джон и Кейт обычно обедают в офисе, а Виктор перекусывает в парке. \n",
        "\n",
        "Случилось следующее:  во время обеда Кейт позвонила Виктору и сказала, что, вероятно, в городе землетрясение. К сожалению, ровно в этот момент сел аккумулятор в её смартфоне, и Виктор так и не понял, Кейт позвонила ему потому, что услышала о землетрясении по радио, или потому, что Кейт осталась обедать в офисе и услышала сигнализацию. Джон Виктору не позвонил. Какова (апостериорная) вероятность того, что в городе землетрясение?"
      ]
    },
    {
      "cell_type": "code",
      "execution_count": null,
      "metadata": {
        "id": "oN4WYlfgEYo3"
      },
      "outputs": [],
      "source": [
        "bayesian_net = pg.BayesianNetwork(\"'Why did Kate call Victor?' Problem\")\n",
        "\n",
        "Eathquake = pg.DiscreteDistribution({\"1\": 0.1, \"0\": 0.9})\n",
        "Robbery = pg.DiscreteDistribution({\"1\": 0.02, \"0\": 0.98})\n",
        "\n",
        "\n",
        "Alarm =  pg.ConditionalProbabilityTable([\n",
        "            [\"1\", \"0\", \"0\", 0.0], #p(A|nothing)\n",
        "            [\"1\", \"0\", \"1\", 0.4], #p(A|E)\n",
        "            [\"1\", \"1\", \"0\", 1.0], #p(A|R)\n",
        "            [\"1\", \"1\", \"1\", 1.0], #p(A|R, E)\n",
        "            ###################\n",
        "            [\"0\", \"0\", \"0\", 1.0], #p(not A|nothing)\n",
        "            [\"0\", \"0\", \"1\", 0.6], #p(not A|E)\n",
        "            [\"0\", \"1\", \"0\", 0.0], #p(not A|R)\n",
        "            [\"0\", \"1\", \"1\", 0.0]], [Robbery, Eathquake])\n",
        "\n",
        "KateRadio =  pg.ConditionalProbabilityTable([\n",
        "            [\"1\", \"1\", 0.5],\n",
        "            [\"1\", \"0\", 0.5],\n",
        "            [\"0\", \"1\", 0.0],\n",
        "            [\"0\", \"0\", 1.0]], [Eathquake])\n",
        "\n",
        "KateVictor = pg.ConditionalProbabilityTable([\n",
        "            [\"1\", \"0\", \"0\", 0.0],\n",
        "            [\"1\", \"0\", \"1\", 1.0],\n",
        "            [\"1\", \"1\", \"0\", 1.0],\n",
        "            [\"1\", \"1\", \"1\", 1.0],\n",
        "            ###################\n",
        "            [\"0\", \"0\", \"0\", 1.0],\n",
        "            [\"0\", \"0\", \"1\", 1.0],\n",
        "            [\"0\", \"1\", \"0\", 0.0],\n",
        "            [\"0\", \"1\", \"1\", 0.0]], [Alarm, KateRadio])\n",
        "\n",
        "JohnVictor =  pg.ConditionalProbabilityTable([\n",
        "            [\"1\", \"1\", 0.3],\n",
        "            [\"1\", \"0\", 0.7],\n",
        "            [\"0\", \"1\", 0.0],\n",
        "            [\"0\", \"0\", 1.0]], [Alarm])\n",
        "dists = {\n",
        "    Eathquake: \"Eathquake\",\n",
        "    Robbery: \"Robbery\",\n",
        "    Alarm: \"Alarm\",\n",
        "    KateRadio: \"KateRadio\",\n",
        "    KateVictor: \"KateVictor\",\n",
        "    JohnVictor: \"JohnVictor\"\n",
        "}\n",
        "\n",
        "state_maker = lambda dist: {state_name: pg.State(state_dist, name = state_name)\\\n",
        "                            for state_dist, state_name in dist.items()}\n",
        "\n",
        "states = state_maker(dists)\n",
        "\n",
        "bayesian_net.add_states(*list(states.values()))\n",
        "bayesian_net.add_edge(states[\"Eathquake\"], states[\"Alarm\"])\n",
        "bayesian_net.add_edge(states[\"Robbery\"], states[\"Alarm\"])\n",
        "\n",
        "bayesian_net.add_edge(states[\"Eathquake\"], states[\"KateRadio\"])\n",
        "bayesian_net.add_edge(states[\"KateRadio\"], states[\"KateVictor\"])\n",
        "\n",
        "\n",
        "bayesian_net.add_edge(states[\"Alarm\"], states[\"KateVictor\"])\n",
        "bayesian_net.add_edge(states[\"Alarm\"], states[\"JohnVictor\"])\n",
        "\n",
        "\n",
        "bayesian_net.bake()"
      ]
    },
    {
      "cell_type": "code",
      "source": [
        "print([s.name for s in bayesian_net.states])\n",
        "print(\"p(Kate called Victor | E) = \", bayesian_net.predict_proba([{\"Eathquake\": \"1\"}])[0][4].parameters[0][\"1\"])\n",
        "print(\"The net: \\n\")\n",
        "bayesian_net.plot()"
      ],
      "metadata": {
        "colab": {
          "base_uri": "https://localhost:8080/",
          "height": 317
        },
        "id": "zjCBfN0csuCu",
        "outputId": "0437b7c0-d222-4215-dfbd-a09ed88f4dcd"
      },
      "execution_count": null,
      "outputs": [
        {
          "output_type": "stream",
          "name": "stdout",
          "text": [
            "['Eathquake', 'Robbery', 'Alarm', 'KateRadio', 'KateVictor', 'JohnVictor']\n",
            "p(Kate called Victor | E) =  0.5999999999999999\n",
            "The net: \n",
            "\n"
          ]
        },
        {
          "output_type": "display_data",
          "data": {
            "text/plain": [
              "<Figure size 432x288 with 1 Axes>"
            ],
            "image/png": "[encoded data removed]"
          },
          "metadata": {
            "needs_background": "light"
          }
        }
      ]
    },
    {
      "cell_type": "code",
      "source": [
        "\"\"\"\n",
        "earthquake = DiscreteDistribution({True: 0.1, False: 0.9})\n",
        "heist = DiscreteDistribution({True: 0.02, False: 0.98})\n",
        "\n",
        "alarm = ConditionalProbabilityTable(\n",
        "    [[True, True, True, 1],\n",
        "     [True, True, False, 0],\n",
        "     [True, False, False, 0],\n",
        "     [True, False, True, 1],\n",
        "     [False, True, True, 0.4],\n",
        "     [False, True, False, 0.6],\n",
        "     [False, False, False, 1],\n",
        "     [False, False, True, 0]],\n",
        "     [heist, earthquake]\n",
        ")\n",
        "\n",
        "kate_radio = ConditionalProbabilityTable(\n",
        "    [[True, True, 0.5],\n",
        "     [True, False, 0.5],\n",
        "     [False, True, 0],\n",
        "     [False, False, 1]],\n",
        "     [earthquake]\n",
        ") #both for turnin radio on and earthquake message\n",
        "\n",
        "kate_calling = ConditionalProbabilityTable(\n",
        "    [(i, j, k, int((i or j) == k)) for i, j, k in\n",
        "     list(product([True, False], repeat=3))],\n",
        "    [alarm, kate_radio]\n",
        ")\n",
        "\n",
        "\n",
        "john_calling = ConditionalProbabilityTable(\n",
        "    [(True, True, 0.3),\n",
        "     (True, False, 0.7),\n",
        "     (False, True, 0),\n",
        "     (False, False, 1)],\n",
        "    [alarm]\n",
        ")\n",
        "\"\"\""
      ],
      "metadata": {
        "id": "57aBq-zhy0EQ"
      },
      "execution_count": null,
      "outputs": []
    }
  ],
  "metadata": {
    "colab": {
      "provenance": [],
      "include_colab_link": true
    },
    "kernelspec": {
      "display_name": "Python 3",
      "language": "python",
      "name": "python3"
    },
    "language_info": {
      "codemirror_mode": {
        "name": "ipython",
        "version": 3
      },
      "file_extension": ".py",
      "mimetype": "text/x-python",
      "name": "python",
      "nbconvert_exporter": "python",
      "pygments_lexer": "ipython3",
      "version": "3.7.3"
    }
  },
  "nbformat": 4,
  "nbformat_minor": 0
}