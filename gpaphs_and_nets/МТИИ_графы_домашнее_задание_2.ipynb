{
  "cells": [
    {
      "cell_type": "markdown",
      "metadata": {
        "id": "view-in-github",
        "colab_type": "text"
      },
      "source": [
        "<a href=\"https://colab.research.google.com/github/alexunderch/Master_materials/blob/main/gpaphs_and_nets/%D0%9C%D0%A2%D0%98%D0%98_%D0%B3%D1%80%D0%B0%D1%84%D1%8B_%D0%B4%D0%BE%D0%BC%D0%B0%D1%88%D0%BD%D0%B5%D0%B5_%D0%B7%D0%B0%D0%B4%D0%B0%D0%BD%D0%B8%D0%B5_2.ipynb\" target=\"_parent\"><img src=\"https://colab.research.google.com/assets/colab-badge.svg\" alt=\"Open In Colab\"/></a>"
      ]
    },
    {
      "cell_type": "markdown",
      "metadata": {
        "id": "Swyrb0m3EYor"
      },
      "source": [
        "# Домашнее задание 2"
      ]
    },
    {
      "cell_type": "code",
      "execution_count": null,
      "metadata": {
        "id": "YX0nqZyeEYou"
      },
      "outputs": [],
      "source": [
        "import networkx as nx"
      ]
    },
    {
      "cell_type": "markdown",
      "metadata": {
        "id": "6I7OY22uEYoy"
      },
      "source": [
        "### Задание 1\n",
        "Построив соответствующую сеть и решив для неё задачу о максимальном потоке любым из [имеющихся в networkx алгоритмов](https://networkx.org/documentation/stable/reference/algorithms/flow.html), найдите паросочетание максимального размера в заданном неориентированном двудольном графе $G$ ниже. Убедитесь, что Ваш код проходит тест ниже."
      ]
    },
    {
      "cell_type": "code",
      "execution_count": null,
      "metadata": {
        "id": "ylFz7rNcEYoy"
      },
      "outputs": [],
      "source": [
        "k = 5\n",
        "n = 20\n",
        "G = nx.Graph()\n",
        "G.add_nodes_from(range(2 * n))\n",
        "G.add_edges_from(\n",
        "    (a, b + n) \n",
        "    for a, b in nx.random_regular_graph(k, n, 2022).edges()\n",
        ")\n",
        "# Построенный выше тестовый граф G — двудольный\n",
        "# с номерами вершин в одной доле от 0 до n-1\n",
        "# и в другой доле от n до 2*n-1"
      ]
    },
    {
      "cell_type": "code",
      "source": [
        "try:\n",
        "    bottom_nodes, top_nodes = nx.bipartite.sets(G)\n",
        "except Exception as e:\n",
        "    print(e)"
      ],
      "metadata": {
        "colab": {
          "base_uri": "https://localhost:8080/"
        },
        "id": "r3ew-_YLGOhK",
        "outputId": "fc0980b4-77e2-4a64-f900-01f1b66c0537"
      },
      "execution_count": null,
      "outputs": [
        {
          "output_type": "stream",
          "name": "stdout",
          "text": [
            "Disconnected graph: Ambiguous solution for bipartite sets.\n"
          ]
        }
      ]
    },
    {
      "cell_type": "code",
      "source": [
        "G_net = nx.DiGraph()\n",
        "for e in G.edges:\n",
        "    #now the graph is connected\n",
        "    G_net.add_edge(*e, capacity = 1.)\n",
        "\n",
        "bottom_nodes, top_nodes = nx.bipartite.sets(G_net)\n",
        "\n",
        "#adding source and all edges to the bottom nodes\n",
        "G_net.add_node(0)\n",
        "for v in bottom_nodes:\n",
        "    G_net.add_edge(0, v, capacity = 1.)\n",
        "\n",
        "#adding target and all edges from the top nodes\n",
        "t = max(top_nodes) + 1\n",
        "G_net.add_node(t)\n",
        "for v in top_nodes:\n",
        "    G_net.add_edge(v, t, capacity = 1.)\n"
      ],
      "metadata": {
        "id": "EdSXeaORpgur"
      },
      "execution_count": null,
      "outputs": []
    },
    {
      "cell_type": "code",
      "source": [
        "from networkx.algorithms.flow import edmonds_karp\n",
        "_, flow_dict = nx.maximum_flow(G_net, 0, t, flow_func=edmonds_karp)\n",
        "#filtering nodes without flow in or out\n",
        "M = {k: v for k, v in flow_dict.items() if v != {} and k != 0 and k != t} \n",
        "M = [(k, subk) for k, v in M.items() for subk, subv in v.items() if subv == 1.0 and subk != t]\n"
      ],
      "metadata": {
        "id": "MbvkBAqa4De_"
      },
      "execution_count": null,
      "outputs": []
    },
    {
      "cell_type": "code",
      "execution_count": null,
      "metadata": {
        "id": "bkVY_rZFEYo0",
        "colab": {
          "base_uri": "https://localhost:8080/"
        },
        "outputId": "1428d188-e59e-4789-ec6e-462d1b8200d3"
      },
      "outputs": [
        {
          "output_type": "stream",
          "name": "stdout",
          "text": [
            "True\n"
          ]
        }
      ],
      "source": [
        "# Это простая проверка того, что M образует паросочетание,\n",
        "# и что его размер совпадает с эталонным\n",
        "from functools import reduce\n",
        "print(1 == len({\n",
        "                    2 * len(M),\n",
        "                    len(reduce(lambda e1, e2: set(e1) | set(e2), M)),\n",
        "                    len(nx.bipartite.maximum_matching(G, range(n)))\n",
        "                }\n",
        "               )\n",
        "    )"
      ]
    },
    {
      "cell_type": "markdown",
      "metadata": {
        "id": "neS1iFI0EYo1"
      },
      "source": [
        "### Задание 2\n",
        "Построив соответствующую сеть и решив для неё задачу о максимальном потоке, найдите максимально возможное количество не пересекающихся по внутренним **вершинам** путей между вершинами $s$ и $t$ в заданном неориентированном графе $G$. Убедитесь, что Ваш код проходит тест ниже."
      ]
    },
    {
      "cell_type": "code",
      "execution_count": null,
      "metadata": {
        "id": "JUbYkU1eEYo1"
      },
      "outputs": [],
      "source": [
        "def num_disjoint_paths(G: nx.Graph, s: int, t: int) -> float:\n",
        "    \"\"\"\n",
        "    It is required to build a flow in a given node-connected graph\n",
        "    max flow value = min cut capacity = number of disjoint by vertexes paths\n",
        "    \"\"\"\n",
        "    def build_node_connected_net(G: nx.Graph) -> nx.DiGraph:\n",
        "        directed = G.is_directed()\n",
        "        G_net = nx.DiGraph()\n",
        "        #to remember the original node mapping\n",
        "        mapping = dict()\n",
        "        #duplicating every vertex V = (Vminus, Vplus)\n",
        "        for i, node in enumerate(G):\n",
        "            mapping[node] = i\n",
        "            G_net.add_node(f\"{i}minus\", id = node)\n",
        "            G_net.add_node(f\"{i}plus\", id = node)\n",
        "            G_net.add_edge(f\"{i}minus\", f\"{i}plus\", capacity = 1.)\n",
        "\n",
        "        edges = []\n",
        "        #creating edges like (Vplus, Uminus)\n",
        "        for (u, v) in G.edges():\n",
        "            edges.append((f\"{mapping[u]}plus\", f\"{mapping[v]}minus\"))\n",
        "            if not directed:\n",
        "                edges.append((f\"{mapping[v]}plus\", f\"{mapping[u]}minus\"))\n",
        "        G_net.add_edges_from(edges, capacity = 1.)\n",
        "\n",
        "        # Store the mapping as graph attribute\n",
        "        G_net.graph[\"mapping\"] = mapping\n",
        "        return G_net\n",
        "    H = build_node_connected_net(G)\n",
        "\n",
        "    #these nodes are not necessary to be in the net -- they are redundant\n",
        "    H.remove_nodes_from([f\"{s}minus\", f\"{t}plus\"])\n",
        "    \n",
        "    return nx.maximum_flow_value(H, \n",
        "                                _s = f\"{s}plus\", _t = f\"{t}minus\", \n",
        "                                capacity = \"capacity\")\n"
      ]
    },
    {
      "cell_type": "code",
      "execution_count": null,
      "metadata": {
        "id": "32c8DtO-EYo1",
        "colab": {
          "base_uri": "https://localhost:8080/"
        },
        "outputId": "5f1bf16f-53b2-4c11-d396-4c18e12ffdc1"
      },
      "outputs": [
        {
          "output_type": "stream",
          "name": "stdout",
          "text": [
            "True\n"
          ]
        }
      ],
      "source": [
        "# Простой тест, он должен проходиться при запуске непосредственно после предыдущей ячейки\n",
        "G = nx.mycielski_graph(10)\n",
        "s = 7\n",
        "t = 700\n",
        "print(\n",
        "    num_disjoint_paths(G, s, t) \n",
        "    == \n",
        "    nx.node_connectivity(G, s, t)\n",
        ")\n"
      ]
    },
    {
      "cell_type": "markdown",
      "metadata": {
        "id": "zUCWG1-aEYo2"
      },
      "source": [
        "### Задание 3\n",
        "Построив поток в соответствующей сети, выберите из данного множества задач `tasks` такое подмножество, суммарная выгода выполнения задач которого максимальна. \n",
        "\n",
        "Словарь `prerequisites` содержит для каждой задачи перечень других задач, которые требуется решить перед началом её выполнения (если таковые есть). \n",
        "\n",
        "Словарь `profit` содержит информацию о выгоде решения каждой из задач. Выгоды — целочисленные, могут быть как положительные, так и отрицательные, и нулевые.\n",
        "\n",
        "Также задано множество `compulsory` задач, которые нужно решить в обязательном порядке. Подумайте, и опишите в комментириях, как с минимальными усилиями интегрировать это в рассказанный на лекции алгоритм. Убедитесь, что Ваш код проходит тест ниже."
      ]
    },
    {
      "cell_type": "code",
      "execution_count": null,
      "metadata": {
        "id": "hfuq4eJZEYo2"
      },
      "outputs": [],
      "source": [
        "# Ниже приведён алгоритм решения задачи полным перебором,\n",
        "# результат работы которого можно считать эталонным\n",
        "from itertools import combinations,combinations_with_replacement\n",
        "\n",
        "def brute_force_selection(tasks, prerequisites, profit, compulsory):\n",
        "    best_profit = 0\n",
        "    best_selection = set()\n",
        "    for ss in range(1, len(tasks)):\n",
        "        for c in combinations(tasks, ss):\n",
        "            if any(t not in c for t in compulsory):\n",
        "                continue\n",
        "            for t in c:\n",
        "                if t in prerequisites:\n",
        "                    for p in prerequisites[t]:\n",
        "                        if p not in c:\n",
        "                            break\n",
        "                    else:\n",
        "                        continue\n",
        "                    break\n",
        "            else:\n",
        "                current_profit = sum(profit[t] for t in c)\n",
        "                if current_profit > best_profit:\n",
        "                    best_profit = current_profit\n",
        "                    best_selection = set(c)\n",
        "    return best_selection"
      ]
    },
    {
      "cell_type": "code",
      "execution_count": null,
      "metadata": {
        "id": "EZUTFdnJEYo3"
      },
      "outputs": [],
      "source": [
        "from functools import reduce\n",
        "from networkx.algorithms.flow import edmonds_karp\n",
        "def flow_based_selection(tasks: set, prerequisites: dict, profit: dict, compulsory: set) -> set:\n",
        "    c = 100\n",
        "\n",
        "    #creating an auxillary net\n",
        "    G = nx.DiGraph()\n",
        "    s = min(tasks) - 1\n",
        "    t = max(tasks) + 1\n",
        "    \n",
        "    #adding nodes of proritable and non-profitable tasks\n",
        "    prof, nonprof = set(), set()\n",
        "    G.add_nodes_from([s, t])\n",
        "    for task in tasks:\n",
        "        if profit[task] > 0:\n",
        "            prof.add(task)\n",
        "            G.add_edge(s, task, capacity = profit[task])\n",
        "        else:\n",
        "            nonprof.add(task)\n",
        "            G.add_edge(task, t, capacity = -profit[task])\n",
        "    \n",
        "\n",
        "    #adding interconnected prerequisite projects\n",
        "    for i in prerequisites:\n",
        "        sum_c = 0\n",
        "        for j in prerequisites[i]:\n",
        "            sum_c += abs(profit[j])\n",
        "            G.add_edge(i, j, capacity = sum_c + c)\n",
        "\n",
        "    #adding сompulsory set\n",
        "    for r in compulsory:\n",
        "        G.add_edge(s, r, capacity = c)\n",
        "        \n",
        "    #this should include all necessary projects \n",
        "    cut_value, partition = nx.flow.minimum_cut(G, s, t, capacity = \"capacity\")\n",
        "    result = partition[0]\n",
        "    result.remove(0)\n",
        "    return result\n",
        "\n"
      ]
    },
    {
      "cell_type": "code",
      "execution_count": null,
      "metadata": {
        "id": "oN4WYlfgEYo3",
        "colab": {
          "base_uri": "https://localhost:8080/"
        },
        "outputId": "607eaa77-b0a0-48e3-b5a3-be59c88b4f1b"
      },
      "outputs": [
        {
          "output_type": "stream",
          "name": "stdout",
          "text": [
            "True\n"
          ]
        }
      ],
      "source": [
        "# Простой тест, он должен проходиться при запуске непосредственно после выполнения предыдущей ячейки\n",
        "import random\n",
        "def test(seeds: list):\n",
        "    result = []\n",
        "    for seed in seeds:\n",
        "        random.seed(seed)\n",
        "\n",
        "        tasks = set(range(1, 22))\n",
        "\n",
        "        ranges = [\n",
        "            (1, len(tasks) // 3), \n",
        "            (len(tasks) // 3, 2 * len(tasks) // 3), \n",
        "            (2 * len(tasks) // 3, len(tasks))\n",
        "        ]\n",
        "\n",
        "        prerequisites = {}\n",
        "        for ri, r in enumerate(ranges):\n",
        "            if ri == 0:\n",
        "                continue\n",
        "            for t in range(*r):\n",
        "                if random.randrange(1000)/1000 < 0.4:\n",
        "                    prerequisites[t] = set(random.sample(range(*ranges[ri-1]), 4))\n",
        "\n",
        "        profit = {\n",
        "            task: random.randrange(-7, 15)\n",
        "            for task in tasks\n",
        "        }\n",
        "\n",
        "        compulsory = set(random.sample(tasks, 2))\n",
        "        result.append(1 == len(set(\n",
        "                                    sum(map(profit.get, \n",
        "                                        method(\n",
        "                                            tasks, \n",
        "                                            prerequisites, \n",
        "                                            profit, \n",
        "                                            compulsory\n",
        "                                        )\n",
        "                                    ))\n",
        "                                    for method in [\n",
        "                                        brute_force_selection, \n",
        "                                        flow_based_selection\n",
        "                                    ]\n",
        "                                )))\n",
        "    print(all(result))\n",
        "\n",
        "test([1234, 42, 2022, 6969])"
      ]
    },
    {
      "cell_type": "code",
      "source": [],
      "metadata": {
        "id": "BExPS-XpOLCR"
      },
      "execution_count": null,
      "outputs": []
    }
  ],
  "metadata": {
    "colab": {
      "provenance": [],
      "include_colab_link": true
    },
    "kernelspec": {
      "display_name": "Python 3",
      "language": "python",
      "name": "python3"
    },
    "language_info": {
      "codemirror_mode": {
        "name": "ipython",
        "version": 3
      },
      "file_extension": ".py",
      "mimetype": "text/x-python",
      "name": "python",
      "nbconvert_exporter": "python",
      "pygments_lexer": "ipython3",
      "version": "3.7.3"
    }
  },
  "nbformat": 4,
  "nbformat_minor": 0
}