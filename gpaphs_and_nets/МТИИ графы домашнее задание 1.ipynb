{
 "cells": [
  {
   "cell_type": "markdown",
   "metadata": {},
   "source": [
    "# Домашнее задание 1"
   ]
  },
  {
   "cell_type": "code",
   "execution_count": null,
   "metadata": {},
   "outputs": [],
   "source": [
    "import networkx as nx"
   ]
  },
  {
   "cell_type": "markdown",
   "metadata": {},
   "source": [
    "## Часть 1: анализ графа"
   ]
  },
  {
   "cell_type": "markdown",
   "metadata": {},
   "source": [
    "Откройте с помощью `networkx.read_gml` файл `netscience.gml` из задания на Gephi, при этом не указывайте при импорте “label=None”, чтобы нормально загрузились имена учёных — метки вершин."
   ]
  },
  {
   "cell_type": "code",
   "execution_count": null,
   "metadata": {},
   "outputs": [],
   "source": [
    "# ваш код тут"
   ]
  },
  {
   "cell_type": "markdown",
   "metadata": {},
   "source": [
    "Средствами `networkx` выведите (сделайте `print` количество вершин и рёбер графа."
   ]
  },
  {
   "cell_type": "code",
   "execution_count": null,
   "metadata": {},
   "outputs": [],
   "source": [
    "# ваш код тут"
   ]
  },
  {
   "cell_type": "markdown",
   "metadata": {},
   "source": [
    "Средствами `networkx` найдите количество вершин в самой большой компоненте связности графа."
   ]
  },
  {
   "cell_type": "code",
   "execution_count": null,
   "metadata": {},
   "outputs": [],
   "source": [
    "# ваш код тут"
   ]
  },
  {
   "cell_type": "markdown",
   "metadata": {},
   "source": [
    "Сколько изолированных вершин в графе?"
   ]
  },
  {
   "cell_type": "code",
   "execution_count": null,
   "metadata": {},
   "outputs": [],
   "source": [
    "# ваш код тут"
   ]
  },
  {
   "cell_type": "markdown",
   "metadata": {},
   "source": [
    "Нарисуйте с помощью `networkx.draw_spring` единственную 21-вершинную компоненту связности графа. Может пригодиться метод `subgraph`, возвращающий подграф заданного графа, порождённый заданным множеством вершин."
   ]
  },
  {
   "cell_type": "code",
   "execution_count": null,
   "metadata": {},
   "outputs": [],
   "source": [
    "# ваш код тут"
   ]
  },
  {
   "cell_type": "markdown",
   "metadata": {},
   "source": [
    "Найдите с помощью networkx (см. [документацию](https://networkx.github.io/documentation/stable/reference/algorithms/clique.html)) размер максимальной клики в упомянутой выше 21-вершинной компоненте связности."
   ]
  },
  {
   "cell_type": "code",
   "execution_count": null,
   "metadata": {},
   "outputs": [],
   "source": [
    "# ваш код тут"
   ]
  },
  {
   "cell_type": "markdown",
   "metadata": {},
   "source": [
    "## Часть 2: построение графа"
   ]
  },
  {
   "cell_type": "markdown",
   "metadata": {},
   "source": [
    "Создайте с нуля (только с помощью `add_nodes_from` и `add_edges_from`) граф типа `lollipop` (но без использования встроенной в `networkx` функции `lollipop_graph`) — клику на 10 вершинах, к которой приделана цепь на 6 вершинах. Нарисуйте этот граф наиболее подходящим по Вашему мнению алгоритмом, предоставляемым `networkx` — поэкспериментируйте.\n"
   ]
  },
  {
   "cell_type": "code",
   "execution_count": null,
   "metadata": {},
   "outputs": [],
   "source": [
    "# ваш код тут"
   ]
  },
  {
   "cell_type": "markdown",
   "metadata": {},
   "source": [
    "Создайте граф, который получается из цикла на 10 вершинах добавлением одного ребра между какой-нибудь парой диаметрально противоположных вершин. Нарисуйте этот граф наиболее подходящим по Вашему мнению алгоритмом, предоставляемым networkx — поэкспериментируйте."
   ]
  },
  {
   "cell_type": "code",
   "execution_count": null,
   "metadata": {},
   "outputs": [],
   "source": [
    "# ваш код тут"
   ]
  },
  {
   "cell_type": "markdown",
   "metadata": {},
   "source": [
    "## Часть 3: жадный алгоритм раскраски"
   ]
  },
  {
   "cell_type": "markdown",
   "metadata": {},
   "source": [
    "Найдите для заданного `networkx`-графа $G$ раскраску не более, чем в $\\Delta(G)$ цветов с помощью рассказанного на лекции «жадного» алгоритма. Технически раскраска — это словарь, в котором для каждой вершины указан её номер цвета от $1$ до $\\Delta(G)$."
   ]
  },
  {
   "cell_type": "code",
   "execution_count": null,
   "metadata": {},
   "outputs": [],
   "source": [
    "def greedy_coloring(G):\n",
    "    # Ваш код тут."
   ]
  },
  {
   "cell_type": "code",
   "execution_count": null,
   "metadata": {},
   "outputs": [],
   "source": [
    "# Простой тест алгоритма раскраски (запустите перед отправкой):\n",
    "G = nx.random_regular_graph(7, 500, 2020)\n",
    "coloring = greedy_coloring(G)\n",
    "assert (\n",
    "    max(coloring.values()) <= 7\n",
    "    and\n",
    "    min(coloring.values()) >= 1\n",
    "    and \n",
    "    all(coloring[u] != coloring[v] for u,v in G.edges())\n",
    ")"
   ]
  }
 ],
 "metadata": {
  "kernelspec": {
   "display_name": "Python 3 (ipykernel)",
   "language": "python",
   "name": "python3"
  },
  "language_info": {
   "codemirror_mode": {
    "name": "ipython",
    "version": 3
   },
   "file_extension": ".py",
   "mimetype": "text/x-python",
   "name": "python",
   "nbconvert_exporter": "python",
   "pygments_lexer": "ipython3",
   "version": "3.9.7"
  },
  "toc": {
   "base_numbering": 1,
   "nav_menu": {},
   "number_sections": true,
   "sideBar": true,
   "skip_h1_title": false,
   "title_cell": "Table of Contents",
   "title_sidebar": "Contents",
   "toc_cell": false,
   "toc_position": {},
   "toc_section_display": true,
   "toc_window_display": false
  }
 },
 "nbformat": 4,
 "nbformat_minor": 4
}
