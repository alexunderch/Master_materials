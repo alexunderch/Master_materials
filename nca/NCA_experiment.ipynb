{
  "cells": [
    {
      "cell_type": "markdown",
      "metadata": {
        "id": "view-in-github",
        "colab_type": "text"
      },
      "source": [
        "<a href=\"https://colab.research.google.com/github/alexunderch/Master_materials/blob/main/nca/NCA_experiment.ipynb\" target=\"_parent\"><img src=\"https://colab.research.google.com/assets/colab-badge.svg\" alt=\"Open In Colab\"/></a>"
      ]
    },
    {
      "cell_type": "markdown",
      "metadata": {
        "id": "ZgXwZTvrSjeC"
      },
      "source": [
        "## Basic Imports"
      ]
    },
    {
      "cell_type": "markdown",
      "metadata": {
        "id": "iN6YfVK0UQyI"
      },
      "source": [
        "The majority of used code is taken from [here](https://distill.pub/2020/growing-ca/) and [here](https://github.com/chenmingxiang110/Growing-Neural-Cellular-Automata/blob/master/lib/CAModel.py). Thank you for the inspiration!"
      ]
    },
    {
      "cell_type": "code",
      "execution_count": null,
      "metadata": {
        "id": "agNOAAPrSJiT"
      },
      "outputs": [],
      "source": [
        "import torch\n",
        "import torch.nn as nn\n",
        "import torch.nn.functional as F\n",
        "from torchsummary import summary\n",
        "from PIL import Image as pImage, ImageDraw as pImageDraw\n",
        "import io\n",
        "import base64\n",
        "import zipfile\n",
        "import json\n",
        "import requests\n",
        "import numpy as np\n",
        "import matplotlib.pylab as pl\n",
        "import glob\n",
        "from copy import deepcopy\n",
        "from IPython.display import Image, HTML, clear_output\n",
        "from tqdm.notebook import tqdm\n",
        "\n",
        "\n",
        "import os\n",
        "os.environ['FFMPEG_BINARY'] = 'ffmpeg'\n",
        "import moviepy.editor as mvp\n",
        "from moviepy.video.io.ffmpeg_writer import FFMPEG_VideoWriter\n",
        "clear_output()\n",
        "\n",
        "from typing import Tuple, Callable\n",
        "import dataclasses\n",
        "from dataclasses import dataclass, field"
      ]
    },
    {
      "cell_type": "markdown",
      "metadata": {
        "id": "lM0GVPqhT-Gv"
      },
      "source": [
        "## Constants"
      ]
    },
    {
      "cell_type": "code",
      "execution_count": null,
      "metadata": {
        "id": "J7xI_brtT9TO"
      },
      "outputs": [],
      "source": [
        "#@title Cellular Automata Parameters\n",
        "CHANNEL_N = 16        # Number of CA state channels\n",
        "TARGET_PADDING = 16   # Number of pixels used to pad the target image border\n",
        "TARGET_SIZE = 40\n",
        "BATCH_SIZE = 8\n",
        "POOL_SIZE = 1024\n",
        "CELL_FIRE_RATE = 0.5\n",
        "\n",
        "TARGET_EMOJI = \"🦎\" #@param {type:\"string\"}\n",
        "\n",
        "EXPERIMENT_TYPE = \"Regenerating\" #@param [\"Growing\", \"Persistent\", \"Regenerating\"]\n",
        "EXPERIMENT_MAP = {\"Growing\": 0, \"Persistent\": 1, \"Regenerating\": 2}\n",
        "EXPERIMENT_N = EXPERIMENT_MAP[EXPERIMENT_TYPE]\n",
        "\n",
        "USE_PATTERN_POOL = [0, 1, 1][EXPERIMENT_N]\n",
        "DAMAGE_N = [0, 0, 3][EXPERIMENT_N]  # Number of patterns to damage in a batch"
      ]
    },
    {
      "cell_type": "markdown",
      "metadata": {
        "id": "a9p2vFxaTNUV"
      },
      "source": [
        "## Utilities"
      ]
    },
    {
      "cell_type": "code",
      "execution_count": null,
      "metadata": {
        "id": "m3S_MZlzTM1i"
      },
      "outputs": [],
      "source": [
        "def np2pil(array: np.ndarray) -> Image:\n",
        "    if array.dtype in [np.float32, np.float64]:\n",
        "        array = np.uint8(np.clip(array, 0, 1) * 255)\n",
        "    return pImage.fromarray(array)\n",
        "\n",
        "def to_rgba(x):\n",
        "    # we have CHANNEL_N by default\n",
        "    return x[..., :4]\n",
        "\n",
        "def to_alpha(x):\n",
        "    return np.clip(x[..., 3:4], a_min = 0., a_max = 0.99999)\n",
        "\n",
        "def to_rgb(x):\n",
        "  # assume rgb premultiplied by alpha\n",
        "  rgb, alpha = x[..., :3], to_alpha(x)\n",
        "  return np.clip(1.0 - alpha + rgb, a_min = 0., a_max = 0.99999)\n",
        "\n",
        "def make_seed(size: int, n: int = 1):\n",
        "    x = np.zeros([n, size, size, CHANNEL_N], np.float32)\n",
        "    x[:, size // 2, size // 2, 3:] = 1.0 \n",
        "    return x\n",
        "\n",
        "### loaders\n",
        "def load_image(url: str, \n",
        "               max_size: int = TARGET_SIZE\n",
        "               ) -> np.ndarray:\n",
        "    r = requests.get(url)\n",
        "    img = pImage.open(io.BytesIO(r.content))\n",
        "    img.thumbnail((max_size, max_size), pImage.ANTIALIAS)\n",
        "    img = np.float32(img) / 255.0\n",
        "    # premultiply RGB by Alpha\n",
        "    alpha  = img[..., 3:]\n",
        "    img[..., :3] *= alpha\n",
        "    return img\n",
        "\n",
        "def load_emoji(emoji) -> np.ndarray:\n",
        "    code = hex(ord(emoji))[2:].lower()\n",
        "    url = 'https://github.com/googlefonts/noto-emoji/blob/main/png/128/emoji_u%s.png?raw=true'%code\n",
        "    return load_image(url)\n",
        "\n",
        "# def load_custom_emoji(index: int, path: str):\n",
        "#     im = imageio.imread(path)\n",
        "#     emoji = np.array(im[:, index*40:(index+1)*40].astype(np.float32))\n",
        "#     emoji /= 255.0\n",
        "#     return emoji"
      ]
    },
    {
      "cell_type": "markdown",
      "metadata": {
        "id": "x6L_GGMvTP_r"
      },
      "source": [
        "## Model"
      ]
    },
    {
      "cell_type": "markdown",
      "metadata": {
        "id": "T7fEtgyNcP69"
      },
      "source": []
    },
    {
      "cell_type": "code",
      "execution_count": null,
      "metadata": {
        "id": "GFnl56wESwC_"
      },
      "outputs": [],
      "source": [
        "@dataclass(eq = False)\n",
        "class LittleNCA(torch.nn.Module):\n",
        "    def __post_init__(self):\n",
        "        super().__init__()\n",
        "\n",
        "    channels: int = field(default = CHANNEL_N)\n",
        "    fire_rate: float =  field(default = CELL_FIRE_RATE)\n",
        "    interm_channels: int = field(default = 128)\n",
        "    \n",
        "    def conv_setup(self, init: bool = False): \n",
        "        model = [\n",
        "                    nn.Conv2d(self.channels * 3, self.interm_channels, 1, padding = 0),\n",
        "                    nn.ReLU(),\n",
        "                    nn.Conv2d(self.interm_channels, self.channels, 1, padding = 0, bias = False)    \n",
        "                ]\n",
        "        if init:\n",
        "            with torch.no_grad():\n",
        "                model[-1].weight.zero_()\n",
        "        self.model = nn.Sequential(*model)\n",
        "        return self\n",
        "\n",
        "\n",
        "    @property\n",
        "    def device(self):\n",
        "        return next(self.parameters()).device\n",
        "\n",
        "    def get_living_mask(self, x):\n",
        "        stride_height, stride_width = (1, 1)\n",
        "        out_height, out_width = (1, 1)\n",
        "\n",
        "        alpha = x[:, 3:4, ...]\n",
        "        return F.max_pool2d(\n",
        "                                alpha,\n",
        "                                kernel_size = 3,\n",
        "                                stride = (int(stride_height), int(stride_width)),\n",
        "                                padding = (int(out_height), int(out_width))\n",
        "                            ) > 0.1\n",
        "    @torch.no_grad()    \n",
        "    def perceive(self,\n",
        "                 x: torch.Tensor, \n",
        "                 angle: float = 0.0, \n",
        "                 step_size: float = 1.0):\n",
        "        \n",
        "        identify = np.float32([0, 1, 0])\n",
        "        identify = np.outer(identify, identify)\n",
        "        \"\"\"\n",
        "        identity = \n",
        "                    [[0. 0. 0.]\n",
        "                    [0. 1. 0.]\n",
        "                    [0. 0. 0.]]\n",
        "        \"\"\"\n",
        "        \n",
        "        dx = np.outer([1, 2, 1], [-1, 0, 1]) / 8.0  # Sobel filter\n",
        "        \"\"\"\n",
        "        dx = \n",
        "                    [[-1  0  1]\n",
        "                    [-2  0  2]\n",
        "                    [-1  0  1]]        \n",
        "        \"\"\"\n",
        "        \n",
        "        dy = dx.T\n",
        "        c, s = torch.cos(torch.tensor(angle)), torch.sin(torch.tensor(angle))\n",
        "        \n",
        "        #rotate percieved tensor on `angle`\n",
        "        kernel = torch.stack([torch.Tensor(identify), c * dx - s * dy, s * dx + c * dy], dim = 0)[:, None, ...]\n",
        "        kernel = kernel.repeat(self.channels, 1, 1, 1).to(torch.float32).to(self.device)\n",
        "        kernel.requires_grad_ = False\n",
        "    \n",
        "        return F.conv2d(\n",
        "            input  = x,\n",
        "            weight = kernel,\n",
        "            padding = 1,\n",
        "            groups = self.channels,\n",
        "            stride = (1, 1)\n",
        "        )\n",
        "\n",
        "    def forward(self, \n",
        "                x: torch.Tensor, \n",
        "                fire_rate: float = None, \n",
        "                angle: float = 0.0, \n",
        "                step_size: float = 1.0):\n",
        "        \n",
        "        if fire_rate is None:\n",
        "            fire_rate = self.fire_rate\n",
        "\n",
        "        x = x.transpose(1, 3)\n",
        "\n",
        "        pre_life_mask = self.get_living_mask(x)\n",
        "        y = self.perceive(x, angle = angle)\n",
        "        dx = self.model(y) * step_size\n",
        "\n",
        "        update_mask = torch.randn_like(x[:, :1, ...]) > fire_rate #> or <= ?\n",
        "        update_mask = update_mask.float().to(self.device)\n",
        "        x +=  dx * update_mask\n",
        "\n",
        "        post_life_mask = self.get_living_mask(x)\n",
        "        life_mask = (pre_life_mask & post_life_mask).float()\n",
        "\n",
        "        out = x * life_mask\n",
        "        return out.transpose(1, 3)\n",
        "\n",
        "    def to_onnx(self, name: str):\n",
        "        torch.onnx.export(self.state_dict(), (72, 72, 16), f'onnx_model_{name}.onnx', verbose=True)"
      ]
    },
    {
      "cell_type": "code",
      "execution_count": null,
      "metadata": {
        "colab": {
          "base_uri": "https://localhost:8080/"
        },
        "id": "Aojqcmlgh1EV",
        "outputId": "fa5258d0-0989-4326-bce0-b479fb1cec38"
      },
      "outputs": [
        {
          "name": "stdout",
          "output_type": "stream",
          "text": [
            "----------------------------------------------------------------\n",
            "        Layer (type)               Output Shape         Param #\n",
            "================================================================\n",
            "            Conv2d-1            [-1, 128, 3, 3]           6,272\n",
            "              ReLU-2            [-1, 128, 3, 3]               0\n",
            "            Conv2d-3             [-1, 16, 3, 3]           2,048\n",
            "================================================================\n",
            "Total params: 8,320\n",
            "Trainable params: 8,320\n",
            "Non-trainable params: 0\n",
            "----------------------------------------------------------------\n",
            "Input size (MB): 0.00\n",
            "Forward/backward pass size (MB): 0.02\n",
            "Params size (MB): 0.03\n",
            "Estimated Total Size (MB): 0.05\n",
            "----------------------------------------------------------------\n"
          ]
        }
      ],
      "source": [
        "model = LittleNCA()\n",
        "model.conv_setup(init = True)\n",
        "summary(model = model, input_size = (3, 3, 16), batch_size = -1, device = \"cpu\")"
      ]
    },
    {
      "cell_type": "markdown",
      "metadata": {
        "id": "Am4vfrL-2WXI"
      },
      "source": [
        "## Training utils"
      ]
    },
    {
      "cell_type": "code",
      "execution_count": null,
      "metadata": {
        "id": "jNN47OZqkCx5"
      },
      "outputs": [],
      "source": [
        "#copied from the notebook with tf -> torch modifications\n",
        "\n",
        "def imwrite(f, a, fmt=None):\n",
        "  a = np.asarray(a)\n",
        "  if isinstance(f, str):\n",
        "    fmt = f.rsplit('.', 1)[-1].lower()\n",
        "    if fmt == 'jpg':\n",
        "      fmt = 'jpeg'\n",
        "    f = open(f, 'wb')\n",
        "  np2pil(a).save(f, fmt, quality=95)\n",
        "\n",
        "def imencode(a, fmt='jpeg'):\n",
        "  a = np.asarray(a)\n",
        "  if len(a.shape) == 3 and a.shape[-1] == 4:\n",
        "    fmt = 'png'\n",
        "  f = io.BytesIO()\n",
        "  imwrite(f, a, fmt)\n",
        "  return f.getvalue()\n",
        "\n",
        "def im2url(a, fmt='jpeg'):\n",
        "  encoded = imencode(a, fmt)\n",
        "  base64_byte_string = base64.b64encode(encoded).decode('ascii')\n",
        "  return 'data:image/' + fmt.upper() + ';base64,' + base64_byte_string\n",
        "\n",
        "def imshow(a, fmt='jpeg'):\n",
        "  display(Image(data=imencode(a, fmt)))\n",
        "\n",
        "def tile2d(a, w=None):\n",
        "  a = np.asarray(a)\n",
        "  if w is None:\n",
        "    w = int(np.ceil(np.sqrt(len(a))))\n",
        "  th, tw = a.shape[1:3]\n",
        "  pad = (w-len(a))%w\n",
        "  a = np.pad(a, [(0, pad)]+[(0, 0)]*(a.ndim-1), 'constant')\n",
        "  h = len(a)//w\n",
        "  a = a.reshape([h, w]+list(a.shape[1:]))\n",
        "  a = np.rollaxis(a, 2, 1).reshape([th*h, tw*w]+list(a.shape[4:]))\n",
        "  return a\n",
        "\n",
        "def zoom(img, scale=4):\n",
        "  img = np.repeat(img, scale, 0)\n",
        "  img = np.repeat(img, scale, 1)\n",
        "  return img\n",
        "\n",
        "class VideoWriter:\n",
        "  def __init__(self, filename, fps=30.0, **kw):\n",
        "    self.writer = None\n",
        "    self.params = dict(filename=filename, fps=fps, **kw)\n",
        "\n",
        "  def add(self, img):\n",
        "    img = np.asarray(img)\n",
        "    if self.writer is None:\n",
        "      h, w = img.shape[:2]\n",
        "      self.writer = FFMPEG_VideoWriter(size=(w, h), **self.params)\n",
        "    if img.dtype in [np.float32, np.float64]:\n",
        "      img = np.uint8(img.clip(0, 1)*255)\n",
        "    if len(img.shape) == 2:\n",
        "      img = np.repeat(img[..., None], 3, -1)\n",
        "    self.writer.write_frame(img)\n",
        "\n",
        "  def close(self):\n",
        "    if self.writer:\n",
        "      self.writer.close()\n",
        "\n",
        "  def __enter__(self):\n",
        "    return self\n",
        "\n",
        "  def __exit__(self, *kw):\n",
        "    self.close()\n",
        "\n",
        "class SamplePool:\n",
        "  def __init__(self, *, _parent = None, _parent_idx = None, **slots):\n",
        "    self._parent = _parent\n",
        "    self._parent_idx = _parent_idx\n",
        "    self._slot_names = slots.keys()\n",
        "    self._size = None\n",
        "    for k, v in slots.items():\n",
        "      if self._size is None:\n",
        "        self._size = len(v)\n",
        "      assert self._size == len(v)\n",
        "      setattr(self, k, np.asarray(v))\n",
        "\n",
        "  def sample(self, n):\n",
        "    idx = np.random.choice(self._size, n, False)\n",
        "    batch = {k: getattr(self, k)[idx] for k in self._slot_names}\n",
        "    batch = SamplePool(**batch, _parent=self, _parent_idx=idx)\n",
        "    return batch\n",
        "\n",
        "  def commit(self):\n",
        "    for k in self._slot_names:\n",
        "      getattr(self._parent, k)[self._parent_idx] = getattr(self, k)\n",
        "\n",
        "def make_circle_masks(n, h, w):\n",
        "    x = torch.linspace(-1.0, 1.0, w)[None, None, :]\n",
        "    y = torch.linspace(-1.0, 1.0, h)[None, :, None]\n",
        "    center = torch.distributions.uniform.Uniform(-.5 , .5).sample((2, n, 1, 1)) \n",
        "    r = torch.distributions.uniform.Uniform(.1 , .4).sample((n, 1, 1)) \n",
        "    x, y = (x - center[0]) / r, (y - center[1]) / r\n",
        "    mask = x ** 2 + y ** 2 < 1.0\n",
        "    return mask.to(torch.float32).numpy() \n",
        "\n",
        "def generate_pool_figures(pool, step_i):\n",
        "    \n",
        "    tiled_pool = tile2d(to_rgb(pool.x[:49]))\n",
        "    fade = np.linspace(1.0, 0.0, 72)\n",
        "    ones = np.ones(72) \n",
        "    tiled_pool[:, :72] += (-tiled_pool[:, :72] + ones[None, :, None]) * fade[None, :, None] \n",
        "    tiled_pool[:, -72:] += (-tiled_pool[:, -72:] + ones[None, :, None]) * fade[None, ::-1, None]\n",
        "    tiled_pool[:72, :] += (-tiled_pool[:72, :] + ones[:, None, None]) * fade[:, None, None]\n",
        "    tiled_pool[-72:, :] += (-tiled_pool[-72:, :] + ones[:, None, None]) * fade[::-1, None, None]\n",
        "    imwrite('train_log/%04d_pool.jpg'%step_i, tiled_pool)\n",
        "\n",
        "def visualize_batch(x0, x, step_i):\n",
        "    vis0 = np.hstack(to_rgb(x0))\n",
        "    vis1 = np.hstack(to_rgb(x))\n",
        "    vis = np.vstack([vis0, vis1])\n",
        "    imwrite('train_log/batches_%04d.jpg'%step_i, vis)\n",
        "    print('batch (before/after):')\n",
        "    imshow(vis)\n",
        "\n",
        "def plot_loss(loss_log):\n",
        "    pl.figure(figsize=(10, 4))\n",
        "    pl.title('Loss history (log10)')\n",
        "    pl.plot(np.log10(loss_log), '.', alpha=0.1)\n",
        "    pl.show()\n"
      ]
    },
    {
      "cell_type": "code",
      "execution_count": null,
      "metadata": {
        "colab": {
          "base_uri": "https://localhost:8080/",
          "height": 97
        },
        "id": "-ltncTzmGlU2",
        "outputId": "92dfaeaa-1a05-4a36-9452-32dfea62c4eb"
      },
      "outputs": [
        {
          "data": {
            "image/png": "[encoded data removed]",
            "text/plain": [
              "<IPython.core.display.Image object>"
            ]
          },
          "metadata": {},
          "output_type": "display_data"
        }
      ],
      "source": [
        "#@title Target Emoji\n",
        "target_img = load_emoji(TARGET_EMOJI)\n",
        "imshow(zoom(to_rgb(target_img), 2), fmt='png')"
      ]
    },
    {
      "cell_type": "markdown",
      "metadata": {
        "id": "UNm6Fhps3lgx"
      },
      "source": [
        "## Training\n"
      ]
    },
    {
      "cell_type": "code",
      "execution_count": null,
      "metadata": {
        "colab": {
          "base_uri": "https://localhost:8080/"
        },
        "id": "lepJoNFP3k3h",
        "outputId": "4e8ed9c1-d770-4ec4-d848-ae7470a25d17"
      },
      "outputs": [
        {
          "name": "stdout",
          "output_type": "stream",
          "text": [
            "padded from (40, 40) to (72, 72)\n",
            "device -- cpu -- used\n"
          ]
        }
      ],
      "source": [
        "p = TARGET_PADDING\n",
        "pad_target = np.pad(target_img, [(p, p), (p, p), (0, 0)])\n",
        "print(f\"padded from {target_img.shape[:2]} to {pad_target.shape[:2]}\")\n",
        "\n",
        "h, w = pad_target.shape[:2]\n",
        "seed = np.zeros([h, w, CHANNEL_N], np.float32)\n",
        "seed[h // 2, w // 2, 3:] = 1.0\n",
        "\n",
        "# os.system(\n",
        "#     \"!mkdir -p train_log && rm -f train_log/*\"\n",
        "# )\n",
        "\n",
        "os.makedirs(\"train_log\", exist_ok = True)\n",
        "os.system(\n",
        "     \"rm -f train_log/*\"\n",
        ")\n",
        "\n",
        "device = torch.device(\"cuda\" if torch.cuda.is_available() else \"cpu\")\n",
        "\n",
        "def loss_fn(inp, tgt, reduction: str = \"mean\"):\n",
        "    inp = to_rgba(inp)\n",
        "    if isinstance(inp, np.ndarray):\n",
        "        inp = torch.Tensor(inp)\n",
        "    if isinstance(tgt, np.ndarray):\n",
        "        tgt = torch.Tensor(tgt)\n",
        "    return F.mse_loss(inp, tgt, reduction = \"mean\")\n",
        "\n",
        "@dataclass\n",
        "class NCATrainer:\n",
        "    seed: np.ndarray\n",
        "    tgt_pattern: np.ndarray\n",
        "    device: torch.device\n",
        "    model: torch.nn.Module\n",
        "    n_iterations_bounds: Tuple[int, int] \n",
        "    loss_fn: Callable\n",
        "    optimizer: torch.optim\n",
        "    lr_scheduler: Callable\n",
        "    \n",
        "\n",
        "    def __post_init__(self):\n",
        "        self.model.to(self.device)\n",
        "        self.loss_history = list()\n",
        "        self.pool = SamplePool(x = np.repeat(self.seed[None, ...], POOL_SIZE, 0))\n",
        "        self.tgt_pattern = np.repeat(self.tgt_pattern[None, ...], BATCH_SIZE, 0) \\\n",
        "                           if len(self.tgt_pattern.shape) < 4 else self.tgt_pattern\n",
        "\n",
        "        self.tgt_pattern = torch.from_numpy(self.tgt_pattern.astype(np.float32)).to(self.device)\n",
        "\n",
        "    def training_step(self, batch: Tuple[torch.Tensor, torch.Tensor]):\n",
        "        n_iterations = int(np.random.randint(*self.n_iterations_bounds))\n",
        "        inp, tgt = batch            \n",
        "\n",
        "        for iter in range(n_iterations):\n",
        "            preds = self.model(inp.to(self.device))\n",
        "\n",
        "        self.optimizer.zero_grad()\n",
        "        loss = self.loss_fn(preds, tgt.to(self.device))\n",
        "        loss.backward()\n",
        "\n",
        "        self.optimizer.step()\n",
        "        self.lr_scheduler.step()\n",
        "\n",
        "        return preds, loss\n",
        "    \n",
        "    def train(self, n_epochs):\n",
        "        for epoch in tqdm(range(n_epochs + 1), total = n_epochs) :\n",
        "            if USE_PATTERN_POOL:\n",
        "                batch = self.pool.sample(BATCH_SIZE)\n",
        "                x0 = batch.x.astype(np.float32)\n",
        "\n",
        "                with torch.no_grad():    \n",
        "                    loss_rank = F.mse_loss(torch.from_numpy(to_rgba(x0)).to(device), \n",
        "                                           self.tgt_pattern, \n",
        "                                           reduction = \"none\").mean((-2, -3, -1))\n",
        "                    loss_rank = loss_rank.detach().cpu().numpy().argsort()[::-1]\n",
        "\n",
        "                x0 = x0[loss_rank]\n",
        "                x0[:1] = self.seed\n",
        "                if DAMAGE_N:\n",
        "                    damage = 1.0 - make_circle_masks(DAMAGE_N, h, w)[..., None]\n",
        "                    x0[-DAMAGE_N:] *= damage\n",
        "            else:\n",
        "                x0 = np.repeat(seed[None, ...], BATCH_SIZE, 0)\n",
        "\n",
        "            x0 = torch.from_numpy(x0.astype(np.float32)).to(device)\n",
        "\n",
        "            x, loss = self.training_step((x0, self.tgt_pattern))\n",
        "            x, x0 = x.detach().cpu().numpy(), x0.detach().cpu().numpy()\n",
        "\n",
        "\n",
        "            if USE_PATTERN_POOL:\n",
        "                batch.x[:] = x\n",
        "                batch.commit()\n",
        "\n",
        "            step_i = len(self.loss_history)\n",
        "            self.loss_history.append(loss.item())\n",
        "\n",
        "            if step_i % 10 == 0:\n",
        "                generate_pool_figures(self.pool, step_i)\n",
        "            if step_i % 100 == 0:\n",
        "                clear_output()\n",
        "                visualize_batch(x0, x, step_i)\n",
        "                plot_loss(self.loss_history)\n",
        "                torch.save(self.model.state_dict(), 'train_log/%04d.pth'%step_i)\n",
        "\n",
        "            print('\\r step: %d, log10(loss): %.3f'%(len(self.loss_history), np.log10(loss.item())), end='')\n",
        "\n",
        "print(f\"device -- {device} -- used\")\n",
        "nca = LittleNCA().conv_setup(init = True).to(device)\n",
        "\n",
        "lr = 2e-3\n",
        "optimizer = torch.optim.Adam(params = nca.parameters(), lr = lr)\n",
        "lr_scheduler = torch.optim.lr_scheduler.StepLR(optimizer = optimizer, gamma = .1, step_size = 2000)\n",
        "\n"
      ]
    },
    {
      "cell_type": "code",
      "execution_count": null,
      "metadata": {
        "id": "MxxcOkHOA4lz"
      },
      "outputs": [],
      "source": [
        "trainer = NCATrainer(\n",
        "    seed = seed,\n",
        "    tgt_pattern = pad_target,\n",
        "    device = device,\n",
        "    model = nca,\n",
        "    n_iterations_bounds = (64, 96),\n",
        "    loss_fn = loss_fn,\n",
        "    optimizer = optimizer,\n",
        "    lr_scheduler = lr_scheduler\n",
        ")"
      ]
    },
    {
      "cell_type": "code",
      "execution_count": null,
      "metadata": {
        "colab": {
          "background_save": true,
          "base_uri": "https://localhost:8080/",
          "height": 460
        },
        "id": "AwPIPNqD9tNx",
        "outputId": "83086b74-e1cb-4fce-b773-a4d8cbcc9ee7"
      },
      "outputs": [
        {
          "name": "stdout",
          "output_type": "stream",
          "text": [
            "batch (before/after):\n"
          ]
        },
        {
          "data": {
            "image/jpeg": "[encoded data removed]",
            "text/plain": [
              "<IPython.core.display.Image object>"
            ]
          },
          "metadata": {},
          "output_type": "display_data"
        },
        {
          "data": {
            "image/png": "[encoded data removed]",
            "text/plain": [
              "<Figure size 720x288 with 1 Axes>"
            ]
          },
          "metadata": {},
          "output_type": "display_data"
        },
        {
          "name": "stdout",
          "output_type": "stream",
          "text": [
            " step: 345, log10(loss): -1.516"
          ]
        }
      ],
      "source": [
        "torch.autograd.set_detect_anomaly(True)\n",
        "trainer.train(20_000)"
      ]
    },
    {
      "cell_type": "markdown",
      "metadata": {
        "id": "n2tCvL8ri_L2"
      },
      "source": [
        "## Experiments"
      ]
    },
    {
      "cell_type": "code",
      "execution_count": null,
      "metadata": {
        "id": "wt5Cadj-rlaH"
      },
      "outputs": [],
      "source": [
        "#@title Training Progress (Batches)\n",
        "frames = sorted(glob.glob('train_log/batches_*.jpg'))\n",
        "mvp.ImageSequenceClip(frames, fps=10.0).write_videofile('batches.mp4')\n",
        "mvp.ipython_display('batches.mp4')"
      ]
    },
    {
      "cell_type": "code",
      "execution_count": null,
      "metadata": {
        "id": "Cju1tfheQ71h"
      },
      "outputs": [],
      "source": [
        "#@title Pool Contents\n",
        "frames = sorted(glob.glob('train_log/*_pool.jpg'))[-80:]\n",
        "mvp.ImageSequenceClip(frames, fps=20.0).write_videofile('pool.mp4')\n",
        "mvp.ipython_display('pool.mp4')"
      ]
    },
    {
      "cell_type": "code",
      "execution_count": null,
      "metadata": {
        "id": "VleRKE4pe3IV"
      },
      "outputs": [],
      "source": [
        "#@title Training Progress (Checkpoints)\n",
        "\n",
        "models = []\n",
        "for i in [100, 500, 1000, 4000]:\n",
        "  ca = CAModel()\n",
        "  ca.load_weights('train_log/%04d'%i)\n",
        "  models.append(ca)\n",
        "\n",
        "out_fn = 'train_steps_damage_%d.mp4'%DAMAGE_N\n",
        "x = np.zeros([len(models), 72, 72, CHANNEL_N], np.float32)\n",
        "x[..., 36, 36, 3:] = 1.0\n",
        "with VideoWriter(out_fn) as vid:\n",
        "  for i in tqdm.trange(500):\n",
        "    vis = np.hstack(to_rgb(x))\n",
        "    vid.add(zoom(vis, 2))\n",
        "    for ca, xk in zip(models, x):\n",
        "      xk[:] = ca(xk[None,...])[0]\n",
        "mvp.ipython_display(out_fn)"
      ]
    },
    {
      "cell_type": "code",
      "execution_count": null,
      "metadata": {
        "id": "xdJiNrrngEPk"
      },
      "outputs": [],
      "source": [
        "#@title Converting model to `onnx`-compatible format \n",
        "nca.to_onnx()\n"
      ]
    }
  ],
  "metadata": {
    "accelerator": "GPU",
    "colab": {
      "collapsed_sections": [],
      "provenance": [],
      "include_colab_link": true
    },
    "kernelspec": {
      "display_name": "Python 3",
      "name": "python3"
    },
    "language_info": {
      "name": "python"
    }
  },
  "nbformat": 4,
  "nbformat_minor": 0
}